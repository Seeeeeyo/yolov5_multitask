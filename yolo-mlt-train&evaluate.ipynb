{
 "cells": [
  {
   "cell_type": "markdown",
   "source": [
    "# Notebook to train and evaluate Yolo Mlt (Yolov5 small for object detection and image classification)"
   ],
   "metadata": {
    "collapsed": false
   }
  },
  {
   "cell_type": "markdown",
   "source": [
    "As of today (December 2nd 2022), the goal is to detect [speed signs, road work signs/objects, the horizon of the road] and to classify the road condition [dry/snowy/wet]."
   ],
   "metadata": {
    "collapsed": false
   }
  },
  {
   "cell_type": "markdown",
   "source": [
    "### Imports"
   ],
   "metadata": {
    "collapsed": false
   }
  },
  {
   "cell_type": "code",
   "execution_count": null,
   "outputs": [],
   "source": [
    "import glob\n",
    "import os"
   ],
   "metadata": {
    "collapsed": false
   }
  },
  {
   "cell_type": "code",
   "execution_count": null,
   "outputs": [],
   "source": [
    "pwd"
   ],
   "metadata": {
    "collapsed": false
   }
  },
  {
   "cell_type": "markdown",
   "source": [
    "----------------"
   ],
   "metadata": {
    "collapsed": false
   }
  },
  {
   "cell_type": "markdown",
   "source": [
    "## Training"
   ],
   "metadata": {
    "collapsed": false
   }
  },
  {
   "cell_type": "markdown",
   "source": [
    "### Train the detection task on esmart_wip dataset"
   ],
   "metadata": {
    "collapsed": false
   }
  },
  {
   "cell_type": "markdown",
   "source": [
    "Let's start by training the detection task with all layers activated (besides the classification head just as a security)."
   ],
   "metadata": {
    "collapsed": false
   }
  },
  {
   "cell_type": "code",
   "execution_count": null,
   "outputs": [],
   "source": [
    "!python multitasks/train.py --epochs 30 --img 512 --weights yolo5s.pt --data ../datasets/esmart_wip/data.yaml --batch-size 32 --only_det --freeze 25"
   ],
   "metadata": {
    "collapsed": false,
    "pycharm": {
     "name": "#%%\n"
    }
   }
  },
  {
   "cell_type": "code",
   "execution_count": null,
   "outputs": [],
   "source": [
    "# get the last folder of the folder runs/train-mlt/\n",
    "list_of_files = glob.glob('runs/train-mlt/*')\n",
    "latest_exp_path = max(list_of_files, key=os.path.getmtime)\n",
    "print(latest_exp_path)\n",
    "last_weights = f\"{latest_exp_path}/weights/last.pt\"\n",
    "best_weights = f\"{latest_exp_path}/weights/best.pt\""
   ],
   "metadata": {
    "collapsed": false
   }
  },
  {
   "cell_type": "markdown",
   "source": [
    "### Train the classification task on esmart_context"
   ],
   "metadata": {
    "collapsed": false
   }
  },
  {
   "cell_type": "markdown",
   "source": [
    "Train only the classification using the weights form the previous run and freezing every layer besides the classification head (and optionally the layer before #8)"
   ],
   "metadata": {
    "collapsed": false
   }
  },
  {
   "cell_type": "code",
   "execution_count": null,
   "outputs": [],
   "source": [
    "!python multitasks/train.py --epochs 30 --img 512 --weights {best_weights} --data ../datasets/esmart_context/data.yaml --batch-size 32 --only_cls --freeze_all_but 8 25 --cut_img 0.5\n",
    "#!python multitasks/train.py --epochs 50 --img 512 --weights {best_weights} --data ../datasets/esmart_context/data.yaml  --batch-size 32 --only_cls --freeze_all_but 25 --cut_img 0.5"
   ],
   "metadata": {
    "collapsed": false,
    "pycharm": {
     "name": "#%%\n"
    }
   }
  },
  {
   "cell_type": "code",
   "execution_count": null,
   "outputs": [],
   "source": [
    "# get the last folder of the folder runs/train-mlt/\n",
    "list_of_files = glob.glob('runs/train-mlt/*')\n",
    "latest_exp_path = max(list_of_files, key=os.path.getmtime)\n",
    "print(latest_exp_path)\n",
    "last_weights = f\"{latest_exp_path}/weights/last.pt\"\n",
    "best_weights = f\"{latest_exp_path}/weights/best.pt\""
   ],
   "metadata": {
    "collapsed": false
   }
  },
  {
   "cell_type": "markdown",
   "source": [],
   "metadata": {
    "collapsed": false
   }
  },
  {
   "cell_type": "markdown",
   "source": [
    "### Train again the detection task on esmart_wip"
   ],
   "metadata": {
    "collapsed": false
   }
  },
  {
   "cell_type": "markdown",
   "source": [
    "Train only the detection using the weights form the previous run and freezing every layer in the backbone and classification head."
   ],
   "metadata": {
    "collapsed": false
   }
  },
  {
   "cell_type": "markdown",
   "source": [
    "\n",
    "!python multitasks/train.py --epochs 15 --img 512 --weights yolov5s.pt --data ../datasets/esmart_wip/data.yaml --batch-size 32 --only_det"
   ],
   "metadata": {
    "collapsed": false
   }
  },
  {
   "cell_type": "code",
   "execution_count": null,
   "outputs": [],
   "source": [
    "list_of_files = glob.glob('runs/train-mlt/*')\n",
    "latest_exp_path = max(list_of_files, key=os.path.getmtime)\n",
    "print(latest_exp_path)\n",
    "last_weights = f\"{latest_exp_path}/weights/last.pt\"\n",
    "best_weights = f\"{latest_exp_path}/weights/best.pt\""
   ],
   "metadata": {
    "collapsed": false
   }
  },
  {
   "cell_type": "markdown",
   "source": [
    "### OR Train again the detection and classification at the same time on esmart_hybrid"
   ],
   "metadata": {
    "collapsed": false
   }
  },
  {
   "cell_type": "code",
   "execution_count": null,
   "outputs": [],
   "source": [
    "!python multitasks/train.py --epochs 20 --img 512 --weights yolov5s.pt --data ../datasets/hybrid/data.yaml --batch-size 32"
   ],
   "metadata": {
    "collapsed": false
   }
  },
  {
   "cell_type": "markdown",
   "source": [
    "------------------"
   ],
   "metadata": {
    "collapsed": false
   }
  },
  {
   "cell_type": "markdown",
   "source": [
    "# Evaluate"
   ],
   "metadata": {
    "collapsed": false
   }
  },
  {
   "cell_type": "code",
   "execution_count": null,
   "outputs": [],
   "source": [
    "weights_path = 'runs/train-mlt/exp162/weights/last.pt'"
   ],
   "metadata": {
    "collapsed": false
   }
  },
  {
   "cell_type": "markdown",
   "source": [
    "### The road conditions classification on esmart_context"
   ],
   "metadata": {
    "collapsed": false
   }
  },
  {
   "cell_type": "markdown",
   "source": [
    "Note that the display of the logger works well in the terminal but sometimes doesn't show the title of the metrics when running from a notebook.\n",
    "Here is the list of the reported metrics (in order):\n",
    "\n",
    "*Class, Images, Instances, cls_P, cls_R, cls_fpr, cls_f1, cls_acc*"
   ],
   "metadata": {
    "collapsed": false
   }
  },
  {
   "cell_type": "code",
   "execution_count": null,
   "outputs": [],
   "source": [
    "!python multitasks/val.py --img 512 --weights {weights_path} --data ../datasets/esmart_context/data.yaml  --batch-size 32 --only_cls_eval --temperature 3"
   ],
   "metadata": {
    "collapsed": false
   }
  },
  {
   "cell_type": "markdown",
   "source": [
    "\n",
    "### The detections on esmart_wip"
   ],
   "metadata": {
    "collapsed": false
   }
  },
  {
   "cell_type": "markdown",
   "source": [
    "*Class, Images, Instances, P, R, mAP50, mAP50-95*"
   ],
   "metadata": {
    "collapsed": false
   }
  },
  {
   "cell_type": "code",
   "execution_count": null,
   "outputs": [],
   "source": [
    "weights_path = 'runs/train-mlt/exp162/weights/best.pt'\n",
    "!python multitasks/val.py --img 512 --weights {weights_path} --data ../datasets/esmart_wip/data.yaml --batch-size 32 --only_det_eval"
   ],
   "metadata": {
    "collapsed": false
   }
  },
  {
   "cell_type": "markdown",
   "source": [
    "### OR both tasks on esmart_hybrid"
   ],
   "metadata": {
    "collapsed": false
   }
  },
  {
   "cell_type": "code",
   "execution_count": null,
   "outputs": [],
   "source": [
    "!python multitasks/val.py --img 512 --weights {weights_path} --data ../datasets/hybrid/data.yaml --batch-size 32"
   ],
   "metadata": {
    "collapsed": false
   }
  },
  {
   "cell_type": "markdown",
   "source": [
    "-----------------"
   ],
   "metadata": {
    "collapsed": false
   }
  },
  {
   "cell_type": "markdown",
   "source": [
    "## Export the model (onnx supported)"
   ],
   "metadata": {
    "collapsed": false
   }
  },
  {
   "cell_type": "code",
   "execution_count": null,
   "outputs": [],
   "source": [
    "!python export.py --weights runs/train-mlt/exp205/weights/last.pt --include onnx"
   ],
   "metadata": {
    "collapsed": false
   }
  }
 ],
 "metadata": {
  "kernelspec": {
   "display_name": "Python 3",
   "language": "python",
   "name": "python3"
  },
  "language_info": {
   "codemirror_mode": {
    "name": "ipython",
    "version": 2
   },
   "file_extension": ".py",
   "mimetype": "text/x-python",
   "name": "python",
   "nbconvert_exporter": "python",
   "pygments_lexer": "ipython2",
   "version": "2.7.6"
  }
 },
 "nbformat": 4,
 "nbformat_minor": 0
}
