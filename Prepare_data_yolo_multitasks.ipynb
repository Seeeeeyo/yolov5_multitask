{
 "cells": [
  {
   "cell_type": "markdown",
   "metadata": {
    "pycharm": {
     "name": "#%% md\n"
    }
   },
   "source": [
    "# Notebook to prepare the data for training Yolo v5 in a multitasks way (object detection and scene classification)"
   ]
  },
  {
   "cell_type": "markdown",
   "metadata": {
    "pycharm": {
     "name": "#%% md\n"
    }
   },
   "source": [
    "The dataset needs to be as ../datasets/example_dataset/ :\n",
    "\n",
    "\n",
    "- data.yaml\n",
    "- .jpg\n",
    "- ...\n",
    "- .txt (detection annotations, vanilla yolo format)\n",
    "- ...\n",
    "- train_cls.csv\n",
    "- val_cls.csv\n",
    "  - | filename | road_condition | detect\n",
    "  - | example.jpg | (0=dry, 1=snowy, 2=wet) | 1 if use this img for detection (if from esmart_wip) 0 otherwise (no detection label)\n",
    "\n",
    "- train.txt\n",
    "- val.txt"
   ]
  },
  {
   "cell_type": "markdown",
   "metadata": {
    "pycharm": {
     "name": "#%% md\n"
    }
   },
   "source": [
    "## Imports"
   ]
  },
  {
   "cell_type": "code",
   "execution_count": 1,
   "metadata": {
    "pycharm": {
     "name": "#%%\n"
    }
   },
   "outputs": [],
   "source": [
    "import os\n",
    "import shutil\n",
    "import pandas as pd"
   ]
  },
  {
   "cell_type": "markdown",
   "metadata": {
    "pycharm": {
     "name": "#%% md\n"
    }
   },
   "source": [
    "## Set the data source"
   ]
  },
  {
   "cell_type": "code",
   "execution_count": 4,
   "metadata": {
    "pycharm": {
     "name": "#%%\n"
    }
   },
   "outputs": [],
   "source": [
    "# path = '/Users/selimgilon/Desktop/data_road_cond_seq_split_2_test'\n",
    "path = '/home/selim/Desktop/datasets/esmart_context'\n",
    "img_folders = [f\"{path}/train/images/\", f\"{path}/val/images/\"]\n",
    "label_folders = [f\"{path}/train/labels/\", f\"{path}/val/labels/\"]"
   ]
  },
  {
   "cell_type": "code",
   "execution_count": 19,
   "metadata": {
    "pycharm": {
     "name": "#%%\n"
    }
   },
   "outputs": [
    {
     "name": "stdout",
     "output_type": "stream",
     "text": [
      "/home/selim/Desktop/datasets/data_road_cond_seq_split_2_test/train/images/ ------- /home/selim/Desktop/datasets/data_road_cond_seq_split_2_test/train/labels/\n",
      "/home/selim/Desktop/datasets/data_road_cond_seq_split_2_test/val/images/ ------- /home/selim/Desktop/datasets/data_road_cond_seq_split_2_test/val/labels/\n"
     ]
    }
   ],
   "source": [
    "for (im_fol, lab_fol) in iter(zip(img_folders, label_folders)):\n",
    "    print(im_fol, \"-------\", lab_fol)"
   ]
  },
  {
   "cell_type": "markdown",
   "metadata": {
    "pycharm": {
     "name": "#%% md\n"
    }
   },
   "source": [
    "## Create a *null* txt file for each image which doesn't have one yet"
   ]
  },
  {
   "cell_type": "code",
   "execution_count": 10,
   "metadata": {
    "pycharm": {
     "name": "#%%\n"
    }
   },
   "outputs": [
    {
     "name": "stdout",
     "output_type": "stream",
     "text": [
      "number of files created:  59817\n"
     ]
    }
   ],
   "source": [
    "# for each image in the folder, create a text file with the same name, and write '' in it\n",
    "#for (img_folder, label_folder) in iter(zip(img_folders, label_folders)):\n",
    "#    print(img_folder, \"-------\", label_folder)\n",
    "#    count = 0\n",
    "count = 0\n",
    "img_folder = '/home/selim/Desktop/esmart-ai-datasets/data/esmart_context/'\n",
    "for filename in os.listdir(img_folder):\n",
    "# for filename in os.listdir(f'{img_folder}'):\n",
    "    if filename.endswith(\".jpg\"):\n",
    "        # check if the file already exists\n",
    "        #if not os.path.isfile(img_folder + filename[:-4] + '.txt'):\n",
    "            # create the file if it doesn't exist\n",
    "        f = open(img_folder + filename[:-4] + '.txt', 'w')\n",
    "        f.write('')\n",
    "        count += 1\n",
    "        f.close()\n",
    "    else:\n",
    "        continue\n",
    "print(\"number of files created: \", count)"
   ]
  },
  {
   "cell_type": "markdown",
   "metadata": {
    "pycharm": {
     "name": "#%% md\n"
    }
   },
   "source": [
    "## Get the road conditions labels (from folders) and create a CSV file with these"
   ]
  },
  {
   "cell_type": "code",
   "execution_count": 63,
   "metadata": {
    "pycharm": {
     "name": "#%%\n"
    }
   },
   "outputs": [
    {
     "name": "stdout",
     "output_type": "stream",
     "text": [
      "/Users/selimgilon/Library/Mobile Documents/com~apple~CloudDocs/Desktop/Montreal/UdeM/Internship/E-Smart/code/datasets/imagenette160small/train/images/\n",
      "n02102040\n",
      "n01440764\n",
      "n02979186\n",
      "File saved at /Users/selimgilon/Library/Mobile Documents/com~apple~CloudDocs/Desktop/Montreal/UdeM/Internship/E-Smart/code/datasets/imagenette160small/train_cls.csv\n",
      "/Users/selimgilon/Library/Mobile Documents/com~apple~CloudDocs/Desktop/Montreal/UdeM/Internship/E-Smart/code/datasets/imagenette160small/val/images/\n",
      "n02102040\n",
      "n01440764\n",
      "n02979186\n",
      "File saved at /Users/selimgilon/Library/Mobile Documents/com~apple~CloudDocs/Desktop/Montreal/UdeM/Internship/E-Smart/code/datasets/imagenette160small/val_cls.csv\n"
     ]
    }
   ],
   "source": [
    "for img_folder in iter(img_folders):\n",
    "    train, val = False, False\n",
    "    if 'train' in img_folder:\n",
    "        train = True\n",
    "    elif 'val' in img_folder:\n",
    "        val = True\n",
    "    print(img_folder)\n",
    "    to_write = {'filename': [], 'road_condition': []}\n",
    "    # class_name_to_num = {'n02102040': 0, 'n01440764': 1, 'n02979186': 2}\n",
    "    class_name_to_num = {'dry': 0, 'snowy': 1, 'wet': 2}\n",
    "    # list the folders that are in the img_folder\n",
    "    classes_dir = os.listdir(img_folder)\n",
    "    if '.DS_Store' in classes_dir:\n",
    "        classes_dir.remove('.DS_Store')\n",
    "    assert len(classes_dir) == 3\n",
    "    for road_cond in classes_dir:\n",
    "        print(road_cond)\n",
    "        for filename in os.listdir(f\"{img_folder}/{road_cond}\"):\n",
    "            to_write['filename'].append(filename)\n",
    "            to_write['road_condition'].append(class_name_to_num[road_cond])\n",
    "\n",
    "    to_write_df = pd.DataFrame(to_write)\n",
    "    if train:\n",
    "        name = f'{path}/train_cls.csv'\n",
    "        to_write_df.to_csv(name, index=False)\n",
    "        print('File saved at', name)\n",
    "    elif val:\n",
    "        name = f'{path}/val_cls.csv'\n",
    "        to_write_df.to_csv(name, index=False)\n",
    "        print('File saved at', name)"
   ]
  },
  {
   "cell_type": "markdown",
   "metadata": {
    "pycharm": {
     "name": "#%% md\n"
    }
   },
   "source": [
    "## Move the images from their road condition directory to train/images or val/images"
   ]
  },
  {
   "cell_type": "code",
   "execution_count": 9,
   "metadata": {
    "pycharm": {
     "name": "#%%\n"
    }
   },
   "outputs": [
    {
     "name": "stdout",
     "output_type": "stream",
     "text": [
      "/home/selim/Desktop/datasets/esmart_context/train/images/\n",
      "/home/selim/Desktop/datasets/esmart_context/val/images/\n"
     ]
    }
   ],
   "source": [
    "for img_folder in iter(img_folders):\n",
    "    print(img_folder)\n",
    "    #classes_dir = os.listdir(img_folder)\n",
    "    #if '.DS_Store' in classes_dir:\n",
    "    #    classes_dir.remove('.DS_Store')\n",
    "    #assert len(classes_dir) == 3\n",
    "    #for road_cond in classes_dir:\n",
    "    #print(road_cond)\n",
    "    # get the list of files in the folder\n",
    "    #for filename in os.listdir(f'{img_folder}/{road_cond}'):\n",
    "    for filename in os.listdir(img_folder):\n",
    "        if filename.endswith(\".jpg\"):\n",
    "            shutil.move(f\"{img_folder}{filename}\", f\"/home/selim/Desktop/datasets/esmart_context/{filename}\")\n",
    "            break\n",
    "        else:\n",
    "            continue"
   ]
  },
  {
   "cell_type": "markdown",
   "metadata": {
    "pycharm": {
     "name": "#%% md\n"
    }
   },
   "source": [
    "## Rename files if necessary"
   ]
  },
  {
   "cell_type": "code",
   "execution_count": 76,
   "metadata": {
    "pycharm": {
     "name": "#%%\n"
    }
   },
   "outputs": [
    {
     "name": "stdout",
     "output_type": "stream",
     "text": [
      "/Users/selimgilon/Library/Mobile Documents/com~apple~CloudDocs/Desktop/Montreal/UdeM/Internship/E-Smart/code/datasets/imagenette160small/train/labels/\n",
      "/Users/selimgilon/Library/Mobile Documents/com~apple~CloudDocs/Desktop/Montreal/UdeM/Internship/E-Smart/code/datasets/imagenette160small/val/labels/\n"
     ]
    }
   ],
   "source": [
    "for label_folder in iter(label_folders):\n",
    "    print(label_folder)\n",
    "    # get the list of files in the folder\n",
    "    for filename in os.listdir(label_folder):\n",
    "        if filename.endswith(\"..txt\"):\n",
    "            # print(os.path.join(label_folder, filename))\n",
    "            new_name = filename.replace('..txt', '.txt')\n",
    "            os.rename(os.path.join(label_folder, filename), os.path.join(label_folder, new_name))\n",
    "            # print('replaced')\n",
    "        else:\n",
    "            continue"
   ]
  },
  {
   "cell_type": "code",
   "execution_count": 42,
   "metadata": {
    "pycharm": {
     "name": "#%%\n"
    }
   },
   "outputs": [
    {
     "name": "stdout",
     "output_type": "stream",
     "text": [
      "20210630_192517_8322.txt\n",
      "out_8932.txt\n",
      "20210724_113301_14454.txt\n"
     ]
    }
   ],
   "source": [
    "# for each image in the folder, create a text file with the same name, and write '0 0 0 0 0' in it\n",
    "label_folder = '/home/selim/Desktop/datasets/wip/train/labels/'\n",
    "for filename in os.listdir(label_folder):\n",
    "# for filename in os.listdir(f'{img_folder}'):\n",
    "    if filename.endswith(\".txt\"):\n",
    "        with open(label_folder + filename) as f:\n",
    "            lines = f.readlines()\n",
    "            for line in lines:\n",
    "                if '0.66359' in line:\n",
    "                    print(filename)\n",
    "                    break\n"
   ]
  },
  {
   "cell_type": "code",
   "execution_count": 27,
   "metadata": {
    "pycharm": {
     "name": "#%%\n"
    }
   },
   "outputs": [],
   "source": [
    "PATH = '/home/selim/Desktop/datasets/wip/'"
   ]
  },
  {
   "cell_type": "code",
   "execution_count": 37,
   "metadata": {
    "pycharm": {
     "name": "#%%\n"
    }
   },
   "outputs": [
    {
     "data": {
      "text/html": [
       "<div>\n",
       "<style scoped>\n",
       "    .dataframe tbody tr th:only-of-type {\n",
       "        vertical-align: middle;\n",
       "    }\n",
       "\n",
       "    .dataframe tbody tr th {\n",
       "        vertical-align: top;\n",
       "    }\n",
       "\n",
       "    .dataframe thead th {\n",
       "        text-align: right;\n",
       "    }\n",
       "</style>\n",
       "<table border=\"1\" class=\"dataframe\">\n",
       "  <thead>\n",
       "    <tr style=\"text-align: right;\">\n",
       "      <th></th>\n",
       "      <th>Unnamed: 0</th>\n",
       "      <th>filename</th>\n",
       "      <th>road_condition</th>\n",
       "      <th>detect</th>\n",
       "    </tr>\n",
       "  </thead>\n",
       "  <tbody>\n",
       "    <tr>\n",
       "      <th>0</th>\n",
       "      <td>0</td>\n",
       "      <td>run_11_1065.jpg</td>\n",
       "      <td>0</td>\n",
       "      <td>1</td>\n",
       "    </tr>\n",
       "    <tr>\n",
       "      <th>1</th>\n",
       "      <td>1</td>\n",
       "      <td>run_11_1066.jpg</td>\n",
       "      <td>0</td>\n",
       "      <td>1</td>\n",
       "    </tr>\n",
       "    <tr>\n",
       "      <th>2</th>\n",
       "      <td>2</td>\n",
       "      <td>run_11_1068.jpg</td>\n",
       "      <td>0</td>\n",
       "      <td>1</td>\n",
       "    </tr>\n",
       "    <tr>\n",
       "      <th>3</th>\n",
       "      <td>3</td>\n",
       "      <td>run_11_1069.jpg</td>\n",
       "      <td>0</td>\n",
       "      <td>1</td>\n",
       "    </tr>\n",
       "    <tr>\n",
       "      <th>4</th>\n",
       "      <td>4</td>\n",
       "      <td>run_11_1156.jpg</td>\n",
       "      <td>0</td>\n",
       "      <td>1</td>\n",
       "    </tr>\n",
       "    <tr>\n",
       "      <th>...</th>\n",
       "      <td>...</td>\n",
       "      <td>...</td>\n",
       "      <td>...</td>\n",
       "      <td>...</td>\n",
       "    </tr>\n",
       "    <tr>\n",
       "      <th>511</th>\n",
       "      <td>511</td>\n",
       "      <td>Log-20220120-164410 Data Log_13799.jpg</td>\n",
       "      <td>2</td>\n",
       "      <td>1</td>\n",
       "    </tr>\n",
       "    <tr>\n",
       "      <th>512</th>\n",
       "      <td>512</td>\n",
       "      <td>Log-20220120-164410 Data Log_13841.jpg</td>\n",
       "      <td>2</td>\n",
       "      <td>1</td>\n",
       "    </tr>\n",
       "    <tr>\n",
       "      <th>513</th>\n",
       "      <td>513</td>\n",
       "      <td>Log-20220120-164410 Data Log_14933.jpg</td>\n",
       "      <td>0</td>\n",
       "      <td>1</td>\n",
       "    </tr>\n",
       "    <tr>\n",
       "      <th>514</th>\n",
       "      <td>514</td>\n",
       "      <td>Log-20220120-164410 Data Log_14996.jpg</td>\n",
       "      <td>0</td>\n",
       "      <td>1</td>\n",
       "    </tr>\n",
       "    <tr>\n",
       "      <th>515</th>\n",
       "      <td>515</td>\n",
       "      <td>Log-20220120-164410 Data Log_15689.jpg</td>\n",
       "      <td>1</td>\n",
       "      <td>1</td>\n",
       "    </tr>\n",
       "  </tbody>\n",
       "</table>\n",
       "<p>516 rows × 4 columns</p>\n",
       "</div>"
      ],
      "text/plain": [
       "     Unnamed: 0                                filename  road_condition  \\\n",
       "0             0                         run_11_1065.jpg               0   \n",
       "1             1                         run_11_1066.jpg               0   \n",
       "2             2                         run_11_1068.jpg               0   \n",
       "3             3                         run_11_1069.jpg               0   \n",
       "4             4                         run_11_1156.jpg               0   \n",
       "..          ...                                     ...             ...   \n",
       "511         511  Log-20220120-164410 Data Log_13799.jpg               2   \n",
       "512         512  Log-20220120-164410 Data Log_13841.jpg               2   \n",
       "513         513  Log-20220120-164410 Data Log_14933.jpg               0   \n",
       "514         514  Log-20220120-164410 Data Log_14996.jpg               0   \n",
       "515         515  Log-20220120-164410 Data Log_15689.jpg               1   \n",
       "\n",
       "     detect  \n",
       "0         1  \n",
       "1         1  \n",
       "2         1  \n",
       "3         1  \n",
       "4         1  \n",
       "..      ...  \n",
       "511       1  \n",
       "512       1  \n",
       "513       1  \n",
       "514       1  \n",
       "515       1  \n",
       "\n",
       "[516 rows x 4 columns]"
      ]
     },
     "execution_count": 37,
     "metadata": {},
     "output_type": "execute_result"
    }
   ],
   "source": [
    "train_wip = pd.read_csv(f'{PATH}val_labels.csv')\n",
    "train_wip"
   ]
  },
  {
   "cell_type": "code",
   "execution_count": 38,
   "metadata": {
    "pycharm": {
     "name": "#%%\n"
    }
   },
   "outputs": [
    {
     "data": {
      "text/plain": [
       "0                             run_11_1065.jpg\n",
       "1                             run_11_1066.jpg\n",
       "2                             run_11_1068.jpg\n",
       "3                             run_11_1069.jpg\n",
       "4                             run_11_1156.jpg\n",
       "                        ...                  \n",
       "511    Log-20220120-164410 Data Log_13799.jpg\n",
       "512    Log-20220120-164410 Data Log_13841.jpg\n",
       "513    Log-20220120-164410 Data Log_14933.jpg\n",
       "514    Log-20220120-164410 Data Log_14996.jpg\n",
       "515    Log-20220120-164410 Data Log_15689.jpg\n",
       "Name: filename, Length: 516, dtype: object"
      ]
     },
     "execution_count": 38,
     "metadata": {},
     "output_type": "execute_result"
    }
   ],
   "source": [
    "train_list = train_wip['filename']\n",
    "train_list"
   ]
  },
  {
   "cell_type": "code",
   "execution_count": 32,
   "metadata": {
    "pycharm": {
     "name": "#%%\n"
    }
   },
   "outputs": [
    {
     "name": "stdout",
     "output_type": "stream",
     "text": [
      "38645\n"
     ]
    }
   ],
   "source": [
    "img_folder = '/home/selim/Desktop/datasets/wip/train/images/'\n",
    "label_folder =  '/home/selim/Desktop/datasets/wip/train/labels/'\n",
    "count = 0\n",
    "for filename in os.listdir(img_folder):\n",
    "# for filename in os.listdir(f'{img_folder}'):\n",
    "    if filename not in train_list:\n",
    "        os.remove(img_folder + filename)\n",
    "        os.remove(label_folder + filename[:-4] + '.txt')\n",
    "        count += 1\n",
    "print(count)"
   ]
  },
  {
   "cell_type": "code",
   "execution_count": 39,
   "metadata": {
    "pycharm": {
     "name": "#%%\n"
    }
   },
   "outputs": [
    {
     "name": "stdout",
     "output_type": "stream",
     "text": [
      "516\n"
     ]
    }
   ],
   "source": [
    "count = 0\n",
    "for file in train_list:\n",
    "    try:\n",
    "        shutil.copy(f'/home/selim/Desktop/esmart-ai-datasets/data/esmart_wip/{file}', f'/home/selim/Desktop/datasets/wip/val/images/{file}')\n",
    "    except:\n",
    "        print('not found')\n",
    "    try:\n",
    "        shutil.copy(f'/home/selim/Desktop/esmart-ai-datasets/data/esmart_wip/{file[:-4]}.txt', f'/home/selim/Desktop/datasets/wip/val/labels/{file[:-4]}.txt')\n",
    "    except:\n",
    "        print('not found')\n",
    "    count += 1\n",
    "print(count)"
   ]
  },
  {
   "cell_type": "code",
   "execution_count": null,
   "metadata": {
    "pycharm": {
     "name": "#%%\n"
    }
   },
   "outputs": [],
   "source": []
  }
 ],
 "metadata": {
  "kernelspec": {
   "display_name": "Python 3 (ipykernel)",
   "language": "python",
   "name": "python3"
  },
  "language_info": {
   "codemirror_mode": {
    "name": "ipython",
    "version": 3
   },
   "file_extension": ".py",
   "mimetype": "text/x-python",
   "name": "python",
   "nbconvert_exporter": "python",
   "pygments_lexer": "ipython3",
   "version": "3.8.10"
  },
  "varInspector": {
   "cols": {
    "lenName": 16,
    "lenType": 16,
    "lenVar": 40
   },
   "kernels_config": {
    "python": {
     "delete_cmd_postfix": "",
     "delete_cmd_prefix": "del ",
     "library": "var_list.py",
     "varRefreshCmd": "print(var_dic_list())"
    },
    "r": {
     "delete_cmd_postfix": ") ",
     "delete_cmd_prefix": "rm(",
     "library": "var_list.r",
     "varRefreshCmd": "cat(var_dic_list()) "
    }
   },
   "types_to_exclude": [
    "module",
    "function",
    "builtin_function_or_method",
    "instance",
    "_Feature"
   ],
   "window_display": false
  }
 },
 "nbformat": 4,
 "nbformat_minor": 1
}