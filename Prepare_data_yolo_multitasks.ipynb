{
 "cells": [
  {
   "cell_type": "markdown",
   "source": [
    "# Notebook to prepare the data for training Yolo v5 in a multitasks way (object detection and scene classification)"
   ],
   "metadata": {
    "collapsed": false
   }
  },
  {
   "cell_type": "markdown",
   "source": [
    "The dataset needs to be as ../datasets/example_dataset/ :\n",
    "\n",
    "* data.yaml\n",
    "* train/\n",
    "    * images/\n",
    "        * .jpg\n",
    "    * labels/\n",
    "        * .txt (detection annotations, vanilla yolo format)\n",
    "* train_cls.csv\n",
    "    * | filename | road_condition |\n",
    "    * |  example.jpg  |        1       |    (0=dry, 1=snowy, 2= wet)\n",
    "* val/\n",
    "    * images/\n",
    "        * .jpg\n",
    "    * labels/\n",
    "        * .txt (detection annotations, vanilla yolo format)\n",
    "* val_cls.csv\n",
    "    * | filename | road_condition |\n",
    "    * |  example.jpg  |        1       |    (0=dry, 1=snowy, 2= wet)\n",
    "\n",
    "\n"
   ],
   "metadata": {
    "collapsed": false
   }
  },
  {
   "cell_type": "markdown",
   "source": [
    "## Imports"
   ],
   "metadata": {
    "collapsed": false
   }
  },
  {
   "cell_type": "code",
   "execution_count": 1,
   "outputs": [],
   "source": [
    "import os\n",
    "import shutil\n",
    "import pandas as pd"
   ],
   "metadata": {
    "collapsed": false
   }
  },
  {
   "cell_type": "markdown",
   "source": [
    "## Set the data source"
   ],
   "metadata": {
    "collapsed": false
   }
  },
  {
   "cell_type": "code",
   "execution_count": 2,
   "outputs": [],
   "source": [
    "# path = '/Users/selimgilon/Desktop/data_road_cond_seq_split_2_test'\n",
    "path = '/home/selim/Desktop/datasets/data_road_cond_seq_split_2_test'\n",
    "img_folders = [f\"{path}/train/images/\", f\"{path}/val/images/\"]\n",
    "label_folders = [f\"{path}/train/labels/\", f\"{path}/val/labels/\"]"
   ],
   "metadata": {
    "collapsed": false
   }
  },
  {
   "cell_type": "code",
   "execution_count": 3,
   "outputs": [
    {
     "name": "stdout",
     "output_type": "stream",
     "text": [
      "/home/selim/Desktop/datasets/data_road_cond_seq_split_2_test/train/images/ ------- /home/selim/Desktop/datasets/data_road_cond_seq_split_2_test/train/labels/\n",
      "/home/selim/Desktop/datasets/data_road_cond_seq_split_2_test/val/images/ ------- /home/selim/Desktop/datasets/data_road_cond_seq_split_2_test/val/labels/\n"
     ]
    }
   ],
   "source": [
    "for (im_fol, lab_fol) in iter(zip(img_folders, label_folders)):\n",
    "    print(im_fol, \"-------\", lab_fol)"
   ],
   "metadata": {
    "collapsed": false
   }
  },
  {
   "cell_type": "markdown",
   "source": [
    "## Create a *null* txt file for each image which doesn't have one yet"
   ],
   "metadata": {
    "collapsed": false
   }
  },
  {
   "cell_type": "code",
   "execution_count": 5,
   "outputs": [
    {
     "name": "stdout",
     "output_type": "stream",
     "text": [
      "/home/selim/Desktop/datasets/data_road_cond_seq_split_2_test/train/images/ ------- /home/selim/Desktop/datasets/data_road_cond_seq_split_2_test/train/labels/\n",
      "number of files created:  31999\n",
      "/home/selim/Desktop/datasets/data_road_cond_seq_split_2_test/val/images/ ------- /home/selim/Desktop/datasets/data_road_cond_seq_split_2_test/val/labels/\n",
      "number of files created:  7563\n"
     ]
    }
   ],
   "source": [
    "# for each image in the folder, create a text file with the same name, and write '0 0 0 0 0' in it\n",
    "for (img_folder, label_folder) in iter(zip(img_folders, label_folders)):\n",
    "    print(img_folder, \"-------\", label_folder)\n",
    "    count = 0\n",
    "    for filename in os.listdir(img_folder):\n",
    "    # for filename in os.listdir(f'{img_folder}'):\n",
    "        if filename.endswith(\".jpg\"):\n",
    "            # check if the file already exists\n",
    "            if not os.path.isfile(label_folder + filename[:-4] + '.txt'):\n",
    "                # create the file if it doesn't exist\n",
    "                f = open(label_folder + filename[:-4] + '.txt', 'w')\n",
    "                f.write('0 0.50084 0.58174 0.99831 0.57305')\n",
    "                count += 1\n",
    "                f.close()\n",
    "        else:\n",
    "            continue\n",
    "    print(\"number of files created: \", count)"
   ],
   "metadata": {
    "collapsed": false
   }
  },
  {
   "cell_type": "markdown",
   "source": [
    "## Get the road conditions labels (from folders) and create a CSV file with these"
   ],
   "metadata": {
    "collapsed": false
   }
  },
  {
   "cell_type": "code",
   "execution_count": 63,
   "outputs": [
    {
     "name": "stdout",
     "output_type": "stream",
     "text": [
      "/Users/selimgilon/Library/Mobile Documents/com~apple~CloudDocs/Desktop/Montreal/UdeM/Internship/E-Smart/code/datasets/imagenette160small/train/images/\n",
      "n02102040\n",
      "n01440764\n",
      "n02979186\n",
      "File saved at /Users/selimgilon/Library/Mobile Documents/com~apple~CloudDocs/Desktop/Montreal/UdeM/Internship/E-Smart/code/datasets/imagenette160small/train_cls.csv\n",
      "/Users/selimgilon/Library/Mobile Documents/com~apple~CloudDocs/Desktop/Montreal/UdeM/Internship/E-Smart/code/datasets/imagenette160small/val/images/\n",
      "n02102040\n",
      "n01440764\n",
      "n02979186\n",
      "File saved at /Users/selimgilon/Library/Mobile Documents/com~apple~CloudDocs/Desktop/Montreal/UdeM/Internship/E-Smart/code/datasets/imagenette160small/val_cls.csv\n"
     ]
    }
   ],
   "source": [
    "for img_folder in iter(img_folders):\n",
    "    train, val = False, False\n",
    "    if 'train' in img_folder:\n",
    "        train = True\n",
    "    elif 'val' in img_folder:\n",
    "        val = True\n",
    "    print(img_folder)\n",
    "    to_write = {'filename': [], 'road_condition': []}\n",
    "    # class_name_to_num = {'n02102040': 0, 'n01440764': 1, 'n02979186': 2}\n",
    "    class_name_to_num = {'dry': 0, 'snowy': 1, 'wet': 2}\n",
    "    # list the folders that are in the img_folder\n",
    "    classes_dir = os.listdir(img_folder)\n",
    "    if '.DS_Store' in classes_dir:\n",
    "        classes_dir.remove('.DS_Store')\n",
    "    assert len(classes_dir) == 3\n",
    "    for road_cond in classes_dir:\n",
    "        print(road_cond)\n",
    "        for filename in os.listdir(f\"{img_folder}/{road_cond}\"):\n",
    "            to_write['filename'].append(filename)\n",
    "            to_write['road_condition'].append(class_name_to_num[road_cond])\n",
    "\n",
    "    to_write_df = pd.DataFrame(to_write)\n",
    "    if train:\n",
    "        name = f'{path}/train_cls.csv'\n",
    "        to_write_df.to_csv(name, index=False)\n",
    "        print('File saved at', name)\n",
    "    elif val:\n",
    "        name = f'{path}/val_cls.csv'\n",
    "        to_write_df.to_csv(name, index=False)\n",
    "        print('File saved at', name)"
   ],
   "metadata": {
    "collapsed": false
   }
  },
  {
   "cell_type": "markdown",
   "source": [
    "## Move the images from their road condition directory to train/images or val/images"
   ],
   "metadata": {
    "collapsed": false
   }
  },
  {
   "cell_type": "code",
   "execution_count": 66,
   "outputs": [
    {
     "name": "stdout",
     "output_type": "stream",
     "text": [
      "/Users/selimgilon/Library/Mobile Documents/com~apple~CloudDocs/Desktop/Montreal/UdeM/Internship/E-Smart/code/datasets/imagenette160small/train/images/\n",
      "n02102040\n",
      "n01440764\n",
      "n02979186\n",
      "/Users/selimgilon/Library/Mobile Documents/com~apple~CloudDocs/Desktop/Montreal/UdeM/Internship/E-Smart/code/datasets/imagenette160small/val/images/\n",
      "n02102040\n",
      "n01440764\n",
      "n02979186\n"
     ]
    }
   ],
   "source": [
    "for img_folder in iter(img_folders):\n",
    "    print(img_folder)\n",
    "    classes_dir = os.listdir(img_folder)\n",
    "    if '.DS_Store' in classes_dir:\n",
    "        classes_dir.remove('.DS_Store')\n",
    "    assert len(classes_dir) == 3\n",
    "    for road_cond in classes_dir:\n",
    "        print(road_cond)\n",
    "        # get the list of files in the folder\n",
    "        for filename in os.listdir(f'{img_folder}/{road_cond}'):\n",
    "            if filename.endswith(\".JPEG\"):\n",
    "                shutil.move(f\"{img_folder}/{road_cond}/{filename}\", f\"{img_folder}/{filename}\")\n",
    "            else:\n",
    "                continue"
   ],
   "metadata": {
    "collapsed": false
   }
  },
  {
   "cell_type": "markdown",
   "source": [
    "## Rename files if necessary"
   ],
   "metadata": {
    "collapsed": false
   }
  },
  {
   "cell_type": "code",
   "execution_count": 76,
   "outputs": [
    {
     "name": "stdout",
     "output_type": "stream",
     "text": [
      "/Users/selimgilon/Library/Mobile Documents/com~apple~CloudDocs/Desktop/Montreal/UdeM/Internship/E-Smart/code/datasets/imagenette160small/train/labels/\n",
      "/Users/selimgilon/Library/Mobile Documents/com~apple~CloudDocs/Desktop/Montreal/UdeM/Internship/E-Smart/code/datasets/imagenette160small/val/labels/\n"
     ]
    }
   ],
   "source": [
    "for label_folder in iter(label_folders):\n",
    "    print(label_folder)\n",
    "    # get the list of files in the folder\n",
    "    for filename in os.listdir(label_folder):\n",
    "        if filename.endswith(\"..txt\"):\n",
    "            # print(os.path.join(label_folder, filename))\n",
    "            new_name = filename.replace('..txt', '.txt')\n",
    "            os.rename(os.path.join(label_folder, filename), os.path.join(label_folder, new_name))\n",
    "            # print('replaced')\n",
    "        else:\n",
    "            continue"
   ],
   "metadata": {
    "collapsed": false
   }
  },
  {
   "cell_type": "code",
   "execution_count": 16,
   "outputs": [
    {
     "name": "stdout",
     "output_type": "stream",
     "text": [
      "20210630_192517_8322.txt\n",
      "out_8932.txt\n",
      "20210724_113301_14454.txt\n"
     ]
    }
   ],
   "source": [
    "# for each image in the folder, create a text file with the same name, and write '0 0 0 0 0' in it\n",
    "label_folder = '/home/selim/Desktop/datasets/hybrid/train/labels/'\n",
    "for filename in os.listdir(label_folder):\n",
    "# for filename in os.listdir(f'{img_folder}'):\n",
    "    if filename.endswith(\".txt\"):\n",
    "        with open(label_folder + filename) as f:\n",
    "            lines = f.readlines()\n",
    "            for line in lines:\n",
    "                if '0.66359' in line:\n",
    "                    print(filename)\n",
    "                    break\n"
   ],
   "metadata": {
    "collapsed": false
   }
  },
  {
   "cell_type": "code",
   "execution_count": null,
   "outputs": [],
   "source": [],
   "metadata": {
    "collapsed": false
   }
  }
 ],
 "metadata": {
  "kernelspec": {
   "display_name": "Python 3",
   "language": "python",
   "name": "python3"
  },
  "language_info": {
   "codemirror_mode": {
    "name": "ipython",
    "version": 2
   },
   "file_extension": ".py",
   "mimetype": "text/x-python",
   "name": "python",
   "nbconvert_exporter": "python",
   "pygments_lexer": "ipython2",
   "version": "2.7.6"
  }
 },
 "nbformat": 4,
 "nbformat_minor": 0
}
