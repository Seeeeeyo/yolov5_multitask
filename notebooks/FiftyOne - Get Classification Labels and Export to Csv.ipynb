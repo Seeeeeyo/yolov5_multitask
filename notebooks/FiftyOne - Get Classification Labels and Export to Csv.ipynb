{
 "cells": [
  {
   "cell_type": "markdown",
   "id": "59802feb",
   "metadata": {},
   "source": [
    "# Notebook to extract the classification ground truths from fiftyone and save them in csv files. \n",
    "These csv are then used in the yolo multitask model "
   ]
  },
  {
   "cell_type": "code",
   "execution_count": 1,
   "id": "aee98768",
   "metadata": {},
   "outputs": [],
   "source": [
    "# pip install --upgrade fiftyone"
   ]
  },
  {
   "cell_type": "code",
   "execution_count": 3,
   "id": "20c7e16a",
   "metadata": {},
   "outputs": [],
   "source": [
    "import fiftyone as fo\n",
    "import pandas as pd"
   ]
  },
  {
   "cell_type": "markdown",
   "id": "de6d438a",
   "metadata": {},
   "source": [
    "## Load the datasets"
   ]
  },
  {
   "cell_type": "code",
   "execution_count": 4,
   "id": "a98e8819",
   "metadata": {},
   "outputs": [],
   "source": [
    "dataset = fo.load_dataset(\"esmart_wip\")"
   ]
  },
  {
   "cell_type": "code",
   "execution_count": 5,
   "id": "791409fd",
   "metadata": {},
   "outputs": [],
   "source": [
    "train_dataset_51 = dataset.match_tags(\"TRAIN_RC_AUTO_TIME\")\n",
    "val_dataset_51 = dataset.match_tags(\"VAL_RC_AUTO_TIME\")"
   ]
  },
  {
   "cell_type": "code",
   "execution_count": 6,
   "id": "c663f7bf",
   "metadata": {},
   "outputs": [
    {
     "name": "stdout",
     "output_type": "stream",
     "text": [
      "Connected to FiftyOne on port 5151 at localhost.\n",
      "If you are not connecting to a remote session, you may need to start a new session and specify a port\n"
     ]
    },
    {
     "data": {
      "text/html": [
       "\n",
       "        <iframe\n",
       "            width=\"100%\"\n",
       "            height=\"800\"\n",
       "            src=\"http://localhost:5151/?context=ipython&subscription=b479ca68-72c9-4aca-baf0-694af0650992\"\n",
       "            frameborder=\"0\"\n",
       "            allowfullscreen\n",
       "            \n",
       "        ></iframe>\n",
       "        "
      ],
      "text/plain": [
       "<IPython.lib.display.IFrame at 0x7f7bf7a6b550>"
      ]
     },
     "metadata": {},
     "output_type": "display_data"
    },
    {
     "data": {
      "text/plain": [
       "Dataset:          esmart_wip\n",
       "Media type:       image\n",
       "Num samples:      6540\n",
       "Selected samples: 0\n",
       "Selected labels:  0\n",
       "Session URL:      http://localhost:5151/"
      ]
     },
     "execution_count": 6,
     "metadata": {},
     "output_type": "execute_result"
    }
   ],
   "source": [
    "fo.launch_app(dataset)"
   ]
  },
  {
   "cell_type": "markdown",
   "id": "d5da6872",
   "metadata": {},
   "source": [
    "## Get the labels "
   ]
  },
  {
   "cell_type": "code",
   "execution_count": 7,
   "id": "9b673f2d",
   "metadata": {},
   "outputs": [
    {
     "name": "stdout",
     "output_type": "stream",
     "text": [
      "Image doesn't contain a gt_road_condition\n",
      "Image doesn't contain a gt_road_condition\n",
      "Image doesn't contain a gt_road_condition\n",
      "Image doesn't contain a gt_road_condition\n",
      "Image doesn't contain a gt_road_condition\n",
      "Image doesn't contain a gt_road_condition\n",
      "Image doesn't contain a gt_road_condition\n",
      "Image doesn't contain a gt_road_condition\n",
      "Image doesn't contain a gt_road_condition\n",
      "Image doesn't contain a gt_road_condition\n",
      "Image doesn't contain a gt_road_condition\n"
     ]
    }
   ],
   "source": [
    "list_data_train = []\n",
    "\n",
    "for sample in train_dataset_51:\n",
    "    try:\n",
    "        file_name = sample.filepath.split(\"/\")[-1]\n",
    "        road_cond_class = sample.gt_road_condition.classifications[0].label\n",
    "    #     visibility_class = sample.gt_visibility.classifications[0].label\n",
    "    #     road_type_class = sample.gt_roadtype.classifications[0].label\n",
    "        data = (file_name, road_cond_class)\n",
    "    #     data = (file_name, road_cond_class, visibility_class, road_type_class)\n",
    "        list_data_train.append(data)\n",
    "    except:\n",
    "        print(\"Image doesn't contain a gt_road_condition\")"
   ]
  },
  {
   "cell_type": "code",
   "execution_count": 8,
   "id": "b305dd97",
   "metadata": {},
   "outputs": [
    {
     "data": {
      "text/html": [
       "<div>\n",
       "<style scoped>\n",
       "    .dataframe tbody tr th:only-of-type {\n",
       "        vertical-align: middle;\n",
       "    }\n",
       "\n",
       "    .dataframe tbody tr th {\n",
       "        vertical-align: top;\n",
       "    }\n",
       "\n",
       "    .dataframe thead th {\n",
       "        text-align: right;\n",
       "    }\n",
       "</style>\n",
       "<table border=\"1\" class=\"dataframe\">\n",
       "  <thead>\n",
       "    <tr style=\"text-align: right;\">\n",
       "      <th></th>\n",
       "      <th>img</th>\n",
       "      <th>road_cond</th>\n",
       "    </tr>\n",
       "  </thead>\n",
       "  <tbody>\n",
       "    <tr>\n",
       "      <th>0</th>\n",
       "      <td>20210629_173500_2034.jpg</td>\n",
       "      <td>dry</td>\n",
       "    </tr>\n",
       "    <tr>\n",
       "      <th>1</th>\n",
       "      <td>20210629_173500_2064.jpg</td>\n",
       "      <td>dry</td>\n",
       "    </tr>\n",
       "    <tr>\n",
       "      <th>2</th>\n",
       "      <td>20210629_173500_2100.jpg</td>\n",
       "      <td>dry</td>\n",
       "    </tr>\n",
       "    <tr>\n",
       "      <th>3</th>\n",
       "      <td>20210629_173500_2214.jpg</td>\n",
       "      <td>dry</td>\n",
       "    </tr>\n",
       "    <tr>\n",
       "      <th>4</th>\n",
       "      <td>20210629_173500_2256.jpg</td>\n",
       "      <td>dry</td>\n",
       "    </tr>\n",
       "    <tr>\n",
       "      <th>...</th>\n",
       "      <td>...</td>\n",
       "      <td>...</td>\n",
       "    </tr>\n",
       "    <tr>\n",
       "      <th>4435</th>\n",
       "      <td>Log-20220326-183856 Data Log_3800.jpg</td>\n",
       "      <td>wet</td>\n",
       "    </tr>\n",
       "    <tr>\n",
       "      <th>4436</th>\n",
       "      <td>Log-20220326-183856 Data Log_3872.jpg</td>\n",
       "      <td>wet</td>\n",
       "    </tr>\n",
       "    <tr>\n",
       "      <th>4437</th>\n",
       "      <td>Log-20220326-183856 Data Log_3932.jpg</td>\n",
       "      <td>wet</td>\n",
       "    </tr>\n",
       "    <tr>\n",
       "      <th>4438</th>\n",
       "      <td>Log-20220326-183856 Data Log_4184.jpg</td>\n",
       "      <td>wet</td>\n",
       "    </tr>\n",
       "    <tr>\n",
       "      <th>4439</th>\n",
       "      <td>Log-20220326-183856 Data Log_4424.jpg</td>\n",
       "      <td>wet</td>\n",
       "    </tr>\n",
       "  </tbody>\n",
       "</table>\n",
       "<p>4440 rows × 2 columns</p>\n",
       "</div>"
      ],
      "text/plain": [
       "                                        img road_cond\n",
       "0                  20210629_173500_2034.jpg       dry\n",
       "1                  20210629_173500_2064.jpg       dry\n",
       "2                  20210629_173500_2100.jpg       dry\n",
       "3                  20210629_173500_2214.jpg       dry\n",
       "4                  20210629_173500_2256.jpg       dry\n",
       "...                                     ...       ...\n",
       "4435  Log-20220326-183856 Data Log_3800.jpg       wet\n",
       "4436  Log-20220326-183856 Data Log_3872.jpg       wet\n",
       "4437  Log-20220326-183856 Data Log_3932.jpg       wet\n",
       "4438  Log-20220326-183856 Data Log_4184.jpg       wet\n",
       "4439  Log-20220326-183856 Data Log_4424.jpg       wet\n",
       "\n",
       "[4440 rows x 2 columns]"
      ]
     },
     "execution_count": 8,
     "metadata": {},
     "output_type": "execute_result"
    }
   ],
   "source": [
    "gt_class_train_df = pd.DataFrame(list_data_train, columns=['img','road_cond'])\n",
    "# gt_class_train_df = pd.DataFrame(list_data, columns=['img','road_cond','visibility','road_type'])\n",
    "gt_class_train_df"
   ]
  },
  {
   "cell_type": "code",
   "execution_count": 9,
   "id": "4735a467",
   "metadata": {},
   "outputs": [
    {
     "name": "stdout",
     "output_type": "stream",
     "text": [
      "Image doesn't contain a gt_road_condition\n",
      "Image doesn't contain a gt_road_condition\n"
     ]
    }
   ],
   "source": [
    "list_data_val = []\n",
    "\n",
    "for sample in val_dataset_51:\n",
    "    try:\n",
    "        file_name = sample.filepath.split(\"/\")[-1]\n",
    "        road_cond_class = sample.gt_road_condition.classifications[0].label\n",
    "    #     visibility_class = sample.gt_visibility.classifications[0].label\n",
    "    #     road_type_class = sample.gt_roadtype.classifications[0].label\n",
    "        data = (file_name, road_cond_class)\n",
    "    #     data = (file_name, road_cond_class, visibility_class, road_type_class)\n",
    "        list_data_val.append(data)\n",
    "    except:\n",
    "        print(\"Image doesn't contain a gt_road_condition\")"
   ]
  },
  {
   "cell_type": "code",
   "execution_count": 10,
   "id": "6505af78",
   "metadata": {},
   "outputs": [
    {
     "data": {
      "text/html": [
       "<div>\n",
       "<style scoped>\n",
       "    .dataframe tbody tr th:only-of-type {\n",
       "        vertical-align: middle;\n",
       "    }\n",
       "\n",
       "    .dataframe tbody tr th {\n",
       "        vertical-align: top;\n",
       "    }\n",
       "\n",
       "    .dataframe thead th {\n",
       "        text-align: right;\n",
       "    }\n",
       "</style>\n",
       "<table border=\"1\" class=\"dataframe\">\n",
       "  <thead>\n",
       "    <tr style=\"text-align: right;\">\n",
       "      <th></th>\n",
       "      <th>img</th>\n",
       "      <th>road_cond</th>\n",
       "    </tr>\n",
       "  </thead>\n",
       "  <tbody>\n",
       "    <tr>\n",
       "      <th>0</th>\n",
       "      <td>20210629_173500_13326.jpg</td>\n",
       "      <td>dry</td>\n",
       "    </tr>\n",
       "    <tr>\n",
       "      <th>1</th>\n",
       "      <td>20210629_173500_13614.jpg</td>\n",
       "      <td>dry</td>\n",
       "    </tr>\n",
       "    <tr>\n",
       "      <th>2</th>\n",
       "      <td>20210629_173500_14178.jpg</td>\n",
       "      <td>dry</td>\n",
       "    </tr>\n",
       "    <tr>\n",
       "      <th>3</th>\n",
       "      <td>20210629_173500_15654.jpg</td>\n",
       "      <td>dry</td>\n",
       "    </tr>\n",
       "    <tr>\n",
       "      <th>4</th>\n",
       "      <td>20210629_174553_24183.jpg</td>\n",
       "      <td>dry</td>\n",
       "    </tr>\n",
       "    <tr>\n",
       "      <th>...</th>\n",
       "      <td>...</td>\n",
       "      <td>...</td>\n",
       "    </tr>\n",
       "    <tr>\n",
       "      <th>1149</th>\n",
       "      <td>Log-20220324-064020_89284.jpg</td>\n",
       "      <td>wet</td>\n",
       "    </tr>\n",
       "    <tr>\n",
       "      <th>1150</th>\n",
       "      <td>Log-20220121-134942 Data Log_29089.jpg</td>\n",
       "      <td>dry</td>\n",
       "    </tr>\n",
       "    <tr>\n",
       "      <th>1151</th>\n",
       "      <td>Log-20220121-134942 Data Log_29393.jpg</td>\n",
       "      <td>dry</td>\n",
       "    </tr>\n",
       "    <tr>\n",
       "      <th>1152</th>\n",
       "      <td>Log-20220121-134942 Data Log_29441.jpg</td>\n",
       "      <td>dry</td>\n",
       "    </tr>\n",
       "    <tr>\n",
       "      <th>1153</th>\n",
       "      <td>Log-20220121-134942 Data Log_29729.jpg</td>\n",
       "      <td>dry</td>\n",
       "    </tr>\n",
       "  </tbody>\n",
       "</table>\n",
       "<p>1154 rows × 2 columns</p>\n",
       "</div>"
      ],
      "text/plain": [
       "                                         img road_cond\n",
       "0                  20210629_173500_13326.jpg       dry\n",
       "1                  20210629_173500_13614.jpg       dry\n",
       "2                  20210629_173500_14178.jpg       dry\n",
       "3                  20210629_173500_15654.jpg       dry\n",
       "4                  20210629_174553_24183.jpg       dry\n",
       "...                                      ...       ...\n",
       "1149           Log-20220324-064020_89284.jpg       wet\n",
       "1150  Log-20220121-134942 Data Log_29089.jpg       dry\n",
       "1151  Log-20220121-134942 Data Log_29393.jpg       dry\n",
       "1152  Log-20220121-134942 Data Log_29441.jpg       dry\n",
       "1153  Log-20220121-134942 Data Log_29729.jpg       dry\n",
       "\n",
       "[1154 rows x 2 columns]"
      ]
     },
     "execution_count": 10,
     "metadata": {},
     "output_type": "execute_result"
    }
   ],
   "source": [
    "gt_class_val_df = pd.DataFrame(list_data_val, columns=['img','road_cond'])\n",
    "# gt_class_val_df = pd.DataFrame(list_data, columns=['img','road_cond','visibility','road_type'])\n",
    "gt_class_val_df"
   ]
  },
  {
   "cell_type": "markdown",
   "id": "a43bb250",
   "metadata": {},
   "source": [
    "## Save the labels in CSV files (in the yolo directory)"
   ]
  },
  {
   "cell_type": "code",
   "execution_count": 11,
   "id": "9fd7a42f",
   "metadata": {},
   "outputs": [],
   "source": [
    "PATH = '/home/selim/Desktop/yolov5_multitask/data/multitasks/'\n",
    "gt_class_train_df.to_csv(f'{PATH}gt_class_train_time_split.csv', index=False)\n",
    "gt_class_val_df.to_csv(f'{PATH}gt_class_val_time_split.csv', index=False)"
   ]
  },
  {
   "cell_type": "markdown",
   "id": "77101be5",
   "metadata": {},
   "source": [
    "## Add the path to the img name (for yolo)"
   ]
  },
  {
   "cell_type": "code",
   "execution_count": 12,
   "id": "94c7a6e2",
   "metadata": {},
   "outputs": [
    {
     "data": {
      "text/plain": [
       "img          4435\n",
       "road_cond       3\n",
       "img_path     4435\n",
       "dtype: int64"
      ]
     },
     "execution_count": 12,
     "metadata": {},
     "output_type": "execute_result"
    }
   ],
   "source": [
    "gt_class_train_df['img_path'] = gt_class_train_df['img'].apply(lambda x: str('data/multitasks/esmart_wip/' + x))\n",
    "gt_class_train_df.nunique()"
   ]
  },
  {
   "cell_type": "code",
   "execution_count": 13,
   "id": "1bc1ce3d",
   "metadata": {},
   "outputs": [
    {
     "data": {
      "text/plain": [
       "img          1154\n",
       "road_cond       3\n",
       "img_path     1154\n",
       "dtype: int64"
      ]
     },
     "execution_count": 13,
     "metadata": {},
     "output_type": "execute_result"
    }
   ],
   "source": [
    "gt_class_val_df['img_path'] = gt_class_val_df['img'].apply(lambda x: str('data/multitasks/esmart_wip/' + x))\n",
    "gt_class_val_df.nunique()"
   ]
  },
  {
   "cell_type": "code",
   "execution_count": 14,
   "id": "f2278536",
   "metadata": {},
   "outputs": [
    {
     "data": {
      "text/html": [
       "<div>\n",
       "<style scoped>\n",
       "    .dataframe tbody tr th:only-of-type {\n",
       "        vertical-align: middle;\n",
       "    }\n",
       "\n",
       "    .dataframe tbody tr th {\n",
       "        vertical-align: top;\n",
       "    }\n",
       "\n",
       "    .dataframe thead th {\n",
       "        text-align: right;\n",
       "    }\n",
       "</style>\n",
       "<table border=\"1\" class=\"dataframe\">\n",
       "  <thead>\n",
       "    <tr style=\"text-align: right;\">\n",
       "      <th></th>\n",
       "      <th>img</th>\n",
       "      <th>road_cond</th>\n",
       "      <th>img_path</th>\n",
       "    </tr>\n",
       "  </thead>\n",
       "  <tbody>\n",
       "    <tr>\n",
       "      <th>0</th>\n",
       "      <td>20210629_173500_13326.jpg</td>\n",
       "      <td>dry</td>\n",
       "      <td>data/multitasks/esmart_wip/20210629_173500_133...</td>\n",
       "    </tr>\n",
       "    <tr>\n",
       "      <th>1</th>\n",
       "      <td>20210629_173500_13614.jpg</td>\n",
       "      <td>dry</td>\n",
       "      <td>data/multitasks/esmart_wip/20210629_173500_136...</td>\n",
       "    </tr>\n",
       "    <tr>\n",
       "      <th>2</th>\n",
       "      <td>20210629_173500_14178.jpg</td>\n",
       "      <td>dry</td>\n",
       "      <td>data/multitasks/esmart_wip/20210629_173500_141...</td>\n",
       "    </tr>\n",
       "    <tr>\n",
       "      <th>3</th>\n",
       "      <td>20210629_173500_15654.jpg</td>\n",
       "      <td>dry</td>\n",
       "      <td>data/multitasks/esmart_wip/20210629_173500_156...</td>\n",
       "    </tr>\n",
       "    <tr>\n",
       "      <th>4</th>\n",
       "      <td>20210629_174553_24183.jpg</td>\n",
       "      <td>dry</td>\n",
       "      <td>data/multitasks/esmart_wip/20210629_174553_241...</td>\n",
       "    </tr>\n",
       "  </tbody>\n",
       "</table>\n",
       "</div>"
      ],
      "text/plain": [
       "                         img road_cond  \\\n",
       "0  20210629_173500_13326.jpg       dry   \n",
       "1  20210629_173500_13614.jpg       dry   \n",
       "2  20210629_173500_14178.jpg       dry   \n",
       "3  20210629_173500_15654.jpg       dry   \n",
       "4  20210629_174553_24183.jpg       dry   \n",
       "\n",
       "                                            img_path  \n",
       "0  data/multitasks/esmart_wip/20210629_173500_133...  \n",
       "1  data/multitasks/esmart_wip/20210629_173500_136...  \n",
       "2  data/multitasks/esmart_wip/20210629_173500_141...  \n",
       "3  data/multitasks/esmart_wip/20210629_173500_156...  \n",
       "4  data/multitasks/esmart_wip/20210629_174553_241...  "
      ]
     },
     "execution_count": 14,
     "metadata": {},
     "output_type": "execute_result"
    }
   ],
   "source": [
    "gt_class_val_df.head()"
   ]
  },
  {
   "cell_type": "code",
   "execution_count": 15,
   "id": "371b0315",
   "metadata": {},
   "outputs": [],
   "source": [
    "gt_class_train_df['img_path'].to_csv(f'{PATH}esmart_wip/train_time_split.txt', header=False, index=False)"
   ]
  },
  {
   "cell_type": "code",
   "execution_count": 16,
   "id": "d6dc7470",
   "metadata": {},
   "outputs": [],
   "source": [
    "gt_class_val_df['img_path'].to_csv(f'{PATH}esmart_wip/val_time_split.txt', header=False, index=False)"
   ]
  },
  {
   "cell_type": "code",
   "execution_count": null,
   "id": "efa35673",
   "metadata": {},
   "outputs": [],
   "source": []
  }
 ],
 "metadata": {
  "kernelspec": {
   "display_name": "Python 3 (ipykernel)",
   "language": "python",
   "name": "python3"
  },
  "language_info": {
   "codemirror_mode": {
    "name": "ipython",
    "version": 3
   },
   "file_extension": ".py",
   "mimetype": "text/x-python",
   "name": "python",
   "nbconvert_exporter": "python",
   "pygments_lexer": "ipython3",
   "version": "3.8.10"
  },
  "varInspector": {
   "cols": {
    "lenName": 16,
    "lenType": 16,
    "lenVar": 40
   },
   "kernels_config": {
    "python": {
     "delete_cmd_postfix": "",
     "delete_cmd_prefix": "del ",
     "library": "var_list.py",
     "varRefreshCmd": "print(var_dic_list())"
    },
    "r": {
     "delete_cmd_postfix": ") ",
     "delete_cmd_prefix": "rm(",
     "library": "var_list.r",
     "varRefreshCmd": "cat(var_dic_list()) "
    }
   },
   "types_to_exclude": [
    "module",
    "function",
    "builtin_function_or_method",
    "instance",
    "_Feature"
   ],
   "window_display": false
  }
 },
 "nbformat": 4,
 "nbformat_minor": 5
}
