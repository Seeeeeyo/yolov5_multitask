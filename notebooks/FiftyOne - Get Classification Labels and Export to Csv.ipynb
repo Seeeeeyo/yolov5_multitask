{
 "cells": [
  {
   "cell_type": "markdown",
   "id": "59802feb",
   "metadata": {},
   "source": [
    "# Notebook to extract the classification ground truths from fiftyone and save them in csv files. \n",
    "These csv are then used in the yolo multitask model "
   ]
  },
  {
   "cell_type": "code",
   "execution_count": 1,
   "id": "aee98768",
   "metadata": {},
   "outputs": [],
   "source": [
    "# pip install --upgrade fiftyone"
   ]
  },
  {
   "cell_type": "code",
   "execution_count": 1,
   "id": "20c7e16a",
   "metadata": {},
   "outputs": [],
   "source": [
    "import fiftyone as fo\n",
    "import pandas as pd"
   ]
  },
  {
   "cell_type": "markdown",
   "id": "de6d438a",
   "metadata": {},
   "source": [
    "## Load the datasets"
   ]
  },
  {
   "cell_type": "code",
   "execution_count": null,
   "id": "a98e8819",
   "metadata": {},
   "outputs": [],
   "source": [
    "dataset = fo.load_dataset(\"esmart_wip\")"
   ]
  },
  {
   "cell_type": "code",
   "execution_count": 21,
   "id": "62c2d198",
   "metadata": {},
   "outputs": [
    {
     "data": {
      "text/plain": [
       "Dataset:     esmart_context\n",
       "Media type:  image\n",
       "Num samples: 15892\n",
       "Sample fields:\n",
       "    id:                fiftyone.core.fields.ObjectIdField\n",
       "    filepath:          fiftyone.core.fields.StringField\n",
       "    tags:              fiftyone.core.fields.ListField(fiftyone.core.fields.StringField)\n",
       "    metadata:          fiftyone.core.fields.EmbeddedDocumentField(fiftyone.core.metadata.ImageMetadata)\n",
       "    ground_truth:      fiftyone.core.fields.EmbeddedDocumentField(fiftyone.core.labels.Detections)\n",
       "    location:          fiftyone.core.fields.EmbeddedDocumentField(fiftyone.core.labels.GeoLocation)\n",
       "    gt_roadtype:       fiftyone.core.fields.EmbeddedDocumentField(fiftyone.core.labels.Classifications)\n",
       "    gt_road_condition: fiftyone.core.fields.EmbeddedDocumentField(fiftyone.core.labels.Classifications)\n",
       "    gt_visibility:     fiftyone.core.fields.EmbeddedDocumentField(fiftyone.core.labels.Classifications)\n",
       "View stages:\n",
       "    1. Exists(field='gt_road_condition', bool=True)"
      ]
     },
     "execution_count": 21,
     "metadata": {},
     "output_type": "execute_result"
    }
   ],
   "source": [
    "dataset = dataset.exists(\"gt_road_condition\")\n",
    "dataset"
   ]
  },
  {
   "cell_type": "code",
   "execution_count": null,
   "id": "c663f7bf",
   "metadata": {},
   "outputs": [],
   "source": [
    "fo.launch_app(dataset, port=5252)"
   ]
  },
  {
   "cell_type": "code",
   "execution_count": 22,
   "id": "86e81626",
   "metadata": {},
   "outputs": [],
   "source": [
    "train_dataset_51 = dataset.match_tags(\"TRAIN_RC_AUTO_TIME\")\n",
    "val_dataset_51 = dataset.match_tags(\"VAL_RC_AUTO_TIME\")"
   ]
  },
  {
   "cell_type": "markdown",
   "id": "d5da6872",
   "metadata": {},
   "source": [
    "## Get the labels "
   ]
  },
  {
   "cell_type": "code",
   "execution_count": 23,
   "id": "9b673f2d",
   "metadata": {},
   "outputs": [],
   "source": [
    "list_data_train = []\n",
    "\n",
    "for sample in train_dataset_51:\n",
    "    try:\n",
    "        file_name = sample.filepath.split(\"/\")[-1]\n",
    "        road_cond_class = sample.gt_road_condition.classifications[0].label\n",
    "    #     visibility_class = sample.gt_visibility.classifications[0].label\n",
    "    #     road_type_class = sample.gt_roadtype.classifications[0].label\n",
    "        data = (file_name, road_cond_class)\n",
    "    #     data = (file_name, road_cond_class, visibility_class, road_type_class)\n",
    "        list_data_train.append(data)\n",
    "    except:\n",
    "        print(\"Image doesn't contain a gt_road_condition\")"
   ]
  },
  {
   "cell_type": "code",
   "execution_count": 24,
   "id": "b305dd97",
   "metadata": {},
   "outputs": [
    {
     "data": {
      "text/html": [
       "<div>\n",
       "<style scoped>\n",
       "    .dataframe tbody tr th:only-of-type {\n",
       "        vertical-align: middle;\n",
       "    }\n",
       "\n",
       "    .dataframe tbody tr th {\n",
       "        vertical-align: top;\n",
       "    }\n",
       "\n",
       "    .dataframe thead th {\n",
       "        text-align: right;\n",
       "    }\n",
       "</style>\n",
       "<table border=\"1\" class=\"dataframe\">\n",
       "  <thead>\n",
       "    <tr style=\"text-align: right;\">\n",
       "      <th></th>\n",
       "      <th>img</th>\n",
       "      <th>road_cond</th>\n",
       "    </tr>\n",
       "  </thead>\n",
       "  <tbody>\n",
       "    <tr>\n",
       "      <th>0</th>\n",
       "      <td>Log-20220412-190445 Untitled_684.jpg</td>\n",
       "      <td>dry</td>\n",
       "    </tr>\n",
       "    <tr>\n",
       "      <th>1</th>\n",
       "      <td>Log-20220412-190445 Untitled_715.jpg</td>\n",
       "      <td>dry</td>\n",
       "    </tr>\n",
       "    <tr>\n",
       "      <th>2</th>\n",
       "      <td>Log-20220412-190445 Untitled_746.jpg</td>\n",
       "      <td>dry</td>\n",
       "    </tr>\n",
       "    <tr>\n",
       "      <th>3</th>\n",
       "      <td>Log-20220412-190445 Untitled_777.jpg</td>\n",
       "      <td>dry</td>\n",
       "    </tr>\n",
       "    <tr>\n",
       "      <th>4</th>\n",
       "      <td>Log-20220412-190445 Untitled_808.jpg</td>\n",
       "      <td>dry</td>\n",
       "    </tr>\n",
       "    <tr>\n",
       "      <th>...</th>\n",
       "      <td>...</td>\n",
       "      <td>...</td>\n",
       "    </tr>\n",
       "    <tr>\n",
       "      <th>11177</th>\n",
       "      <td>Log-20220724- Selim-Data Log_1245.jpg</td>\n",
       "      <td>wet</td>\n",
       "    </tr>\n",
       "    <tr>\n",
       "      <th>11178</th>\n",
       "      <td>Log-20220724- Selim-Data Log_1276.jpg</td>\n",
       "      <td>wet</td>\n",
       "    </tr>\n",
       "    <tr>\n",
       "      <th>11179</th>\n",
       "      <td>Log-20220724- Selim-Data Log_1307.jpg</td>\n",
       "      <td>wet</td>\n",
       "    </tr>\n",
       "    <tr>\n",
       "      <th>11180</th>\n",
       "      <td>Log-20220724- Selim-Data Log_1338.jpg</td>\n",
       "      <td>wet</td>\n",
       "    </tr>\n",
       "    <tr>\n",
       "      <th>11181</th>\n",
       "      <td>Log-20220724- Selim-Data Log_1369.jpg</td>\n",
       "      <td>wet</td>\n",
       "    </tr>\n",
       "  </tbody>\n",
       "</table>\n",
       "<p>11182 rows × 2 columns</p>\n",
       "</div>"
      ],
      "text/plain": [
       "                                         img road_cond\n",
       "0       Log-20220412-190445 Untitled_684.jpg       dry\n",
       "1       Log-20220412-190445 Untitled_715.jpg       dry\n",
       "2       Log-20220412-190445 Untitled_746.jpg       dry\n",
       "3       Log-20220412-190445 Untitled_777.jpg       dry\n",
       "4       Log-20220412-190445 Untitled_808.jpg       dry\n",
       "...                                      ...       ...\n",
       "11177  Log-20220724- Selim-Data Log_1245.jpg       wet\n",
       "11178  Log-20220724- Selim-Data Log_1276.jpg       wet\n",
       "11179  Log-20220724- Selim-Data Log_1307.jpg       wet\n",
       "11180  Log-20220724- Selim-Data Log_1338.jpg       wet\n",
       "11181  Log-20220724- Selim-Data Log_1369.jpg       wet\n",
       "\n",
       "[11182 rows x 2 columns]"
      ]
     },
     "execution_count": 24,
     "metadata": {},
     "output_type": "execute_result"
    }
   ],
   "source": [
    "gt_class_train_df = pd.DataFrame(list_data_train, columns=['img','road_cond'])\n",
    "# gt_class_train_df = pd.DataFrame(list_data, columns=['img','road_cond','visibility','road_type'])\n",
    "gt_class_train_df"
   ]
  },
  {
   "cell_type": "code",
   "execution_count": 25,
   "id": "6f109f84",
   "metadata": {},
   "outputs": [],
   "source": [
    "# Shuffling a Pandas dataframe with sklearn\n",
    "from sklearn.utils import shuffle\n",
    "gt_class_train_df = shuffle(gt_class_train_df, random_state=1)\n",
    "gt_class_train_df.reset_index(drop=True, inplace=True)"
   ]
  },
  {
   "cell_type": "code",
   "execution_count": 26,
   "id": "d42a604b",
   "metadata": {},
   "outputs": [
    {
     "data": {
      "text/html": [
       "<div>\n",
       "<style scoped>\n",
       "    .dataframe tbody tr th:only-of-type {\n",
       "        vertical-align: middle;\n",
       "    }\n",
       "\n",
       "    .dataframe tbody tr th {\n",
       "        vertical-align: top;\n",
       "    }\n",
       "\n",
       "    .dataframe thead th {\n",
       "        text-align: right;\n",
       "    }\n",
       "</style>\n",
       "<table border=\"1\" class=\"dataframe\">\n",
       "  <thead>\n",
       "    <tr style=\"text-align: right;\">\n",
       "      <th></th>\n",
       "      <th>img</th>\n",
       "      <th>road_cond</th>\n",
       "    </tr>\n",
       "  </thead>\n",
       "  <tbody>\n",
       "    <tr>\n",
       "      <th>0</th>\n",
       "      <td>Log-20220123-124034 Data Log_31932.jpg</td>\n",
       "      <td>dry</td>\n",
       "    </tr>\n",
       "    <tr>\n",
       "      <th>1</th>\n",
       "      <td>Log-20220126-081950 Data Log_22683.jpg</td>\n",
       "      <td>wet</td>\n",
       "    </tr>\n",
       "    <tr>\n",
       "      <th>2</th>\n",
       "      <td>Log-20220219-131608 Data Log_21454.jpg</td>\n",
       "      <td>snowy</td>\n",
       "    </tr>\n",
       "    <tr>\n",
       "      <th>3</th>\n",
       "      <td>Log-20220219-131608 Data Log_21547.jpg</td>\n",
       "      <td>snowy</td>\n",
       "    </tr>\n",
       "    <tr>\n",
       "      <th>4</th>\n",
       "      <td>Log-20220419-101657 Data Log_22012.jpg</td>\n",
       "      <td>wet</td>\n",
       "    </tr>\n",
       "    <tr>\n",
       "      <th>...</th>\n",
       "      <td>...</td>\n",
       "      <td>...</td>\n",
       "    </tr>\n",
       "    <tr>\n",
       "      <th>11177</th>\n",
       "      <td>20210629_173500_2560.jpg</td>\n",
       "      <td>dry</td>\n",
       "    </tr>\n",
       "    <tr>\n",
       "      <th>11178</th>\n",
       "      <td>Log-20220324-064020_57512.jpg</td>\n",
       "      <td>wet</td>\n",
       "    </tr>\n",
       "    <tr>\n",
       "      <th>11179</th>\n",
       "      <td>Log-20220412-192914 Untitled_11132.jpg</td>\n",
       "      <td>dry</td>\n",
       "    </tr>\n",
       "    <tr>\n",
       "      <th>11180</th>\n",
       "      <td>Log-20220426-064124 Data Log_20784.jpg</td>\n",
       "      <td>dry</td>\n",
       "    </tr>\n",
       "    <tr>\n",
       "      <th>11181</th>\n",
       "      <td>Log-20220412-190445 Untitled_7969.jpg</td>\n",
       "      <td>dry</td>\n",
       "    </tr>\n",
       "  </tbody>\n",
       "</table>\n",
       "<p>11182 rows × 2 columns</p>\n",
       "</div>"
      ],
      "text/plain": [
       "                                          img road_cond\n",
       "0      Log-20220123-124034 Data Log_31932.jpg       dry\n",
       "1      Log-20220126-081950 Data Log_22683.jpg       wet\n",
       "2      Log-20220219-131608 Data Log_21454.jpg     snowy\n",
       "3      Log-20220219-131608 Data Log_21547.jpg     snowy\n",
       "4      Log-20220419-101657 Data Log_22012.jpg       wet\n",
       "...                                       ...       ...\n",
       "11177                20210629_173500_2560.jpg       dry\n",
       "11178           Log-20220324-064020_57512.jpg       wet\n",
       "11179  Log-20220412-192914 Untitled_11132.jpg       dry\n",
       "11180  Log-20220426-064124 Data Log_20784.jpg       dry\n",
       "11181   Log-20220412-190445 Untitled_7969.jpg       dry\n",
       "\n",
       "[11182 rows x 2 columns]"
      ]
     },
     "execution_count": 26,
     "metadata": {},
     "output_type": "execute_result"
    }
   ],
   "source": [
    "gt_class_train_df"
   ]
  },
  {
   "cell_type": "code",
   "execution_count": 27,
   "id": "4735a467",
   "metadata": {},
   "outputs": [],
   "source": [
    "list_data_val = []\n",
    "\n",
    "for sample in val_dataset_51:\n",
    "    try:\n",
    "        file_name = sample.filepath.split(\"/\")[-1]\n",
    "        road_cond_class = sample.gt_road_condition.classifications[0].label\n",
    "    #     visibility_class = sample.gt_visibility.classifications[0].label\n",
    "    #     road_type_class = sample.gt_roadtype.classifications[0].label\n",
    "        data = (file_name, road_cond_class)\n",
    "    #     data = (file_name, road_cond_class, visibility_class, road_type_class)\n",
    "        list_data_val.append(data)\n",
    "    except:\n",
    "        print(\"Image doesn't contain a gt_road_condition\")"
   ]
  },
  {
   "cell_type": "code",
   "execution_count": 28,
   "id": "6505af78",
   "metadata": {},
   "outputs": [],
   "source": [
    "gt_class_val_df = pd.DataFrame(list_data_val, columns=['img','road_cond'])"
   ]
  },
  {
   "cell_type": "code",
   "execution_count": 29,
   "id": "1b5ebcd5",
   "metadata": {},
   "outputs": [
    {
     "data": {
      "text/html": [
       "<div>\n",
       "<style scoped>\n",
       "    .dataframe tbody tr th:only-of-type {\n",
       "        vertical-align: middle;\n",
       "    }\n",
       "\n",
       "    .dataframe tbody tr th {\n",
       "        vertical-align: top;\n",
       "    }\n",
       "\n",
       "    .dataframe thead th {\n",
       "        text-align: right;\n",
       "    }\n",
       "</style>\n",
       "<table border=\"1\" class=\"dataframe\">\n",
       "  <thead>\n",
       "    <tr style=\"text-align: right;\">\n",
       "      <th></th>\n",
       "      <th>img</th>\n",
       "      <th>road_cond</th>\n",
       "    </tr>\n",
       "  </thead>\n",
       "  <tbody>\n",
       "    <tr>\n",
       "      <th>0</th>\n",
       "      <td>Log-20220412-192914 Untitled_25361.jpg</td>\n",
       "      <td>dry</td>\n",
       "    </tr>\n",
       "    <tr>\n",
       "      <th>1</th>\n",
       "      <td>Log-20220419-101657 Data Log_33668.jpg</td>\n",
       "      <td>wet</td>\n",
       "    </tr>\n",
       "    <tr>\n",
       "      <th>2</th>\n",
       "      <td>Log-20220419-063722 Data Log_58885.jpg</td>\n",
       "      <td>snowy</td>\n",
       "    </tr>\n",
       "    <tr>\n",
       "      <th>3</th>\n",
       "      <td>Log-20220419-063722 Data Log_49275.jpg</td>\n",
       "      <td>snowy</td>\n",
       "    </tr>\n",
       "    <tr>\n",
       "      <th>4</th>\n",
       "      <td>Log-20220414-064154 Data Log_82524.jpg</td>\n",
       "      <td>wet</td>\n",
       "    </tr>\n",
       "    <tr>\n",
       "      <th>...</th>\n",
       "      <td>...</td>\n",
       "      <td>...</td>\n",
       "    </tr>\n",
       "    <tr>\n",
       "      <th>3268</th>\n",
       "      <td>Log-20220222-083904 Data Log_47836.jpg</td>\n",
       "      <td>snowy</td>\n",
       "    </tr>\n",
       "    <tr>\n",
       "      <th>3269</th>\n",
       "      <td>Log-20220414-064154 Data Log_94335.jpg</td>\n",
       "      <td>wet</td>\n",
       "    </tr>\n",
       "    <tr>\n",
       "      <th>3270</th>\n",
       "      <td>Log-20220419-063722 Data Log_50391.jpg</td>\n",
       "      <td>snowy</td>\n",
       "    </tr>\n",
       "    <tr>\n",
       "      <th>3271</th>\n",
       "      <td>Log-20220412-192914 Untitled_24741.jpg</td>\n",
       "      <td>dry</td>\n",
       "    </tr>\n",
       "    <tr>\n",
       "      <th>3272</th>\n",
       "      <td>Log-20220419-063722 Data Log_49306.jpg</td>\n",
       "      <td>snowy</td>\n",
       "    </tr>\n",
       "  </tbody>\n",
       "</table>\n",
       "<p>3273 rows × 2 columns</p>\n",
       "</div>"
      ],
      "text/plain": [
       "                                         img road_cond\n",
       "0     Log-20220412-192914 Untitled_25361.jpg       dry\n",
       "1     Log-20220419-101657 Data Log_33668.jpg       wet\n",
       "2     Log-20220419-063722 Data Log_58885.jpg     snowy\n",
       "3     Log-20220419-063722 Data Log_49275.jpg     snowy\n",
       "4     Log-20220414-064154 Data Log_82524.jpg       wet\n",
       "...                                      ...       ...\n",
       "3268  Log-20220222-083904 Data Log_47836.jpg     snowy\n",
       "3269  Log-20220414-064154 Data Log_94335.jpg       wet\n",
       "3270  Log-20220419-063722 Data Log_50391.jpg     snowy\n",
       "3271  Log-20220412-192914 Untitled_24741.jpg       dry\n",
       "3272  Log-20220419-063722 Data Log_49306.jpg     snowy\n",
       "\n",
       "[3273 rows x 2 columns]"
      ]
     },
     "execution_count": 29,
     "metadata": {},
     "output_type": "execute_result"
    }
   ],
   "source": [
    "# Shuffling a Pandas dataframe with sklearn\n",
    "from sklearn.utils import shuffle\n",
    "gt_class_val_df = shuffle(gt_class_val_df, random_state=1)\n",
    "gt_class_val_df.reset_index(drop=True, inplace=True)\n",
    "gt_class_val_df"
   ]
  },
  {
   "cell_type": "markdown",
   "id": "a43bb250",
   "metadata": {},
   "source": [
    "## Save the labels in CSV files (in the yolo directory)"
   ]
  },
  {
   "cell_type": "code",
   "execution_count": 13,
   "id": "9fd7a42f",
   "metadata": {},
   "outputs": [],
   "source": [
    "# PATH = '/home/selim/Desktop/yolov5_multitask/data/multitasks/'\n",
    "# gt_class_train_df.to_csv(f'{PATH}gt_class_train_time_split.csv', index=False)\n",
    "# gt_class_val_df.to_csv(f'{PATH}gt_class_val_time_split.csv', index=False)\n",
    "PATH = '/home/selim/Desktop/yolov5_multitask/data/multitasks/'\n",
    "gt_class_train_df.to_csv(f'{PATH}gt_class_train_time_split.csv', index=False)\n",
    "gt_class_val_df.to_csv(f'{PATH}gt_class_val_time_split.csv', index=False)"
   ]
  },
  {
   "cell_type": "markdown",
   "id": "77101be5",
   "metadata": {},
   "source": [
    "## Add the path to the img name (for yolo)"
   ]
  },
  {
   "cell_type": "code",
   "execution_count": 14,
   "id": "94c7a6e2",
   "metadata": {},
   "outputs": [
    {
     "data": {
      "text/plain": [
       "img          4544\n",
       "road_cond       3\n",
       "img_path     4544\n",
       "dtype: int64"
      ]
     },
     "execution_count": 14,
     "metadata": {},
     "output_type": "execute_result"
    }
   ],
   "source": [
    "gt_class_train_df['img_path'] = gt_class_train_df['img'].apply(lambda x: str('data/multitasks/esmart_wip/' + x))\n",
    "gt_class_train_df.nunique()"
   ]
  },
  {
   "cell_type": "code",
   "execution_count": 15,
   "id": "1bc1ce3d",
   "metadata": {},
   "outputs": [
    {
     "data": {
      "text/plain": [
       "img          1127\n",
       "road_cond       3\n",
       "img_path     1127\n",
       "dtype: int64"
      ]
     },
     "execution_count": 15,
     "metadata": {},
     "output_type": "execute_result"
    }
   ],
   "source": [
    "gt_class_val_df['img_path'] = gt_class_val_df['img'].apply(lambda x: str('data/multitasks/esmart_wip/' + x))\n",
    "gt_class_val_df.nunique()"
   ]
  },
  {
   "cell_type": "code",
   "execution_count": 16,
   "id": "f2278536",
   "metadata": {},
   "outputs": [
    {
     "data": {
      "text/html": [
       "<div>\n",
       "<style scoped>\n",
       "    .dataframe tbody tr th:only-of-type {\n",
       "        vertical-align: middle;\n",
       "    }\n",
       "\n",
       "    .dataframe tbody tr th {\n",
       "        vertical-align: top;\n",
       "    }\n",
       "\n",
       "    .dataframe thead th {\n",
       "        text-align: right;\n",
       "    }\n",
       "</style>\n",
       "<table border=\"1\" class=\"dataframe\">\n",
       "  <thead>\n",
       "    <tr style=\"text-align: right;\">\n",
       "      <th></th>\n",
       "      <th>img</th>\n",
       "      <th>road_cond</th>\n",
       "      <th>img_path</th>\n",
       "    </tr>\n",
       "  </thead>\n",
       "  <tbody>\n",
       "    <tr>\n",
       "      <th>0</th>\n",
       "      <td>20210724_133321_35184.jpg</td>\n",
       "      <td>dry</td>\n",
       "      <td>data/multitasks/esmart_wip/20210724_133321_351...</td>\n",
       "    </tr>\n",
       "    <tr>\n",
       "      <th>1</th>\n",
       "      <td>Log-20220219-131608 Data Log_36241.jpg</td>\n",
       "      <td>snowy</td>\n",
       "      <td>data/multitasks/esmart_wip/Log-20220219-131608...</td>\n",
       "    </tr>\n",
       "    <tr>\n",
       "      <th>2</th>\n",
       "      <td>20210724_141043_41646.jpg</td>\n",
       "      <td>dry</td>\n",
       "      <td>data/multitasks/esmart_wip/20210724_141043_416...</td>\n",
       "    </tr>\n",
       "    <tr>\n",
       "      <th>3</th>\n",
       "      <td>Log-20220318-064528 Data Log_32875.jpg</td>\n",
       "      <td>wet</td>\n",
       "      <td>data/multitasks/esmart_wip/Log-20220318-064528...</td>\n",
       "    </tr>\n",
       "    <tr>\n",
       "      <th>4</th>\n",
       "      <td>20211129_205422_18759.0.jpg</td>\n",
       "      <td>dry</td>\n",
       "      <td>data/multitasks/esmart_wip/20211129_205422_187...</td>\n",
       "    </tr>\n",
       "  </tbody>\n",
       "</table>\n",
       "</div>"
      ],
      "text/plain": [
       "                                      img road_cond  \\\n",
       "0               20210724_133321_35184.jpg       dry   \n",
       "1  Log-20220219-131608 Data Log_36241.jpg     snowy   \n",
       "2               20210724_141043_41646.jpg       dry   \n",
       "3  Log-20220318-064528 Data Log_32875.jpg       wet   \n",
       "4             20211129_205422_18759.0.jpg       dry   \n",
       "\n",
       "                                            img_path  \n",
       "0  data/multitasks/esmart_wip/20210724_133321_351...  \n",
       "1  data/multitasks/esmart_wip/Log-20220219-131608...  \n",
       "2  data/multitasks/esmart_wip/20210724_141043_416...  \n",
       "3  data/multitasks/esmart_wip/Log-20220318-064528...  \n",
       "4  data/multitasks/esmart_wip/20211129_205422_187...  "
      ]
     },
     "execution_count": 16,
     "metadata": {},
     "output_type": "execute_result"
    }
   ],
   "source": [
    "gt_class_val_df.head()"
   ]
  },
  {
   "cell_type": "code",
   "execution_count": 17,
   "id": "371b0315",
   "metadata": {},
   "outputs": [],
   "source": [
    "gt_class_train_df['img_path'].to_csv(f'{PATH}esmart_wip/train_time_split.txt', header=False, index=False)"
   ]
  },
  {
   "cell_type": "code",
   "execution_count": 18,
   "id": "d6dc7470",
   "metadata": {},
   "outputs": [],
   "source": [
    "gt_class_val_df['img_path'].to_csv(f'{PATH}esmart_wip/val_time_split.txt', header=False, index=False)"
   ]
  },
  {
   "cell_type": "code",
   "execution_count": null,
   "id": "75675053",
   "metadata": {},
   "outputs": [],
   "source": []
  }
 ],
 "metadata": {
  "kernelspec": {
   "display_name": "Python 3 (ipykernel)",
   "language": "python",
   "name": "python3"
  },
  "language_info": {
   "codemirror_mode": {
    "name": "ipython",
    "version": 3
   },
   "file_extension": ".py",
   "mimetype": "text/x-python",
   "name": "python",
   "nbconvert_exporter": "python",
   "pygments_lexer": "ipython3",
   "version": "3.8.10"
  },
  "varInspector": {
   "cols": {
    "lenName": 16,
    "lenType": 16,
    "lenVar": 40
   },
   "kernels_config": {
    "python": {
     "delete_cmd_postfix": "",
     "delete_cmd_prefix": "del ",
     "library": "var_list.py",
     "varRefreshCmd": "print(var_dic_list())"
    },
    "r": {
     "delete_cmd_postfix": ") ",
     "delete_cmd_prefix": "rm(",
     "library": "var_list.r",
     "varRefreshCmd": "cat(var_dic_list()) "
    }
   },
   "types_to_exclude": [
    "module",
    "function",
    "builtin_function_or_method",
    "instance",
    "_Feature"
   ],
   "window_display": false
  }
 },
 "nbformat": 4,
 "nbformat_minor": 5
}
