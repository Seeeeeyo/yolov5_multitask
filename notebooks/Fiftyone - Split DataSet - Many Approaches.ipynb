{
 "cells": [
  {
   "cell_type": "code",
   "execution_count": 1,
   "id": "afb2cf5b",
   "metadata": {},
   "outputs": [],
   "source": [
    "# !export FIFTYONE_DEFAULT_APP_ADDRESS=cadmium\n",
    "# !export FIFTYONE_DATABASE_URI=mongodb://cadmium:27017\n",
    "\n",
    "# mongodb://[username:password@]host[:port]"
   ]
  },
  {
   "cell_type": "code",
   "execution_count": 3,
   "id": "1cf013e0",
   "metadata": {},
   "outputs": [],
   "source": [
    "import fiftyone as fo\n",
    "import pandas as pd\n",
    "import numpy as np\n",
    "import math \n",
    "import fiftyone.brain as fob\n",
    "from fiftyone import ViewField as F\n",
    "import fiftyone.zoo as foz\n",
    "import cv2"
   ]
  },
  {
   "cell_type": "code",
   "execution_count": 4,
   "id": "c68852cf",
   "metadata": {},
   "outputs": [],
   "source": [
    "#!pip install \"notebook>=5.3\" \"ipywidgets>=7.5\""
   ]
  },
  {
   "cell_type": "markdown",
   "id": "dc4851ea",
   "metadata": {},
   "source": [
    "# Notebook to split the dataset using different approaches \n",
    "See https://esmartcontrol.atlassian.net/wiki/spaces/ES/pages/2342420485/YoloV5+Multitasks#Data-splits"
   ]
  },
  {
   "cell_type": "code",
   "execution_count": 5,
   "id": "34843371",
   "metadata": {},
   "outputs": [],
   "source": [
    "dataset = fo.load_dataset(\"esmart_wip\")"
   ]
  },
  {
   "cell_type": "code",
   "execution_count": 6,
   "id": "86b06230",
   "metadata": {},
   "outputs": [
    {
     "data": {
      "text/html": [
       "\n",
       "        <iframe\n",
       "            width=\"100%\"\n",
       "            height=\"800\"\n",
       "            src=\"http://localhost:5151/?context=ipython&subscription=db5c25c9-dd62-447e-8f60-3b88074447c7\"\n",
       "            frameborder=\"0\"\n",
       "            allowfullscreen\n",
       "            \n",
       "        ></iframe>\n",
       "        "
      ],
      "text/plain": [
       "<IPython.lib.display.IFrame at 0x28b3a93a0>"
      ]
     },
     "metadata": {},
     "output_type": "display_data"
    },
    {
     "data": {
      "text/plain": [
       "Dataset:          esmart_wip\n",
       "Media type:       image\n",
       "Num samples:      6725\n",
       "Selected samples: 0\n",
       "Selected labels:  0\n",
       "Session URL:      http://localhost:5151/"
      ]
     },
     "execution_count": 6,
     "metadata": {},
     "output_type": "execute_result"
    }
   ],
   "source": [
    "fo.launch_app(dataset)"
   ]
  },
  {
   "cell_type": "code",
   "execution_count": 78,
   "id": "d91c21ca",
   "metadata": {},
   "outputs": [],
   "source": [
    "def analyze_sequences_fiftyone():\n",
    "    \"\"\"Analyze the different sequences in the 51 dataset \n",
    "    Returns a df with a count of frames per sequence.\n",
    "    \"\"\"\n",
    "    filepath_list = []\n",
    "    seq_list = []\n",
    "    frame_list = []\n",
    "    for sample in dataset:\n",
    "        file_path = sample.filepath\n",
    "        file_name = sample.filepath.split(\"/\")[-1]\n",
    "#         print(file_name)\n",
    "        file_name_splitted = file_name.split(\"_\")\n",
    "#         print(file_name_splitted)\n",
    "        sequence_ls = file_name_splitted[:-1]\n",
    "        sequence = \"\".join(map(str, sequence_ls))\n",
    "        frame = file_name_splitted[-1].split(\".\")[:-1]\n",
    "        filepath_list.append(file_path)\n",
    "        seq_list.append(sequence)\n",
    "        frame_list.append(frame)\n",
    "#         break\n",
    "    sequences_tuples = list(zip(filepath_list, seq_list, frame_list))\n",
    "    sequences_df = pd.DataFrame(sequences_tuples, columns=[\"Filepath\", \"Sequence\", \"Frame\"])\n",
    "#     sequences_df.sort_values([\"Sequence\", \"Frame\"], inplace=True)\n",
    "#     print(sequences_df.groupby([\"Sequence\"]).count().shape)\n",
    "# convert the frame id from a list of string to an integer\n",
    "    sequences_df['Frame'] = sequences_df['Frame'].apply(lambda x: int(x[0]))\n",
    "    sequences_df_grouped = sequences_df.groupby([\"Sequence\"]).count()\n",
    "    return sequences_df"
   ]
  },
  {
   "cell_type": "code",
   "execution_count": 79,
   "id": "a9891582",
   "metadata": {},
   "outputs": [],
   "source": [
    "sequences_df = analyze_sequences_fiftyone()"
   ]
  },
  {
   "cell_type": "code",
   "execution_count": 80,
   "id": "8b6a2eb7",
   "metadata": {},
   "outputs": [
    {
     "data": {
      "text/html": [
       "<div>\n",
       "<style scoped>\n",
       "    .dataframe tbody tr th:only-of-type {\n",
       "        vertical-align: middle;\n",
       "    }\n",
       "\n",
       "    .dataframe tbody tr th {\n",
       "        vertical-align: top;\n",
       "    }\n",
       "\n",
       "    .dataframe thead th {\n",
       "        text-align: right;\n",
       "    }\n",
       "</style>\n",
       "<table border=\"1\" class=\"dataframe\">\n",
       "  <thead>\n",
       "    <tr style=\"text-align: right;\">\n",
       "      <th></th>\n",
       "      <th>Filepath</th>\n",
       "      <th>Sequence</th>\n",
       "      <th>Frame</th>\n",
       "    </tr>\n",
       "  </thead>\n",
       "  <tbody>\n",
       "    <tr>\n",
       "      <th>0</th>\n",
       "      <td>/home/admin/data/esmart_wip/20210629_173500_11...</td>\n",
       "      <td>20210629173500</td>\n",
       "      <td>11004</td>\n",
       "    </tr>\n",
       "    <tr>\n",
       "      <th>1</th>\n",
       "      <td>/home/admin/data/esmart_wip/20210629_173500_11...</td>\n",
       "      <td>20210629173500</td>\n",
       "      <td>11010</td>\n",
       "    </tr>\n",
       "    <tr>\n",
       "      <th>2</th>\n",
       "      <td>/home/admin/data/esmart_wip/20210629_173500_11...</td>\n",
       "      <td>20210629173500</td>\n",
       "      <td>11232</td>\n",
       "    </tr>\n",
       "    <tr>\n",
       "      <th>3</th>\n",
       "      <td>/home/admin/data/esmart_wip/20210629_173500_11...</td>\n",
       "      <td>20210629173500</td>\n",
       "      <td>11856</td>\n",
       "    </tr>\n",
       "    <tr>\n",
       "      <th>4</th>\n",
       "      <td>/home/admin/data/esmart_wip/20210629_173500_12...</td>\n",
       "      <td>20210629173500</td>\n",
       "      <td>12156</td>\n",
       "    </tr>\n",
       "    <tr>\n",
       "      <th>...</th>\n",
       "      <td>...</td>\n",
       "      <td>...</td>\n",
       "      <td>...</td>\n",
       "    </tr>\n",
       "    <tr>\n",
       "      <th>6720</th>\n",
       "      <td>/home/raphael/esmart/esmart-ai-datasets/data/e...</td>\n",
       "      <td>20210630175841</td>\n",
       "      <td>248</td>\n",
       "    </tr>\n",
       "    <tr>\n",
       "      <th>6721</th>\n",
       "      <td>/home/raphael/esmart/esmart-ai-datasets/data/e...</td>\n",
       "      <td>20210630175841</td>\n",
       "      <td>290</td>\n",
       "    </tr>\n",
       "    <tr>\n",
       "      <th>6722</th>\n",
       "      <td>/home/selim/Desktop/esmart-ai-datasets/data/es...</td>\n",
       "      <td>Log-20220318-064528 Data Log</td>\n",
       "      <td>248</td>\n",
       "    </tr>\n",
       "    <tr>\n",
       "      <th>6723</th>\n",
       "      <td>/home/selim/Desktop/esmart-ai-datasets/data/es...</td>\n",
       "      <td>Log-20220318-064528 Data Log</td>\n",
       "      <td>296</td>\n",
       "    </tr>\n",
       "    <tr>\n",
       "      <th>6724</th>\n",
       "      <td>/home/selim/Desktop/esmart-ai-datasets/data/es...</td>\n",
       "      <td>Log-20220318-064528 Data Log</td>\n",
       "      <td>404</td>\n",
       "    </tr>\n",
       "  </tbody>\n",
       "</table>\n",
       "<p>6725 rows × 3 columns</p>\n",
       "</div>"
      ],
      "text/plain": [
       "                                               Filepath  \\\n",
       "0     /home/admin/data/esmart_wip/20210629_173500_11...   \n",
       "1     /home/admin/data/esmart_wip/20210629_173500_11...   \n",
       "2     /home/admin/data/esmart_wip/20210629_173500_11...   \n",
       "3     /home/admin/data/esmart_wip/20210629_173500_11...   \n",
       "4     /home/admin/data/esmart_wip/20210629_173500_12...   \n",
       "...                                                 ...   \n",
       "6720  /home/raphael/esmart/esmart-ai-datasets/data/e...   \n",
       "6721  /home/raphael/esmart/esmart-ai-datasets/data/e...   \n",
       "6722  /home/selim/Desktop/esmart-ai-datasets/data/es...   \n",
       "6723  /home/selim/Desktop/esmart-ai-datasets/data/es...   \n",
       "6724  /home/selim/Desktop/esmart-ai-datasets/data/es...   \n",
       "\n",
       "                          Sequence  Frame  \n",
       "0                   20210629173500  11004  \n",
       "1                   20210629173500  11010  \n",
       "2                   20210629173500  11232  \n",
       "3                   20210629173500  11856  \n",
       "4                   20210629173500  12156  \n",
       "...                            ...    ...  \n",
       "6720                20210630175841    248  \n",
       "6721                20210630175841    290  \n",
       "6722  Log-20220318-064528 Data Log    248  \n",
       "6723  Log-20220318-064528 Data Log    296  \n",
       "6724  Log-20220318-064528 Data Log    404  \n",
       "\n",
       "[6725 rows x 3 columns]"
      ]
     },
     "execution_count": 80,
     "metadata": {},
     "output_type": "execute_result"
    }
   ],
   "source": [
    "sequences_df"
   ]
  },
  {
   "cell_type": "markdown",
   "id": "3a35b6d6",
   "metadata": {},
   "source": [
    "## 1. Split manually by selecting some validation sequences -- OOD"
   ]
  },
  {
   "cell_type": "code",
   "execution_count": null,
   "id": "95d42ba3",
   "metadata": {},
   "outputs": [],
   "source": [
    "def split_train_val_fiftyone_sequences():\n",
    "    \"\"\"\n",
    "    Split the dataset by sequence number (by manually inspecting the properties of the sequences).\n",
    "    Allows to not have frames from the same sequence in both the training and validation set.\n",
    "    This is crucial to check whether the algorithm is performant in \"new scenes\" and doesn't \n",
    "    just learns spurrious correlations. \n",
    "    \"\"\"\n",
    "    list_sequences_val_set = [\n",
    "        \"Log-20220123-124034 Data Log\",  # for some snowy and/or wet\n",
    "        \"Log-20220130-104657 Data Log\",  # for some snowy and/or wet\n",
    "        \"Log-20220120-181824 Data Log\",  # for some snowy and/or wet\n",
    "        \"20210630191429\",  # for some dry\n",
    "        \"20210630180005\",  # for some dry\n",
    "        \"20210630192517\",  # for some dry\n",
    "        \"20211129193841\",  # for some dry\n",
    "        \"20210715091801\",  # for some dry\n",
    "        \"20211129205422\",  # for some dry\n",
    "        \"20210724133321\",  # for some dry\n",
    "        \"20210715175810\",  # for some dry\n",
    "        \"20210630195611\",  # for some dry\n",
    "        \"20210630191006\",  # for some dry\n",
    "    ]\n",
    "\n",
    "    counter_train = {}\n",
    "    counter_train[\"wet\"] = 0\n",
    "    counter_train[\"dry\"] = 0\n",
    "    counter_train[\"snowy\"] = 0\n",
    "\n",
    "    counter_val = {}\n",
    "    counter_val[\"wet\"] = 0\n",
    "    counter_val[\"dry\"] = 0\n",
    "    counter_val[\"snowy\"] = 0\n",
    "\n",
    "    for sample in dataset:\n",
    "        try:\n",
    "            condition = sample.gt_road_condition.classifications[0].label\n",
    "            seq = str(sample.tags[-1])\n",
    "            if seq in list_sequences_val_set:\n",
    "                counter_val[condition] += 1\n",
    "                sample.tags.append(\"VAL_ROAD_COND\")\n",
    "                sample.save()\n",
    "            else:\n",
    "                condition = sample.gt_road_condition.classifications[0].label\n",
    "                counter_train[condition] += 1\n",
    "                sample.tags.append(\"TRAIN_ROAD_COND\")\n",
    "                sample.save()\n",
    "        except:\n",
    "            a = 1\n",
    "    print(\"TRAIN \", counter_train)\n",
    "    print(\"train total\", sum(counter_train.values()))\n",
    "    print(\"VAL \", counter_val)\n",
    "    print(\"val total\", sum(counter_val.values()))\n",
    "\n",
    "if SPLIT_TRAIN_VAL_IN_51:\n",
    "    split_train_val_fiftyone_sequences()"
   ]
  },
  {
   "cell_type": "markdown",
   "id": "9e82bc38",
   "metadata": {},
   "source": [
    "## 2. Use Subsequences for splitting -- ID"
   ]
  },
  {
   "cell_type": "code",
   "execution_count": 193,
   "id": "38d59e8f",
   "metadata": {},
   "outputs": [],
   "source": [
    "def check_time_between_2_frames(frame_1, frame_2, num_minutes):\n",
    "    \"\"\"\n",
    "    Function to check whether 2 frames can be used in 2 data sets.\n",
    "    e.g We want frame_1 in the training set and frame_2 in the validation set. We need to make \n",
    "    sure that these are not too close to each other in terms of time otherwise they could be very\n",
    "    similar and the validation set would be biased. This is not the perfect technique to check the\n",
    "    independence between frames but that's an approach.\n",
    "    args: \n",
    "        the frame numbers from a same sequence \n",
    "        the number of minutes that we want between 2 frames to consider them as \"far enough\"\n",
    "            from eaach other (independent enough).\n",
    "    returns:\n",
    "        True if we can use these 2 images in 2 sets\n",
    "        False otherwise\n",
    "    \"\"\"\n",
    "    assert type(frame_1) == type(frame_2) == np.int64\n",
    "    num_frame_btw = abs(frame_2 - frame_1)\n",
    "    # approximation\n",
    "    threshold = num_minutes * 60 * 24\n",
    "#     print(\"The chosen time as threshold is\", num_minutes,\"minutes.\")\n",
    "#     print(\"There must be at least\", threshold,\"frames between 2 images to split these in 2 sets.\")\n",
    "    if num_frame_btw >= threshold:\n",
    "        return True \n",
    "    else:\n",
    "        return False "
   ]
  },
  {
   "cell_type": "code",
   "execution_count": 194,
   "id": "b2d74eae",
   "metadata": {},
   "outputs": [
    {
     "name": "stdout",
     "output_type": "stream",
     "text": [
      "There is 53 sequences.\n"
     ]
    }
   ],
   "source": [
    "# get all the different sequence names\n",
    "sequences_names = sequences_df['Sequence'].unique()\n",
    "print(\"There is\", len(sequences_names), \"sequences.\")"
   ]
  },
  {
   "cell_type": "code",
   "execution_count": 230,
   "id": "535f6486",
   "metadata": {},
   "outputs": [
    {
     "name": "stdout",
     "output_type": "stream",
     "text": [
      "The sequence 20210629173500 contains 103 frames.\n",
      "The maximum index for the train set is 71 . It's the frame 8442\n",
      "The minimum index for the validation set is 99 . It's the frame 13326\n",
      "\n",
      "The sequence 20210629174553 contains 114 frames.\n",
      "The maximum index for the train set is 78 . It's the frame 17061\n",
      "The minimum index for the validation set is 99 . It's the frame 24183\n",
      "\n",
      "The sequence 20210630055611 contains 226 frames.\n",
      "The maximum index for the train set is 157 . It's the frame 17304\n",
      "The minimum index for the validation set is 172 . It's the frame 20943\n",
      "\n",
      "The sequence 20210630083253 contains 265 frames.\n",
      "The maximum index for the train set is 184 . It's the frame 36222\n",
      "The minimum index for the validation set is 212 . It's the frame 40755\n",
      "\n",
      "The sequence 20210630175841 contains 3 frames.\n",
      "The maximum index for the train set is 1 . It's the frame 570\n",
      "No minimum index found. Try reducing the percentage of data in the training set or the time threshold.\n",
      "\n",
      "The sequence 20210630180005 contains 27 frames.\n",
      "The maximum index for the train set is 17 . It's the frame 7050\n",
      "The minimum index for the validation set is 23 . It's the frame 12624\n",
      "\n",
      "The sequence 20210630180812 contains 38 frames.\n",
      "The maximum index for the train set is 25 . It's the frame 19224\n",
      "The minimum index for the validation set is 28 . It's the frame 29322\n",
      "\n",
      "The sequence 20210630183426 contains 16 frames.\n",
      "The maximum index for the train set is 10 . It's the frame 2718\n",
      "No minimum index found. Try reducing the percentage of data in the training set or the time threshold.\n",
      "\n",
      "The sequence 20210630190803 contains 2 frames.\n",
      "The maximum index for the train set is 0 . It's the frame 36\n",
      "No minimum index found. Try reducing the percentage of data in the training set or the time threshold.\n",
      "\n",
      "The sequence 20210630191006 contains 6 frames.\n",
      "The maximum index for the train set is 3 . It's the frame 522\n",
      "No minimum index found. Try reducing the percentage of data in the training set or the time threshold.\n",
      "\n",
      "The sequence 20210630191429 contains 3 frames.\n",
      "The maximum index for the train set is 1 . It's the frame 840\n",
      "No minimum index found. Try reducing the percentage of data in the training set or the time threshold.\n",
      "\n",
      "The sequence 20210630192202 contains 3 frames.\n",
      "The maximum index for the train set is 1 . It's the frame 486\n",
      "No minimum index found. Try reducing the percentage of data in the training set or the time threshold.\n",
      "\n",
      "The sequence 20210630192256 contains 3 frames.\n",
      "The maximum index for the train set is 1 . It's the frame 954\n",
      "No minimum index found. Try reducing the percentage of data in the training set or the time threshold.\n",
      "\n",
      "The sequence 20210630192517 contains 176 frames.\n",
      "The maximum index for the train set is 122 . It's the frame 9348\n",
      "The minimum index for the validation set is 167 . It's the frame 15888\n",
      "\n",
      "The sequence 20210630194718 contains 6 frames.\n",
      "The maximum index for the train set is 3 . It's the frame 1590\n",
      "No minimum index found. Try reducing the percentage of data in the training set or the time threshold.\n",
      "\n",
      "The sequence 20210630195611 contains 8 frames.\n",
      "The maximum index for the train set is 4 . It's the frame 138\n",
      "No minimum index found. Try reducing the percentage of data in the training set or the time threshold.\n",
      "\n",
      "The sequence 20210630202648 contains 280 frames.\n",
      "The maximum index for the train set is 195 . It's the frame 25122\n",
      "The minimum index for the validation set is 240 . It's the frame 28602\n",
      "\n",
      "The sequence 20210711110911 contains 312 frames.\n",
      "The maximum index for the train set is 217 . It's the frame 43632\n",
      "The minimum index for the validation set is 238 . It's the frame 49362\n",
      "\n",
      "The sequence 20210711174204 contains 241 frames.\n",
      "The maximum index for the train set is 167 . It's the frame 21324\n",
      "The minimum index for the validation set is 203 . It's the frame 26532\n",
      "\n",
      "The sequence 20210715085351 contains 187 frames.\n",
      "The maximum index for the train set is 129 . It's the frame 29376\n",
      "The minimum index for the validation set is 139 . It's the frame 32712\n",
      "\n",
      "The sequence 20210715091801 contains 65 frames.\n",
      "The maximum index for the train set is 44 . It's the frame 18180\n",
      "No minimum index found. Try reducing the percentage of data in the training set or the time threshold.\n",
      "\n",
      "The sequence 20210715175810 contains 62 frames.\n",
      "The maximum index for the train set is 42 . It's the frame 13938\n",
      "The minimum index for the validation set is 48 . It's the frame 17136\n",
      "\n",
      "The sequence 20210724113301 contains 101 frames.\n",
      "The maximum index for the train set is 69 . It's the frame 12096\n",
      "The minimum index for the validation set is 79 . It's the frame 14982\n",
      "\n",
      "The sequence 20210724133321 contains 229 frames.\n",
      "The maximum index for the train set is 159 . It's the frame 31278\n",
      "The minimum index for the validation set is 174 . It's the frame 35010\n",
      "\n",
      "The sequence 20210724141043 contains 238 frames.\n",
      "The maximum index for the train set is 165 . It's the frame 26520\n",
      "The minimum index for the validation set is 171 . It's the frame 30546\n",
      "\n",
      "The sequence 20210807104028 contains 293 frames.\n",
      "The maximum index for the train set is 204 . It's the frame 25104\n",
      "The minimum index for the validation set is 225 . It's the frame 28632\n",
      "\n",
      "The sequence 20211129193841 contains 111 frames.\n",
      "The maximum index for the train set is 76 . It's the frame 78328\n",
      "The minimum index for the validation set is 77 . It's the frame 82297\n",
      "\n",
      "The sequence 20211129205422 contains 177 frames.\n",
      "The maximum index for the train set is 122 . It's the frame 14715\n",
      "The minimum index for the validation set is 167 . It's the frame 18729\n",
      "\n",
      "The sequence 20211130080737 contains 194 frames.\n",
      "The maximum index for the train set is 134 . It's the frame 39175\n",
      "The minimum index for the validation set is 149 . It's the frame 46489\n",
      "\n",
      "The sequence 20210812145326 contains 135 frames.\n",
      "The maximum index for the train set is 93 . It's the frame 4651\n",
      "No minimum index found. Try reducing the percentage of data in the training set or the time threshold.\n",
      "\n",
      "The sequence 20210826134206 contains 69 frames.\n",
      "The maximum index for the train set is 47 . It's the frame 8701\n",
      "The minimum index for the validation set is 68 . It's the frame 11847\n",
      "\n",
      "The sequence 20211123alexdashcam contains 185 frames.\n",
      "The maximum index for the train set is 128 . It's the frame 52966\n",
      "The minimum index for the validation set is 131 . It's the frame 56255\n",
      "\n",
      "The sequence gabriel contains 153 frames.\n",
      "The maximum index for the train set is 106 . It's the frame 24573\n",
      "The minimum index for the validation set is 121 . It's the frame 28119\n",
      "\n",
      "The sequence out contains 363 frames.\n",
      "The maximum index for the train set is 253 . It's the frame 20395\n",
      "The minimum index for the validation set is 263 . It's the frame 23904\n",
      "\n",
      "The sequence run10 contains 36 frames.\n",
      "The maximum index for the train set is 24 . It's the frame 1292\n",
      "No minimum index found. Try reducing the percentage of data in the training set or the time threshold.\n",
      "\n",
      "The sequence run11 contains 51 frames.\n",
      "The maximum index for the train set is 34 . It's the frame 1889\n",
      "No minimum index found. Try reducing the percentage of data in the training set or the time threshold.\n",
      "\n",
      "The sequence run5 contains 172 frames.\n",
      "The maximum index for the train set is 119 . It's the frame 7897\n",
      "The minimum index for the validation set is 140 . It's the frame 17237\n",
      "\n",
      "The sequence run7 contains 128 frames.\n",
      "The maximum index for the train set is 88 . It's the frame 7739\n",
      "The minimum index for the validation set is 103 . It's the frame 12704\n",
      "\n",
      "The sequence run9 contains 195 frames.\n",
      "The maximum index for the train set is 135 . It's the frame 7521\n",
      "No minimum index found. Try reducing the percentage of data in the training set or the time threshold.\n",
      "\n",
      "The sequence Log-20220120-162548 Data Log contains 103 frames.\n",
      "The maximum index for the train set is 71 . It's the frame 22710\n",
      "The minimum index for the validation set is 81 . It's the frame 25856\n",
      "\n",
      "The sequence Log-20220120-180147 Data Log contains 170 frames.\n",
      "The maximum index for the train set is 117 . It's the frame 15098\n",
      "The minimum index for the validation set is 132 . It's the frame 18194\n",
      "\n",
      "The sequence Log-20220218-091055 Data Log contains 219 frames.\n",
      "The maximum index for the train set is 152 . It's the frame 38687\n",
      "The minimum index for the validation set is 188 . It's the frame 42195\n",
      "\n",
      "The sequence Log-20220218-142917 Data Log contains 24 frames.\n",
      "The maximum index for the train set is 15 . It's the frame 3411\n",
      "No minimum index found. Try reducing the percentage of data in the training set or the time threshold.\n",
      "\n",
      "The sequence Log-20220120-181824 Data Log contains 83 frames.\n",
      "The maximum index for the train set is 57 . It's the frame 17226\n",
      "The minimum index for the validation set is 67 . It's the frame 20542\n",
      "\n",
      "The sequence Log-20220218-134644 Data Log contains 18 frames.\n",
      "The maximum index for the train set is 11 . It's the frame 3098\n",
      "No minimum index found. Try reducing the percentage of data in the training set or the time threshold.\n",
      "\n",
      "The sequence Log-20220130-104657 Data Log contains 154 frames.\n",
      "The maximum index for the train set is 106 . It's the frame 27339\n",
      "The minimum index for the validation set is 121 . It's the frame 31291\n",
      "\n",
      "The sequence Log-20220123-124034 Data Log contains 156 frames.\n",
      "The maximum index for the train set is 108 . It's the frame 29063\n",
      "The minimum index for the validation set is 118 . It's the frame 32519\n",
      "\n",
      "The sequence Log-20220120-164410 Data Log contains 65 frames.\n",
      "The maximum index for the train set is 44 . It's the frame 9911\n",
      "The minimum index for the validation set is 59 . It's the frame 13799\n",
      "\n",
      "The sequence Log-20220221-064732 Data Log contains 76 frames.\n",
      "The maximum index for the train set is 52 . It's the frame 10867\n",
      "The minimum index for the validation set is 62 . It's the frame 13849\n",
      "\n",
      "The sequence Log-20220324-064020 contains 181 frames.\n",
      "The maximum index for the train set is 125 . It's the frame 63872\n",
      "The minimum index for the validation set is 135 . It's the frame 67406\n",
      "\n",
      "The sequence Log-20220121-134942 Data Log contains 79 frames.\n",
      "The maximum index for the train set is 54 . It's the frame 25521\n",
      "The minimum index for the validation set is 75 . It's the frame 29089\n",
      "\n",
      "The sequence Log-20220326-183856 Data Log contains 14 frames.\n",
      "The maximum index for the train set is 8 . It's the frame 4424\n",
      "No minimum index found. Try reducing the percentage of data in the training set or the time threshold.\n",
      "\n",
      "The sequence Log-20220121-143049 Data Log contains 74 frames.\n",
      "The maximum index for the train set is 50 . It's the frame 7083\n",
      "No minimum index found. Try reducing the percentage of data in the training set or the time threshold.\n",
      "\n"
     ]
    }
   ],
   "source": [
    "num_minutes_threshold = 2\n",
    "\n",
    "empty_list = list(zip([],[],[],[]))\n",
    "frames_splitted_df = pd.DataFrame(empty_list, columns=[\"Filepath\", \"Sequence\", \"Frame\",\"Set\"])\n",
    "\n",
    "frames_splitted_df\n",
    "\n",
    "for seq in sequences_names:\n",
    "    # loc all the rows of a specific sequence\n",
    "    sequence = sequences_df.loc[sequences_df['Sequence'] == seq].sort_values(['Frame'], \n",
    "                                                                             ignore_index=True)\n",
    "    num_frames = sequence.shape[0]\n",
    "    print(\"The sequence\", seq, \"contains\", num_frames, \"frames.\")\n",
    "    max_index_training_set = math.floor(num_frames * 0.7)-1  # 70 % of the frames in this data \n",
    "    sequence['Set'] = 0\n",
    "    sequence.loc[:max_index_training_set, 'Set'] = 'train'\n",
    "    found_first_index_val_set = False\n",
    "    i = 1\n",
    "    frame_1 = sequence['Frame'][max_index_training_set]\n",
    "    print(\"The maximum index for the train set is\", max_index_training_set,\". It's the frame\", frame_1)\n",
    "    # print(\"Frame 1:\",frame_1)\n",
    "    index = max_index_training_set + 1\n",
    "    while not found_first_index_val_set and index < num_frames:\n",
    "        frame_2 = sequence['Frame'][index]\n",
    "        found_first_index_val_set = check_time_between_2_frames(frame_1, frame_2, num_minutes_threshold)\n",
    "        if found_first_index_val_set:\n",
    "            min_index_val_set = index\n",
    "            print(\"The minimum index for the validation set is\", min_index_val_set,\". It's the frame\", frame_2)\n",
    "            sequence.loc[min_index_val_set:, 'Set'] = 'val'\n",
    "            break\n",
    "        i += 1\n",
    "        index += i\n",
    "    if not found_first_index_val_set:\n",
    "        print(\"No minimum index found. Try reducing the percentage of data in the training set or the time threshold.\")\n",
    "    frames_to_concat = [frames_splitted_df, sequence]\n",
    "    frames_splitted_df = pd.concat(frames_to_concat)\n",
    "    print()"
   ]
  },
  {
   "cell_type": "code",
   "execution_count": 231,
   "id": "57b17fdd",
   "metadata": {},
   "outputs": [],
   "source": [
    "assert frames_splitted_df.shape[0] == sequences_df.shape[0]"
   ]
  },
  {
   "cell_type": "code",
   "execution_count": 279,
   "id": "6818ff64",
   "metadata": {},
   "outputs": [
    {
     "data": {
      "text/html": [
       "<div>\n",
       "<style scoped>\n",
       "    .dataframe tbody tr th:only-of-type {\n",
       "        vertical-align: middle;\n",
       "    }\n",
       "\n",
       "    .dataframe tbody tr th {\n",
       "        vertical-align: top;\n",
       "    }\n",
       "\n",
       "    .dataframe thead th {\n",
       "        text-align: right;\n",
       "    }\n",
       "</style>\n",
       "<table border=\"1\" class=\"dataframe\">\n",
       "  <thead>\n",
       "    <tr style=\"text-align: right;\">\n",
       "      <th></th>\n",
       "      <th>Filepath</th>\n",
       "      <th>Sequence</th>\n",
       "      <th>Frame</th>\n",
       "      <th>Set</th>\n",
       "    </tr>\n",
       "  </thead>\n",
       "  <tbody>\n",
       "    <tr>\n",
       "      <th>0</th>\n",
       "      <td>/home/admin/data/esmart_wip/20210629_173500_20...</td>\n",
       "      <td>20210629173500</td>\n",
       "      <td>2034</td>\n",
       "      <td>train</td>\n",
       "    </tr>\n",
       "    <tr>\n",
       "      <th>1</th>\n",
       "      <td>/home/admin/data/esmart_wip/20210629_173500_20...</td>\n",
       "      <td>20210629173500</td>\n",
       "      <td>2064</td>\n",
       "      <td>train</td>\n",
       "    </tr>\n",
       "    <tr>\n",
       "      <th>2</th>\n",
       "      <td>/home/admin/data/esmart_wip/20210629_173500_21...</td>\n",
       "      <td>20210629173500</td>\n",
       "      <td>2100</td>\n",
       "      <td>train</td>\n",
       "    </tr>\n",
       "    <tr>\n",
       "      <th>3</th>\n",
       "      <td>/home/admin/data/esmart_wip/20210629_173500_22...</td>\n",
       "      <td>20210629173500</td>\n",
       "      <td>2214</td>\n",
       "      <td>train</td>\n",
       "    </tr>\n",
       "    <tr>\n",
       "      <th>4</th>\n",
       "      <td>/home/admin/data/esmart_wip/20210629_173500_22...</td>\n",
       "      <td>20210629173500</td>\n",
       "      <td>2256</td>\n",
       "      <td>train</td>\n",
       "    </tr>\n",
       "    <tr>\n",
       "      <th>...</th>\n",
       "      <td>...</td>\n",
       "      <td>...</td>\n",
       "      <td>...</td>\n",
       "      <td>...</td>\n",
       "    </tr>\n",
       "    <tr>\n",
       "      <th>69</th>\n",
       "      <td>/home/raphael/esmart/esmart-ai-datasets/data/e...</td>\n",
       "      <td>Log-20220121-143049 Data Log</td>\n",
       "      <td>9656</td>\n",
       "      <td>0</td>\n",
       "    </tr>\n",
       "    <tr>\n",
       "      <th>70</th>\n",
       "      <td>/home/raphael/esmart/esmart-ai-datasets/data/e...</td>\n",
       "      <td>Log-20220121-143049 Data Log</td>\n",
       "      <td>9749</td>\n",
       "      <td>0</td>\n",
       "    </tr>\n",
       "    <tr>\n",
       "      <th>71</th>\n",
       "      <td>/home/raphael/esmart/esmart-ai-datasets/data/e...</td>\n",
       "      <td>Log-20220121-143049 Data Log</td>\n",
       "      <td>9873</td>\n",
       "      <td>0</td>\n",
       "    </tr>\n",
       "    <tr>\n",
       "      <th>72</th>\n",
       "      <td>/home/raphael/esmart/esmart-ai-datasets/data/e...</td>\n",
       "      <td>Log-20220121-143049 Data Log</td>\n",
       "      <td>10214</td>\n",
       "      <td>0</td>\n",
       "    </tr>\n",
       "    <tr>\n",
       "      <th>73</th>\n",
       "      <td>/home/raphael/esmart/esmart-ai-datasets/data/e...</td>\n",
       "      <td>Log-20220121-143049 Data Log</td>\n",
       "      <td>10245</td>\n",
       "      <td>0</td>\n",
       "    </tr>\n",
       "  </tbody>\n",
       "</table>\n",
       "<p>6392 rows × 4 columns</p>\n",
       "</div>"
      ],
      "text/plain": [
       "                                             Filepath  \\\n",
       "0   /home/admin/data/esmart_wip/20210629_173500_20...   \n",
       "1   /home/admin/data/esmart_wip/20210629_173500_20...   \n",
       "2   /home/admin/data/esmart_wip/20210629_173500_21...   \n",
       "3   /home/admin/data/esmart_wip/20210629_173500_22...   \n",
       "4   /home/admin/data/esmart_wip/20210629_173500_22...   \n",
       "..                                                ...   \n",
       "69  /home/raphael/esmart/esmart-ai-datasets/data/e...   \n",
       "70  /home/raphael/esmart/esmart-ai-datasets/data/e...   \n",
       "71  /home/raphael/esmart/esmart-ai-datasets/data/e...   \n",
       "72  /home/raphael/esmart/esmart-ai-datasets/data/e...   \n",
       "73  /home/raphael/esmart/esmart-ai-datasets/data/e...   \n",
       "\n",
       "                        Sequence  Frame    Set  \n",
       "0                 20210629173500   2034  train  \n",
       "1                 20210629173500   2064  train  \n",
       "2                 20210629173500   2100  train  \n",
       "3                 20210629173500   2214  train  \n",
       "4                 20210629173500   2256  train  \n",
       "..                           ...    ...    ...  \n",
       "69  Log-20220121-143049 Data Log   9656      0  \n",
       "70  Log-20220121-143049 Data Log   9749      0  \n",
       "71  Log-20220121-143049 Data Log   9873      0  \n",
       "72  Log-20220121-143049 Data Log  10214      0  \n",
       "73  Log-20220121-143049 Data Log  10245      0  \n",
       "\n",
       "[6392 rows x 4 columns]"
      ]
     },
     "execution_count": 279,
     "metadata": {},
     "output_type": "execute_result"
    }
   ],
   "source": [
    "frames_splitted_df"
   ]
  },
  {
   "cell_type": "code",
   "execution_count": 266,
   "id": "9de67835",
   "metadata": {},
   "outputs": [],
   "source": [
    "count_split = frames_splitted_df['Set'].value_counts()\n",
    "df_count = pd.DataFrame(count_split).transpose()\n",
    "df_count.rename(columns={'train':'Training set', 'val':'Validation set', 0:'Left out'}, inplace=True)"
   ]
  },
  {
   "cell_type": "code",
   "execution_count": 275,
   "id": "8ba7c975",
   "metadata": {},
   "outputs": [
    {
     "data": {
      "text/html": [
       "<div>\n",
       "<style scoped>\n",
       "    .dataframe tbody tr th:only-of-type {\n",
       "        vertical-align: middle;\n",
       "    }\n",
       "\n",
       "    .dataframe tbody tr th {\n",
       "        vertical-align: top;\n",
       "    }\n",
       "\n",
       "    .dataframe thead th {\n",
       "        text-align: right;\n",
       "    }\n",
       "</style>\n",
       "<table border=\"1\" class=\"dataframe\">\n",
       "  <thead>\n",
       "    <tr style=\"text-align: right;\">\n",
       "      <th></th>\n",
       "      <th>Training set</th>\n",
       "      <th>Validation set</th>\n",
       "      <th>Left out</th>\n",
       "    </tr>\n",
       "  </thead>\n",
       "  <tbody>\n",
       "    <tr>\n",
       "      <th>Set</th>\n",
       "      <td>4451</td>\n",
       "      <td>1156</td>\n",
       "      <td>785</td>\n",
       "    </tr>\n",
       "  </tbody>\n",
       "</table>\n",
       "</div>"
      ],
      "text/plain": [
       "     Training set  Validation set  Left out\n",
       "Set          4451            1156       785"
      ]
     },
     "execution_count": 275,
     "metadata": {},
     "output_type": "execute_result"
    }
   ],
   "source": [
    "df_count"
   ]
  },
  {
   "cell_type": "code",
   "execution_count": 59,
   "id": "56d9f2b4",
   "metadata": {},
   "outputs": [
    {
     "ename": "ValueError",
     "evalue": "DataFrame constructor not properly called!",
     "output_type": "error",
     "traceback": [
      "\u001b[0;31m---------------------------------------------------------------------------\u001b[0m",
      "\u001b[0;31mValueError\u001b[0m                                Traceback (most recent call last)",
      "Input \u001b[0;32mIn [59]\u001b[0m, in \u001b[0;36m<cell line: 2>\u001b[0;34m()\u001b[0m\n\u001b[1;32m      1\u001b[0m \u001b[38;5;28;01mimport\u001b[39;00m \u001b[38;5;21;01mplotly\u001b[39;00m\u001b[38;5;21;01m.\u001b[39;00m\u001b[38;5;21;01mexpress\u001b[39;00m \u001b[38;5;28;01mas\u001b[39;00m \u001b[38;5;21;01mpx\u001b[39;00m\n\u001b[0;32m----> 2\u001b[0m fig \u001b[38;5;241m=\u001b[39m \u001b[43mpx\u001b[49m\u001b[38;5;241;43m.\u001b[39;49m\u001b[43mbar\u001b[49m\u001b[43m(\u001b[49m\u001b[43mdf_count\u001b[49m\u001b[43m,\u001b[49m\u001b[43m \u001b[49m\u001b[43mtitle\u001b[49m\u001b[38;5;241;43m=\u001b[39;49m\u001b[38;5;124;43m'\u001b[39;49m\u001b[38;5;124;43mDistribution of the new data split\u001b[39;49m\u001b[38;5;124;43m'\u001b[39;49m\u001b[43m)\u001b[49m\n\u001b[1;32m      3\u001b[0m fig\u001b[38;5;241m.\u001b[39mshow()\n",
      "File \u001b[0;32m~/Library/Mobile Documents/com~apple~CloudDocs/Desktop/Montreal/UdeM/Internship/E-Smart/code/yolov5_multitask/venv/lib/python3.9/site-packages/plotly/express/_chart_types.py:350\u001b[0m, in \u001b[0;36mbar\u001b[0;34m(data_frame, x, y, color, facet_row, facet_col, facet_col_wrap, facet_row_spacing, facet_col_spacing, hover_name, hover_data, custom_data, text, base, error_x, error_x_minus, error_y, error_y_minus, animation_frame, animation_group, category_orders, labels, color_discrete_sequence, color_discrete_map, color_continuous_scale, range_color, color_continuous_midpoint, opacity, orientation, barmode, log_x, log_y, range_x, range_y, title, template, width, height)\u001b[0m\n\u001b[1;32m    306\u001b[0m \u001b[38;5;28;01mdef\u001b[39;00m \u001b[38;5;21mbar\u001b[39m(\n\u001b[1;32m    307\u001b[0m     data_frame\u001b[38;5;241m=\u001b[39m\u001b[38;5;28;01mNone\u001b[39;00m,\n\u001b[1;32m    308\u001b[0m     x\u001b[38;5;241m=\u001b[39m\u001b[38;5;28;01mNone\u001b[39;00m,\n\u001b[0;32m   (...)\u001b[0m\n\u001b[1;32m    344\u001b[0m     height\u001b[38;5;241m=\u001b[39m\u001b[38;5;28;01mNone\u001b[39;00m,\n\u001b[1;32m    345\u001b[0m ):\n\u001b[1;32m    346\u001b[0m     \u001b[38;5;124;03m\"\"\"\u001b[39;00m\n\u001b[1;32m    347\u001b[0m \u001b[38;5;124;03m    In a bar plot, each row of `data_frame` is represented as a rectangular\u001b[39;00m\n\u001b[1;32m    348\u001b[0m \u001b[38;5;124;03m    mark.\u001b[39;00m\n\u001b[1;32m    349\u001b[0m \u001b[38;5;124;03m    \"\"\"\u001b[39;00m\n\u001b[0;32m--> 350\u001b[0m     \u001b[38;5;28;01mreturn\u001b[39;00m \u001b[43mmake_figure\u001b[49m\u001b[43m(\u001b[49m\n\u001b[1;32m    351\u001b[0m \u001b[43m        \u001b[49m\u001b[43margs\u001b[49m\u001b[38;5;241;43m=\u001b[39;49m\u001b[38;5;28;43mlocals\u001b[39;49m\u001b[43m(\u001b[49m\u001b[43m)\u001b[49m\u001b[43m,\u001b[49m\n\u001b[1;32m    352\u001b[0m \u001b[43m        \u001b[49m\u001b[43mconstructor\u001b[49m\u001b[38;5;241;43m=\u001b[39;49m\u001b[43mgo\u001b[49m\u001b[38;5;241;43m.\u001b[39;49m\u001b[43mBar\u001b[49m\u001b[43m,\u001b[49m\n\u001b[1;32m    353\u001b[0m \u001b[43m        \u001b[49m\u001b[43mtrace_patch\u001b[49m\u001b[38;5;241;43m=\u001b[39;49m\u001b[38;5;28;43mdict\u001b[39;49m\u001b[43m(\u001b[49m\u001b[43mtextposition\u001b[49m\u001b[38;5;241;43m=\u001b[39;49m\u001b[38;5;124;43m\"\u001b[39;49m\u001b[38;5;124;43mauto\u001b[39;49m\u001b[38;5;124;43m\"\u001b[39;49m\u001b[43m)\u001b[49m\u001b[43m,\u001b[49m\n\u001b[1;32m    354\u001b[0m \u001b[43m        \u001b[49m\u001b[43mlayout_patch\u001b[49m\u001b[38;5;241;43m=\u001b[39;49m\u001b[38;5;28;43mdict\u001b[39;49m\u001b[43m(\u001b[49m\u001b[43mbarmode\u001b[49m\u001b[38;5;241;43m=\u001b[39;49m\u001b[43mbarmode\u001b[49m\u001b[43m)\u001b[49m\u001b[43m,\u001b[49m\n\u001b[1;32m    355\u001b[0m \u001b[43m    \u001b[49m\u001b[43m)\u001b[49m\n",
      "File \u001b[0;32m~/Library/Mobile Documents/com~apple~CloudDocs/Desktop/Montreal/UdeM/Internship/E-Smart/code/yolov5_multitask/venv/lib/python3.9/site-packages/plotly/express/_core.py:1861\u001b[0m, in \u001b[0;36mmake_figure\u001b[0;34m(args, constructor, trace_patch, layout_patch)\u001b[0m\n\u001b[1;32m   1858\u001b[0m layout_patch \u001b[38;5;241m=\u001b[39m layout_patch \u001b[38;5;129;01mor\u001b[39;00m {}\n\u001b[1;32m   1859\u001b[0m apply_default_cascade(args)\n\u001b[0;32m-> 1861\u001b[0m args \u001b[38;5;241m=\u001b[39m \u001b[43mbuild_dataframe\u001b[49m\u001b[43m(\u001b[49m\u001b[43margs\u001b[49m\u001b[43m,\u001b[49m\u001b[43m \u001b[49m\u001b[43mconstructor\u001b[49m\u001b[43m)\u001b[49m\n\u001b[1;32m   1862\u001b[0m \u001b[38;5;28;01mif\u001b[39;00m constructor \u001b[38;5;129;01min\u001b[39;00m [go\u001b[38;5;241m.\u001b[39mTreemap, go\u001b[38;5;241m.\u001b[39mSunburst] \u001b[38;5;129;01mand\u001b[39;00m args[\u001b[38;5;124m\"\u001b[39m\u001b[38;5;124mpath\u001b[39m\u001b[38;5;124m\"\u001b[39m] \u001b[38;5;129;01mis\u001b[39;00m \u001b[38;5;129;01mnot\u001b[39;00m \u001b[38;5;28;01mNone\u001b[39;00m:\n\u001b[1;32m   1863\u001b[0m     args \u001b[38;5;241m=\u001b[39m process_dataframe_hierarchy(args)\n",
      "File \u001b[0;32m~/Library/Mobile Documents/com~apple~CloudDocs/Desktop/Montreal/UdeM/Internship/E-Smart/code/yolov5_multitask/venv/lib/python3.9/site-packages/plotly/express/_core.py:1282\u001b[0m, in \u001b[0;36mbuild_dataframe\u001b[0;34m(args, constructor)\u001b[0m\n\u001b[1;32m   1280\u001b[0m df_provided \u001b[38;5;241m=\u001b[39m args[\u001b[38;5;124m\"\u001b[39m\u001b[38;5;124mdata_frame\u001b[39m\u001b[38;5;124m\"\u001b[39m] \u001b[38;5;129;01mis\u001b[39;00m \u001b[38;5;129;01mnot\u001b[39;00m \u001b[38;5;28;01mNone\u001b[39;00m\n\u001b[1;32m   1281\u001b[0m \u001b[38;5;28;01mif\u001b[39;00m df_provided \u001b[38;5;129;01mand\u001b[39;00m \u001b[38;5;129;01mnot\u001b[39;00m \u001b[38;5;28misinstance\u001b[39m(args[\u001b[38;5;124m\"\u001b[39m\u001b[38;5;124mdata_frame\u001b[39m\u001b[38;5;124m\"\u001b[39m], pd\u001b[38;5;241m.\u001b[39mDataFrame):\n\u001b[0;32m-> 1282\u001b[0m     args[\u001b[38;5;124m\"\u001b[39m\u001b[38;5;124mdata_frame\u001b[39m\u001b[38;5;124m\"\u001b[39m] \u001b[38;5;241m=\u001b[39m \u001b[43mpd\u001b[49m\u001b[38;5;241;43m.\u001b[39;49m\u001b[43mDataFrame\u001b[49m\u001b[43m(\u001b[49m\u001b[43margs\u001b[49m\u001b[43m[\u001b[49m\u001b[38;5;124;43m\"\u001b[39;49m\u001b[38;5;124;43mdata_frame\u001b[39;49m\u001b[38;5;124;43m\"\u001b[39;49m\u001b[43m]\u001b[49m\u001b[43m)\u001b[49m\n\u001b[1;32m   1283\u001b[0m df_input \u001b[38;5;241m=\u001b[39m args[\u001b[38;5;124m\"\u001b[39m\u001b[38;5;124mdata_frame\u001b[39m\u001b[38;5;124m\"\u001b[39m]\n\u001b[1;32m   1285\u001b[0m \u001b[38;5;66;03m# now we handle special cases like wide-mode or x-xor-y specification\u001b[39;00m\n\u001b[1;32m   1286\u001b[0m \u001b[38;5;66;03m# by rearranging args to tee things up for process_args_into_dataframe to work\u001b[39;00m\n",
      "File \u001b[0;32m~/Library/Mobile Documents/com~apple~CloudDocs/Desktop/Montreal/UdeM/Internship/E-Smart/code/yolov5_multitask/venv/lib/python3.9/site-packages/pandas/core/frame.py:756\u001b[0m, in \u001b[0;36mDataFrame.__init__\u001b[0;34m(self, data, index, columns, dtype, copy)\u001b[0m\n\u001b[1;32m    753\u001b[0m \u001b[38;5;66;03m# For data is scalar\u001b[39;00m\n\u001b[1;32m    754\u001b[0m \u001b[38;5;28;01melse\u001b[39;00m:\n\u001b[1;32m    755\u001b[0m     \u001b[38;5;28;01mif\u001b[39;00m index \u001b[38;5;129;01mis\u001b[39;00m \u001b[38;5;28;01mNone\u001b[39;00m \u001b[38;5;129;01mor\u001b[39;00m columns \u001b[38;5;129;01mis\u001b[39;00m \u001b[38;5;28;01mNone\u001b[39;00m:\n\u001b[0;32m--> 756\u001b[0m         \u001b[38;5;28;01mraise\u001b[39;00m \u001b[38;5;167;01mValueError\u001b[39;00m(\u001b[38;5;124m\"\u001b[39m\u001b[38;5;124mDataFrame constructor not properly called!\u001b[39m\u001b[38;5;124m\"\u001b[39m)\n\u001b[1;32m    758\u001b[0m     \u001b[38;5;66;03m# Argument 1 to \"ensure_index\" has incompatible type \"Collection[Any]\";\u001b[39;00m\n\u001b[1;32m    759\u001b[0m     \u001b[38;5;66;03m# expected \"Union[Union[Union[ExtensionArray, ndarray],\u001b[39;00m\n\u001b[1;32m    760\u001b[0m     \u001b[38;5;66;03m# Index, Series], Sequence[Any]]\"\u001b[39;00m\n\u001b[1;32m    761\u001b[0m     index \u001b[38;5;241m=\u001b[39m ensure_index(index)  \u001b[38;5;66;03m# type: ignore[arg-type]\u001b[39;00m\n",
      "\u001b[0;31mValueError\u001b[0m: DataFrame constructor not properly called!"
     ]
    }
   ],
   "source": [
    "import plotly.express as px\n",
    "fig = px.bar(df_count, title='Distribution of the new data split')\n",
    "fig.show()"
   ]
  },
  {
   "cell_type": "markdown",
   "id": "94d59811",
   "metadata": {},
   "source": [
    "### Save splits in fiftyone"
   ]
  },
  {
   "cell_type": "code",
   "execution_count": 323,
   "id": "a9dd4284",
   "metadata": {},
   "outputs": [],
   "source": [
    "# training/validation road condition automatic based on time \n",
    "mapping = {'train':'TRAIN_RC_AUTO_TIME', 'val':'VAL_RC_AUTO_TIME'} \n",
    "for sample in dataset:\n",
    "    data_set = str(list(frames_splitted_df[frames_splitted_df['Filepath'] == sample.filepath]['Set'])[0])\n",
    "#     print(data_set)\n",
    "    if data_set != '0':\n",
    "        sample.tags.append(mapping[data_set])\n",
    "#         print(sample.tags)\n",
    "        sample.save()"
   ]
  },
  {
   "cell_type": "markdown",
   "id": "dd78e655",
   "metadata": {},
   "source": [
    "### Delete splits in fiftyone (if needed sometimes)"
   ]
  },
  {
   "cell_type": "code",
   "execution_count": 322,
   "id": "62598c74",
   "metadata": {},
   "outputs": [
    {
     "name": "stdout",
     "output_type": "stream",
     "text": [
      "['COCO', 'TRAIN_ROAD_COND', 'TRAINING']\n",
      "VAL_RC_AUTO_TIME\n",
      "['COCO', 'TRAIN_ROAD_COND', 'TRAINING']\n"
     ]
    }
   ],
   "source": [
    "to_check = list(mapping.values())\n",
    "for sample in dataset:\n",
    "    for item in to_check:\n",
    "        if item in sample.tags:\n",
    "            sample.tags.remove(str(item))\n",
    "    sample.save()"
   ]
  },
  {
   "cell_type": "markdown",
   "id": "2a2f6004",
   "metadata": {},
   "source": [
    "## 7. Split by location - OOD"
   ]
  },
  {
   "cell_type": "code",
   "execution_count": 14,
   "id": "a1384dfb",
   "metadata": {},
   "outputs": [
    {
     "data": {
      "text/html": [
       "\n",
       "        <iframe\n",
       "            width=\"100%\"\n",
       "            height=\"800\"\n",
       "            src=\"http://cadmium:5151/?context=ipython&subscription=9c8dac6f-7a36-49a2-bdef-fef419cee148\"\n",
       "            frameborder=\"0\"\n",
       "            allowfullscreen\n",
       "            \n",
       "        ></iframe>\n",
       "        "
      ],
      "text/plain": [
       "<IPython.lib.display.IFrame at 0x17fbb5ee0>"
      ]
     },
     "metadata": {},
     "output_type": "display_data"
    },
    {
     "name": "stdout",
     "output_type": "stream",
     "text": [
      "\n",
      "Could not connect session, trying again in 10 seconds\n",
      "\n",
      "\n",
      "Could not connect session, trying again in 10 seconds\n",
      "\n",
      "\n",
      "Could not connect session, trying again in 10 seconds\n",
      "\n"
     ]
    },
    {
     "data": {
      "text/plain": []
     },
     "metadata": {},
     "output_type": "display_data"
    },
    {
     "data": {
      "text/plain": []
     },
     "metadata": {},
     "output_type": "display_data"
    },
    {
     "data": {
      "application/vnd.jupyter.widget-view+json": {
       "model_id": "f4a8fc07e2f34e94a00ed900589e236e",
       "version_major": 2,
       "version_minor": 0
      },
      "text/plain": [
       "FigureWidget({\n",
       "    'data': [{'hovertemplate': ('<b>uniqueness: %{text}</b><br>' ... 'lon: %{lon:.5f}<extra></e…"
      ]
     },
     "metadata": {},
     "output_type": "display_data"
    },
    {
     "ename": "ValueError",
     "evalue": "Plots must be subclasses of <class 'fiftyone.core.plots.base.ResponsivePlot'>; but found <class 'fiftyone.core.plots.plotly.PlotlyNotebookPlot'>. You may be working in an environment that does not support interactivity.\n\nSee https://voxel51.com/docs/fiftyone/user_guide/plots.html#overview for more information",
     "output_type": "error",
     "traceback": [
      "\u001b[0;31m---------------------------------------------------------------------------\u001b[0m",
      "\u001b[0;31mValueError\u001b[0m                                Traceback (most recent call last)",
      "Input \u001b[0;32mIn [14]\u001b[0m, in \u001b[0;36m<cell line: 43>\u001b[0;34m()\u001b[0m\n\u001b[1;32m     41\u001b[0m plot\u001b[38;5;241m.\u001b[39mshow(height\u001b[38;5;241m=\u001b[39m\u001b[38;5;241m720\u001b[39m)\n\u001b[1;32m     42\u001b[0m \u001b[38;5;66;03m#session.view()\u001b[39;00m\n\u001b[0;32m---> 43\u001b[0m \u001b[43msession\u001b[49m\u001b[38;5;241;43m.\u001b[39;49m\u001b[43mplots\u001b[49m\u001b[38;5;241;43m.\u001b[39;49m\u001b[43mattach\u001b[49m\u001b[43m(\u001b[49m\u001b[43mplot\u001b[49m\u001b[43m)\u001b[49m\n",
      "File \u001b[0;32m~/Library/Mobile Documents/com~apple~CloudDocs/Desktop/Montreal/UdeM/Internship/E-Smart/code/yolov5_multitask/venv/lib/python3.9/site-packages/fiftyone/core/plots/manager.py:232\u001b[0m, in \u001b[0;36mPlotManager.attach\u001b[0;34m(self, plot, name, connect, overwrite)\u001b[0m\n\u001b[1;32m    222\u001b[0m \u001b[38;5;124;03m\"\"\"Attaches a plot to this manager.\u001b[39;00m\n\u001b[1;32m    223\u001b[0m \n\u001b[1;32m    224\u001b[0m \u001b[38;5;124;03mArgs:\u001b[39;00m\n\u001b[0;32m   (...)\u001b[0m\n\u001b[1;32m    229\u001b[0m \u001b[38;5;124;03m        name\u001b[39;00m\n\u001b[1;32m    230\u001b[0m \u001b[38;5;124;03m\"\"\"\u001b[39;00m\n\u001b[1;32m    231\u001b[0m \u001b[38;5;28;01mif\u001b[39;00m \u001b[38;5;129;01mnot\u001b[39;00m \u001b[38;5;28misinstance\u001b[39m(plot, ResponsivePlot):\n\u001b[0;32m--> 232\u001b[0m     \u001b[38;5;28;01mraise\u001b[39;00m \u001b[38;5;167;01mValueError\u001b[39;00m(\n\u001b[1;32m    233\u001b[0m         \u001b[38;5;124m\"\u001b[39m\u001b[38;5;124mPlots must be subclasses of \u001b[39m\u001b[38;5;132;01m%s\u001b[39;00m\u001b[38;5;124m; but found \u001b[39m\u001b[38;5;132;01m%s\u001b[39;00m\u001b[38;5;124m. You may be \u001b[39m\u001b[38;5;124m\"\u001b[39m\n\u001b[1;32m    234\u001b[0m         \u001b[38;5;124m\"\u001b[39m\u001b[38;5;124mworking in an environment that does not support \u001b[39m\u001b[38;5;124m\"\u001b[39m\n\u001b[1;32m    235\u001b[0m         \u001b[38;5;124m\"\u001b[39m\u001b[38;5;124minteractivity.\u001b[39m\u001b[38;5;130;01m\\n\u001b[39;00m\u001b[38;5;130;01m\\n\u001b[39;00m\u001b[38;5;124mSee \u001b[39m\u001b[38;5;124m\"\u001b[39m\n\u001b[1;32m    236\u001b[0m         \u001b[38;5;124m\"\u001b[39m\u001b[38;5;124mhttps://voxel51.com/docs/fiftyone/user_guide/plots.html#overview \u001b[39m\u001b[38;5;124m\"\u001b[39m\n\u001b[1;32m    237\u001b[0m         \u001b[38;5;124m\"\u001b[39m\u001b[38;5;124mfor more information\u001b[39m\u001b[38;5;124m\"\u001b[39m \u001b[38;5;241m%\u001b[39m (ResponsivePlot, \u001b[38;5;28mtype\u001b[39m(plot))\n\u001b[1;32m    238\u001b[0m     )\n\u001b[1;32m    240\u001b[0m same_plots \u001b[38;5;241m=\u001b[39m [(n, p) \u001b[38;5;28;01mfor\u001b[39;00m n, p \u001b[38;5;129;01min\u001b[39;00m \u001b[38;5;28mself\u001b[39m\u001b[38;5;241m.\u001b[39m_plots\u001b[38;5;241m.\u001b[39mitems() \u001b[38;5;28;01mif\u001b[39;00m p \u001b[38;5;129;01mis\u001b[39;00m plot]\n\u001b[1;32m    241\u001b[0m \u001b[38;5;28;01mif\u001b[39;00m same_plots:\n",
      "\u001b[0;31mValueError\u001b[0m: Plots must be subclasses of <class 'fiftyone.core.plots.base.ResponsivePlot'>; but found <class 'fiftyone.core.plots.plotly.PlotlyNotebookPlot'>. You may be working in an environment that does not support interactivity.\n\nSee https://voxel51.com/docs/fiftyone/user_guide/plots.html#overview for more information"
     ]
    }
   ],
   "source": [
    "dataset = fo.load_dataset(\"esmart_wip\")\n",
    "\n",
    "session = fo.launch_app(dataset)\n",
    "\n",
    "# A list of ``[longitude, latitude]`` coordinates\n",
    "locations = dataset.values(\"location.point.coordinates\")\n",
    "# locations = list(filter(None, locations))  # remove None locations from the list\n",
    "# print(len(locations))\n",
    "# print(locations)\n",
    "\n",
    "# Scalar `uniqueness` values for each sample\n",
    "ids_list = dataset.values('id')\n",
    "ids = np.array(dataset.values('id'))\n",
    "unique = np.unique(ids)\n",
    "num_values = len(unique)\n",
    "# print(num_values)\n",
    "\n",
    "# # The number of ground truth objects in each sample\n",
    "num_objects = dataset.values(F(\"ground_truth.detections\").length())\n",
    "# print(len(num_objects))\n",
    "\n",
    "# assert len(locations) == len(num_objects) == num_values\n",
    "\n",
    "\n",
    "data = list(zip(locations, ids_list, num_objects))\n",
    "data_df = pd.DataFrame(data, columns=[\"location\", \"id\", \"num_object\"])\n",
    "data_df.dropna(inplace=True)\n",
    "locations = list(data_df['location'])\n",
    "ids = list(data_df['id'])\n",
    "num_objects = list(data_df['num_object'])\n",
    "\n",
    "\n",
    "# # Create scatterplot\n",
    "plot = fo.location_scatterplot(\n",
    "    locations=locations,\n",
    "    labels=ids,      # color points by their `uniqueness` values\n",
    "    sizes=num_objects,      # scale point sizes by number of objects\n",
    "    labels_title=\"uniqueness\",\n",
    "    sizes_title=\"objects\",\n",
    ")\n",
    "plot.show(height=720)\n",
    "#session.view()\n",
    "#session.plots.attach(plot)"
   ]
  },
  {
   "cell_type": "code",
   "execution_count": 5,
   "id": "c58f8825",
   "metadata": {},
   "outputs": [
    {
     "name": "stdout",
     "output_type": "stream",
     "text": [
      "Enabling notebook extension jupyter-js-widgets/extension...\r\n",
      "      - Validating: \u001b[32mOK\u001b[0m\r\n"
     ]
    }
   ],
   "source": [
    "#!jupyter nbextension enable --py widgetsnbextension --sys-prefix"
   ]
  },
  {
   "cell_type": "code",
   "execution_count": null,
   "id": "a318506e",
   "metadata": {},
   "outputs": [],
   "source": [
    "# WIP"
   ]
  },
  {
   "cell_type": "markdown",
   "id": "01b5c1de",
   "metadata": {},
   "source": [
    "## 3. Shuffle the images from all sequences and split by images (randomly) + apply similarity threshold for include/exclude in the val set — ID"
   ]
  },
  {
   "cell_type": "markdown",
   "id": "9d203746",
   "metadata": {},
   "source": [
    "### Compute the embeddings of the train set "
   ]
  },
  {
   "cell_type": "code",
   "execution_count": null,
   "id": "57c4499e",
   "metadata": {},
   "outputs": [],
   "source": [
    "train_set = dataset.match_tags(\".....\")\n",
    "val_set = dataset.match_tags(\".....\")"
   ]
  },
  {
   "cell_type": "code",
   "execution_count": 17,
   "id": "c94016be",
   "metadata": {},
   "outputs": [
    {
     "name": "stdout",
     "output_type": "stream",
     "text": [
      "Downloading model from 'https://download.pytorch.org/models/mobilenet_v2-b0353104.pth'...\n",
      " 100% |████|  108.4Mb/108.4Mb [5.2s elapsed, 0s remaining, 47.9Mb/s]      \n"
     ]
    },
    {
     "name": "stderr",
     "output_type": "stream",
     "text": [
      "/Users/selimgilon/Library/Mobile Documents/com~apple~CloudDocs/Desktop/Montreal/UdeM/Internship/E-Smart/code/yolov5_multitask/venv/lib/python3.9/site-packages/torchvision/models/_utils.py:208: UserWarning:\n",
      "\n",
      "The parameter 'pretrained' is deprecated since 0.13 and will be removed in 0.15, please use 'weights' instead.\n",
      "\n",
      "/Users/selimgilon/Library/Mobile Documents/com~apple~CloudDocs/Desktop/Montreal/UdeM/Internship/E-Smart/code/yolov5_multitask/venv/lib/python3.9/site-packages/torchvision/models/_utils.py:223: UserWarning:\n",
      "\n",
      "Arguments other than a weight enum or `None` for 'weights' are deprecated since 0.13 and will be removed in 0.15. The current behavior is equivalent to passing `weights=MobileNet_V2_Weights.IMAGENET1K_V1`. You can also use `weights=MobileNet_V2_Weights.DEFAULT` to get the most up-to-date weights.\n",
      "\n",
      "Downloading: \"https://download.pytorch.org/models/mobilenet_v2-b0353104.pth\" to /Users/selimgilon/.cache/torch/hub/checkpoints/mobilenet_v2-b0353104.pth\n"
     ]
    },
    {
     "data": {
      "application/vnd.jupyter.widget-view+json": {
       "model_id": "9adc39daeb75408798dfd582cd524aa7",
       "version_major": 2,
       "version_minor": 0
      },
      "text/plain": [
       "  0%|          | 0.00/13.6M [00:00<?, ?B/s]"
      ]
     },
     "metadata": {},
     "output_type": "display_data"
    }
   ],
   "source": [
    "# The BDD dataset must be manually downloaded. See the zoo docs for details\n",
    "#source_dir = \"/path/to/dir-with-bdd100k-files\"\n",
    "\n",
    "# Load dataset\n",
    "#dataset = foz.load_zoo_dataset(\n",
    "#    \"bdd100k\", split=\"validation\", source_dir=source_dir,\n",
    "#)\n",
    "\n",
    "# Compute embeddings\n",
    "# You will likely want to run this on a machine with GPU, as this requires\n",
    "# running inference on 10,000 images\n",
    "model = foz.load_zoo_model(\"mobilenet-v2-imagenet-torch\")\n",
    "embeddings = train_set.compute_embeddings(model)\n",
    "\n",
    "# Compute visualization\n",
    "results = fob.compute_visualization(train_set, embeddings=embeddings, seed=51)\n",
    "\n",
    "# Launch App instance\n",
    "session = fo.launch_app(dataset)"
   ]
  },
  {
   "cell_type": "code",
   "execution_count": null,
   "id": "6bbff655",
   "metadata": {},
   "outputs": [],
   "source": [
    "# Generate scatterplot\n",
    "plot = results.visualize(\n",
    "    labels=\"timeofday.label\",\n",
    "    labels_title=\"time of day\",\n",
    "    axis_equal=True,\n",
    ")\n",
    "plot.show(height=512)\n",
    "\n",
    "# Connect to session\n",
    "session.plots.attach(plot)"
   ]
  },
  {
   "cell_type": "code",
   "execution_count": null,
   "id": "b21ac063",
   "metadata": {},
   "outputs": [],
   "source": [
    "# Index images by similarity\n",
    "fob.compute_similarity(train_set, brain_key=\"image_sim\")\n",
    "\n",
    "# Launch App\n",
    "session = fo.launch_app(train_set)\n",
    "\n",
    "# In the App... select some image(s) and use the similarity menu to sort!"
   ]
  },
  {
   "cell_type": "code",
   "execution_count": null,
   "id": "c5b011f8",
   "metadata": {},
   "outputs": [],
   "source": [
    "# Choose a random image from the dataset\n",
    "query_id = dataset.take(1).first().id\n",
    "\n",
    "# Programmatically construct a view containing the 5 most similar images\n",
    "view = dataset.sort_by_similarity(query_id, k=5, brain_key=\"image_sim\")\n",
    "\n",
    "# View results in App\n",
    "session.view = view"
   ]
  },
  {
   "cell_type": "code",
   "execution_count": 19,
   "id": "c328ced9",
   "metadata": {},
   "outputs": [],
   "source": [
    "#######"
   ]
  },
  {
   "cell_type": "code",
   "execution_count": 15,
   "id": "dbc7a333",
   "metadata": {},
   "outputs": [
    {
     "name": "stderr",
     "output_type": "stream",
     "text": [
      "[ WARN:0@935.948] global /Users/xperience/actions-runner/_work/opencv-python/opencv-python/opencv/modules/imgcodecs/src/loadsave.cpp (239) findDecoder imread_('/home/admin/data/esmart_wip/20210629_173500_11004.jpg'): can't open/read file: check file path/integrity\n"
     ]
    },
    {
     "ename": "AttributeError",
     "evalue": "'NoneType' object has no attribute 'ravel'",
     "output_type": "error",
     "traceback": [
      "\u001b[0;31m---------------------------------------------------------------------------\u001b[0m",
      "\u001b[0;31mAttributeError\u001b[0m                            Traceback (most recent call last)",
      "Input \u001b[0;32mIn [15]\u001b[0m, in \u001b[0;36m<cell line: 4>\u001b[0;34m()\u001b[0m\n\u001b[1;32m      1\u001b[0m \u001b[38;5;28;01mimport\u001b[39;00m \u001b[38;5;21;01mcv2\u001b[39;00m\n\u001b[1;32m      3\u001b[0m \u001b[38;5;66;03m# Construct a `num_samples x num_pixels` array of images\u001b[39;00m\n\u001b[0;32m----> 4\u001b[0m images \u001b[38;5;241m=\u001b[39m np\u001b[38;5;241m.\u001b[39marray([\n\u001b[1;32m      5\u001b[0m     cv2\u001b[38;5;241m.\u001b[39mimread(f, cv2\u001b[38;5;241m.\u001b[39mIMREAD_UNCHANGED)\u001b[38;5;241m.\u001b[39mravel()\n\u001b[1;32m      6\u001b[0m     \u001b[38;5;28;01mfor\u001b[39;00m f \u001b[38;5;129;01min\u001b[39;00m dataset\u001b[38;5;241m.\u001b[39mvalues(\u001b[38;5;124m\"\u001b[39m\u001b[38;5;124mfilepath\u001b[39m\u001b[38;5;124m\"\u001b[39m)\n\u001b[1;32m      7\u001b[0m ])\n\u001b[1;32m      9\u001b[0m \u001b[38;5;66;03m# Compute 2D embeddings\u001b[39;00m\n\u001b[1;32m     10\u001b[0m results \u001b[38;5;241m=\u001b[39m fob\u001b[38;5;241m.\u001b[39mcompute_visualization(dataset, embeddings\u001b[38;5;241m=\u001b[39mimages, seed\u001b[38;5;241m=\u001b[39m\u001b[38;5;241m51\u001b[39m)\n",
      "Input \u001b[0;32mIn [15]\u001b[0m, in \u001b[0;36m<listcomp>\u001b[0;34m(.0)\u001b[0m\n\u001b[1;32m      1\u001b[0m \u001b[38;5;28;01mimport\u001b[39;00m \u001b[38;5;21;01mcv2\u001b[39;00m\n\u001b[1;32m      3\u001b[0m \u001b[38;5;66;03m# Construct a `num_samples x num_pixels` array of images\u001b[39;00m\n\u001b[1;32m      4\u001b[0m images \u001b[38;5;241m=\u001b[39m np\u001b[38;5;241m.\u001b[39marray([\n\u001b[0;32m----> 5\u001b[0m     \u001b[43mcv2\u001b[49m\u001b[38;5;241;43m.\u001b[39;49m\u001b[43mimread\u001b[49m\u001b[43m(\u001b[49m\u001b[43mf\u001b[49m\u001b[43m,\u001b[49m\u001b[43m \u001b[49m\u001b[43mcv2\u001b[49m\u001b[38;5;241;43m.\u001b[39;49m\u001b[43mIMREAD_UNCHANGED\u001b[49m\u001b[43m)\u001b[49m\u001b[38;5;241;43m.\u001b[39;49m\u001b[43mravel\u001b[49m()\n\u001b[1;32m      6\u001b[0m     \u001b[38;5;28;01mfor\u001b[39;00m f \u001b[38;5;129;01min\u001b[39;00m dataset\u001b[38;5;241m.\u001b[39mvalues(\u001b[38;5;124m\"\u001b[39m\u001b[38;5;124mfilepath\u001b[39m\u001b[38;5;124m\"\u001b[39m)\n\u001b[1;32m      7\u001b[0m ])\n\u001b[1;32m      9\u001b[0m \u001b[38;5;66;03m# Compute 2D embeddings\u001b[39;00m\n\u001b[1;32m     10\u001b[0m results \u001b[38;5;241m=\u001b[39m fob\u001b[38;5;241m.\u001b[39mcompute_visualization(dataset, embeddings\u001b[38;5;241m=\u001b[39mimages, seed\u001b[38;5;241m=\u001b[39m\u001b[38;5;241m51\u001b[39m)\n",
      "\u001b[0;31mAttributeError\u001b[0m: 'NoneType' object has no attribute 'ravel'"
     ]
    }
   ],
   "source": [
    "# Construct a `num_samples x num_pixels` array of images\n",
    "images = np.array([\n",
    "    cv2.imread(f, cv2.IMREAD_UNCHANGED).ravel()\n",
    "    for f in dataset.values(\"filepath\")\n",
    "])\n",
    "\n",
    "# Compute 2D embeddings\n",
    "results = fob.compute_visualization(dataset, embeddings=images, seed=51)\n",
    "\n",
    "# Visualize embeddings, colored by ground truth label\n",
    "plot = results.visualize(labels=\"ground_truth.label\")\n",
    "plot.show(height=720)"
   ]
  },
  {
   "cell_type": "markdown",
   "id": "bd88160a",
   "metadata": {},
   "source": [
    "### Find possible annotation mistakes "
   ]
  },
  {
   "cell_type": "code",
   "execution_count": null,
   "id": "125edf4e",
   "metadata": {},
   "outputs": [],
   "source": [
    "dataset = fo.load_dataset(...)\n",
    "\n",
    "# Get samples for which we added predictions\n",
    "h_view = dataset.match_tags(\"....\")\n",
    "\n",
    "# Compute mistakenness\n",
    "fob.compute_mistakenness(h_view, model_name, label_field=\"ground_truth\", use_logits=True)\n",
    "\n",
    "# Sort by likelihood of mistake (most likely first)\n",
    "mistake_view = (dataset\n",
    "    .match_tags(\"processed\")\n",
    "    .sort_by(\"mistakenness\", reverse=True)\n",
    ")\n",
    "\n",
    "# Print some information about the view\n",
    "print(mistake_view)\n",
    "\n",
    "# Inspect the first few samples\n",
    "print(mistake_view.head())\n",
    "\n",
    "# Show the samples we processed in rank order by the mistakenness\n",
    "session.view = mistake_view\n",
    "\n",
    "session.freeze() # screenshot the active App for sharing"
   ]
  },
  {
   "cell_type": "markdown",
   "id": "bc7bf848",
   "metadata": {},
   "source": [
    "### Compute hardness of samples"
   ]
  },
  {
   "cell_type": "code",
   "execution_count": null,
   "id": "6d8caad3",
   "metadata": {},
   "outputs": [],
   "source": [
    "dataset = fo.load_dataset(...)\n",
    "\n",
    "fob.compute_hardness(dataset, \"predictions\")"
   ]
  },
  {
   "cell_type": "code",
   "execution_count": 22,
   "id": "e5e96063",
   "metadata": {},
   "outputs": [],
   "source": [
    "# WIP"
   ]
  },
  {
   "cell_type": "markdown",
   "id": "b8aa533e",
   "metadata": {},
   "source": [
    "## 5. Shuffle the images from all sequences and split by images (randomly) — fully – ID"
   ]
  },
  {
   "cell_type": "code",
   "execution_count": 81,
   "id": "817e32b7",
   "metadata": {},
   "outputs": [
    {
     "data": {
      "text/html": [
       "<div>\n",
       "<style scoped>\n",
       "    .dataframe tbody tr th:only-of-type {\n",
       "        vertical-align: middle;\n",
       "    }\n",
       "\n",
       "    .dataframe tbody tr th {\n",
       "        vertical-align: top;\n",
       "    }\n",
       "\n",
       "    .dataframe thead th {\n",
       "        text-align: right;\n",
       "    }\n",
       "</style>\n",
       "<table border=\"1\" class=\"dataframe\">\n",
       "  <thead>\n",
       "    <tr style=\"text-align: right;\">\n",
       "      <th></th>\n",
       "      <th>Filepath</th>\n",
       "      <th>Sequence</th>\n",
       "      <th>Frame</th>\n",
       "    </tr>\n",
       "  </thead>\n",
       "  <tbody>\n",
       "    <tr>\n",
       "      <th>0</th>\n",
       "      <td>/home/admin/data/esmart_wip/20210629_173500_11...</td>\n",
       "      <td>20210629173500</td>\n",
       "      <td>11004</td>\n",
       "    </tr>\n",
       "    <tr>\n",
       "      <th>1</th>\n",
       "      <td>/home/admin/data/esmart_wip/20210629_173500_11...</td>\n",
       "      <td>20210629173500</td>\n",
       "      <td>11010</td>\n",
       "    </tr>\n",
       "    <tr>\n",
       "      <th>2</th>\n",
       "      <td>/home/admin/data/esmart_wip/20210629_173500_11...</td>\n",
       "      <td>20210629173500</td>\n",
       "      <td>11232</td>\n",
       "    </tr>\n",
       "    <tr>\n",
       "      <th>3</th>\n",
       "      <td>/home/admin/data/esmart_wip/20210629_173500_11...</td>\n",
       "      <td>20210629173500</td>\n",
       "      <td>11856</td>\n",
       "    </tr>\n",
       "    <tr>\n",
       "      <th>4</th>\n",
       "      <td>/home/admin/data/esmart_wip/20210629_173500_12...</td>\n",
       "      <td>20210629173500</td>\n",
       "      <td>12156</td>\n",
       "    </tr>\n",
       "  </tbody>\n",
       "</table>\n",
       "</div>"
      ],
      "text/plain": [
       "                                            Filepath        Sequence  Frame\n",
       "0  /home/admin/data/esmart_wip/20210629_173500_11...  20210629173500  11004\n",
       "1  /home/admin/data/esmart_wip/20210629_173500_11...  20210629173500  11010\n",
       "2  /home/admin/data/esmart_wip/20210629_173500_11...  20210629173500  11232\n",
       "3  /home/admin/data/esmart_wip/20210629_173500_11...  20210629173500  11856\n",
       "4  /home/admin/data/esmart_wip/20210629_173500_12...  20210629173500  12156"
      ]
     },
     "execution_count": 81,
     "metadata": {},
     "output_type": "execute_result"
    }
   ],
   "source": [
    "#sequences_df.to_csv('sequences.csv', header=None)\n",
    "random_set_df = sequences_df\n",
    "random_set_df.head()"
   ]
  },
  {
   "cell_type": "code",
   "execution_count": 82,
   "id": "d0bf0dca",
   "metadata": {},
   "outputs": [],
   "source": [
    "rand_val_set = random_set_df.sample(frac=0.2, replace=False)  # random frames in validation set using a %\n",
    "rand_val_set['Set'] = 'val'"
   ]
  },
  {
   "cell_type": "code",
   "execution_count": 83,
   "id": "13e79c36",
   "metadata": {},
   "outputs": [
    {
     "name": "stderr",
     "output_type": "stream",
     "text": [
      "/var/folders/y9/tfgwt38j4vgbjq05myd9zjj80000gn/T/ipykernel_22349/3363224728.py:2: SettingWithCopyWarning:\n",
      "\n",
      "\n",
      "A value is trying to be set on a copy of a slice from a DataFrame.\n",
      "Try using .loc[row_indexer,col_indexer] = value instead\n",
      "\n",
      "See the caveats in the documentation: https://pandas.pydata.org/pandas-docs/stable/user_guide/indexing.html#returning-a-view-versus-a-copy\n",
      "\n"
     ]
    }
   ],
   "source": [
    "rand_train_set = random_set_df.loc[~random_set_df.index.isin(rand_val_set.index)]\n",
    "rand_train_set['Set'] = 'train'"
   ]
  },
  {
   "cell_type": "code",
   "execution_count": 84,
   "id": "98a741b2",
   "metadata": {},
   "outputs": [
    {
     "name": "stdout",
     "output_type": "stream",
     "text": [
      "(1345, 4)\n"
     ]
    },
    {
     "data": {
      "text/html": [
       "<div>\n",
       "<style scoped>\n",
       "    .dataframe tbody tr th:only-of-type {\n",
       "        vertical-align: middle;\n",
       "    }\n",
       "\n",
       "    .dataframe tbody tr th {\n",
       "        vertical-align: top;\n",
       "    }\n",
       "\n",
       "    .dataframe thead th {\n",
       "        text-align: right;\n",
       "    }\n",
       "</style>\n",
       "<table border=\"1\" class=\"dataframe\">\n",
       "  <thead>\n",
       "    <tr style=\"text-align: right;\">\n",
       "      <th></th>\n",
       "      <th>Filepath</th>\n",
       "      <th>Sequence</th>\n",
       "      <th>Frame</th>\n",
       "      <th>Set</th>\n",
       "    </tr>\n",
       "  </thead>\n",
       "  <tbody>\n",
       "    <tr>\n",
       "      <th>2521</th>\n",
       "      <td>/home/admin/data/esmart_wip/20210724_141043_18...</td>\n",
       "      <td>20210724141043</td>\n",
       "      <td>18864</td>\n",
       "      <td>val</td>\n",
       "    </tr>\n",
       "    <tr>\n",
       "      <th>4933</th>\n",
       "      <td>/home/admin/data/esmart_wip/run_9_8026.jpg</td>\n",
       "      <td>run9</td>\n",
       "      <td>8026</td>\n",
       "      <td>val</td>\n",
       "    </tr>\n",
       "    <tr>\n",
       "      <th>1464</th>\n",
       "      <td>/home/admin/data/esmart_wip/20210711_110911_43...</td>\n",
       "      <td>20210711110911</td>\n",
       "      <td>43656</td>\n",
       "      <td>val</td>\n",
       "    </tr>\n",
       "    <tr>\n",
       "      <th>1885</th>\n",
       "      <td>/home/admin/data/esmart_wip/20210715_085351_16...</td>\n",
       "      <td>20210715085351</td>\n",
       "      <td>16356</td>\n",
       "      <td>val</td>\n",
       "    </tr>\n",
       "    <tr>\n",
       "      <th>61</th>\n",
       "      <td>/home/admin/data/esmart_wip/20210629_173500_70...</td>\n",
       "      <td>20210629173500</td>\n",
       "      <td>7098</td>\n",
       "      <td>val</td>\n",
       "    </tr>\n",
       "  </tbody>\n",
       "</table>\n",
       "</div>"
      ],
      "text/plain": [
       "                                               Filepath        Sequence  \\\n",
       "2521  /home/admin/data/esmart_wip/20210724_141043_18...  20210724141043   \n",
       "4933         /home/admin/data/esmart_wip/run_9_8026.jpg            run9   \n",
       "1464  /home/admin/data/esmart_wip/20210711_110911_43...  20210711110911   \n",
       "1885  /home/admin/data/esmart_wip/20210715_085351_16...  20210715085351   \n",
       "61    /home/admin/data/esmart_wip/20210629_173500_70...  20210629173500   \n",
       "\n",
       "      Frame  Set  \n",
       "2521  18864  val  \n",
       "4933   8026  val  \n",
       "1464  43656  val  \n",
       "1885  16356  val  \n",
       "61     7098  val  "
      ]
     },
     "execution_count": 84,
     "metadata": {},
     "output_type": "execute_result"
    }
   ],
   "source": [
    "print(rand_val_set.shape)\n",
    "rand_val_set.head()"
   ]
  },
  {
   "cell_type": "code",
   "execution_count": 85,
   "id": "6b14a000",
   "metadata": {},
   "outputs": [
    {
     "name": "stdout",
     "output_type": "stream",
     "text": [
      "(5380, 4)\n"
     ]
    },
    {
     "data": {
      "text/html": [
       "<div>\n",
       "<style scoped>\n",
       "    .dataframe tbody tr th:only-of-type {\n",
       "        vertical-align: middle;\n",
       "    }\n",
       "\n",
       "    .dataframe tbody tr th {\n",
       "        vertical-align: top;\n",
       "    }\n",
       "\n",
       "    .dataframe thead th {\n",
       "        text-align: right;\n",
       "    }\n",
       "</style>\n",
       "<table border=\"1\" class=\"dataframe\">\n",
       "  <thead>\n",
       "    <tr style=\"text-align: right;\">\n",
       "      <th></th>\n",
       "      <th>Filepath</th>\n",
       "      <th>Sequence</th>\n",
       "      <th>Frame</th>\n",
       "      <th>Set</th>\n",
       "    </tr>\n",
       "  </thead>\n",
       "  <tbody>\n",
       "    <tr>\n",
       "      <th>0</th>\n",
       "      <td>/home/admin/data/esmart_wip/20210629_173500_11...</td>\n",
       "      <td>20210629173500</td>\n",
       "      <td>11004</td>\n",
       "      <td>train</td>\n",
       "    </tr>\n",
       "    <tr>\n",
       "      <th>1</th>\n",
       "      <td>/home/admin/data/esmart_wip/20210629_173500_11...</td>\n",
       "      <td>20210629173500</td>\n",
       "      <td>11010</td>\n",
       "      <td>train</td>\n",
       "    </tr>\n",
       "    <tr>\n",
       "      <th>3</th>\n",
       "      <td>/home/admin/data/esmart_wip/20210629_173500_11...</td>\n",
       "      <td>20210629173500</td>\n",
       "      <td>11856</td>\n",
       "      <td>train</td>\n",
       "    </tr>\n",
       "    <tr>\n",
       "      <th>5</th>\n",
       "      <td>/home/admin/data/esmart_wip/20210629_173500_12...</td>\n",
       "      <td>20210629173500</td>\n",
       "      <td>12480</td>\n",
       "      <td>train</td>\n",
       "    </tr>\n",
       "    <tr>\n",
       "      <th>6</th>\n",
       "      <td>/home/admin/data/esmart_wip/20210629_173500_13...</td>\n",
       "      <td>20210629173500</td>\n",
       "      <td>13140</td>\n",
       "      <td>train</td>\n",
       "    </tr>\n",
       "  </tbody>\n",
       "</table>\n",
       "</div>"
      ],
      "text/plain": [
       "                                            Filepath        Sequence  Frame  \\\n",
       "0  /home/admin/data/esmart_wip/20210629_173500_11...  20210629173500  11004   \n",
       "1  /home/admin/data/esmart_wip/20210629_173500_11...  20210629173500  11010   \n",
       "3  /home/admin/data/esmart_wip/20210629_173500_11...  20210629173500  11856   \n",
       "5  /home/admin/data/esmart_wip/20210629_173500_12...  20210629173500  12480   \n",
       "6  /home/admin/data/esmart_wip/20210629_173500_13...  20210629173500  13140   \n",
       "\n",
       "     Set  \n",
       "0  train  \n",
       "1  train  \n",
       "3  train  \n",
       "5  train  \n",
       "6  train  "
      ]
     },
     "execution_count": 85,
     "metadata": {},
     "output_type": "execute_result"
    }
   ],
   "source": [
    "print(rand_train_set.shape)\n",
    "rand_train_set.head()"
   ]
  },
  {
   "cell_type": "code",
   "execution_count": 86,
   "id": "69aba8c2",
   "metadata": {},
   "outputs": [
    {
     "data": {
      "text/html": [
       "<div>\n",
       "<style scoped>\n",
       "    .dataframe tbody tr th:only-of-type {\n",
       "        vertical-align: middle;\n",
       "    }\n",
       "\n",
       "    .dataframe tbody tr th {\n",
       "        vertical-align: top;\n",
       "    }\n",
       "\n",
       "    .dataframe thead th {\n",
       "        text-align: right;\n",
       "    }\n",
       "</style>\n",
       "<table border=\"1\" class=\"dataframe\">\n",
       "  <thead>\n",
       "    <tr style=\"text-align: right;\">\n",
       "      <th></th>\n",
       "      <th>Filepath</th>\n",
       "      <th>Sequence</th>\n",
       "      <th>Frame</th>\n",
       "      <th>Set</th>\n",
       "    </tr>\n",
       "  </thead>\n",
       "  <tbody>\n",
       "    <tr>\n",
       "      <th>0</th>\n",
       "      <td>/home/admin/data/esmart_wip/20210629_173500_11...</td>\n",
       "      <td>20210629173500</td>\n",
       "      <td>11004</td>\n",
       "      <td>train</td>\n",
       "    </tr>\n",
       "    <tr>\n",
       "      <th>1</th>\n",
       "      <td>/home/admin/data/esmart_wip/20210629_173500_11...</td>\n",
       "      <td>20210629173500</td>\n",
       "      <td>11010</td>\n",
       "      <td>train</td>\n",
       "    </tr>\n",
       "    <tr>\n",
       "      <th>3</th>\n",
       "      <td>/home/admin/data/esmart_wip/20210629_173500_11...</td>\n",
       "      <td>20210629173500</td>\n",
       "      <td>11856</td>\n",
       "      <td>train</td>\n",
       "    </tr>\n",
       "    <tr>\n",
       "      <th>5</th>\n",
       "      <td>/home/admin/data/esmart_wip/20210629_173500_12...</td>\n",
       "      <td>20210629173500</td>\n",
       "      <td>12480</td>\n",
       "      <td>train</td>\n",
       "    </tr>\n",
       "    <tr>\n",
       "      <th>6</th>\n",
       "      <td>/home/admin/data/esmart_wip/20210629_173500_13...</td>\n",
       "      <td>20210629173500</td>\n",
       "      <td>13140</td>\n",
       "      <td>train</td>\n",
       "    </tr>\n",
       "    <tr>\n",
       "      <th>...</th>\n",
       "      <td>...</td>\n",
       "      <td>...</td>\n",
       "      <td>...</td>\n",
       "      <td>...</td>\n",
       "    </tr>\n",
       "    <tr>\n",
       "      <th>2108</th>\n",
       "      <td>/home/admin/data/esmart_wip/20210715_175810_18...</td>\n",
       "      <td>20210715175810</td>\n",
       "      <td>180</td>\n",
       "      <td>val</td>\n",
       "    </tr>\n",
       "    <tr>\n",
       "      <th>2480</th>\n",
       "      <td>/home/admin/data/esmart_wip/20210724_141043_11...</td>\n",
       "      <td>20210724141043</td>\n",
       "      <td>11790</td>\n",
       "      <td>val</td>\n",
       "    </tr>\n",
       "    <tr>\n",
       "      <th>62</th>\n",
       "      <td>/home/admin/data/esmart_wip/20210629_173500_74...</td>\n",
       "      <td>20210629173500</td>\n",
       "      <td>7446</td>\n",
       "      <td>val</td>\n",
       "    </tr>\n",
       "    <tr>\n",
       "      <th>2191</th>\n",
       "      <td>/home/admin/data/esmart_wip/20210724_113301_18...</td>\n",
       "      <td>20210724113301</td>\n",
       "      <td>18102</td>\n",
       "      <td>val</td>\n",
       "    </tr>\n",
       "    <tr>\n",
       "      <th>3040</th>\n",
       "      <td>/home/admin/data/esmart_wip/20211129_193841_40...</td>\n",
       "      <td>20211129193841</td>\n",
       "      <td>40843</td>\n",
       "      <td>val</td>\n",
       "    </tr>\n",
       "  </tbody>\n",
       "</table>\n",
       "<p>6725 rows × 4 columns</p>\n",
       "</div>"
      ],
      "text/plain": [
       "                                               Filepath        Sequence  \\\n",
       "0     /home/admin/data/esmart_wip/20210629_173500_11...  20210629173500   \n",
       "1     /home/admin/data/esmart_wip/20210629_173500_11...  20210629173500   \n",
       "3     /home/admin/data/esmart_wip/20210629_173500_11...  20210629173500   \n",
       "5     /home/admin/data/esmart_wip/20210629_173500_12...  20210629173500   \n",
       "6     /home/admin/data/esmart_wip/20210629_173500_13...  20210629173500   \n",
       "...                                                 ...             ...   \n",
       "2108  /home/admin/data/esmart_wip/20210715_175810_18...  20210715175810   \n",
       "2480  /home/admin/data/esmart_wip/20210724_141043_11...  20210724141043   \n",
       "62    /home/admin/data/esmart_wip/20210629_173500_74...  20210629173500   \n",
       "2191  /home/admin/data/esmart_wip/20210724_113301_18...  20210724113301   \n",
       "3040  /home/admin/data/esmart_wip/20211129_193841_40...  20211129193841   \n",
       "\n",
       "      Frame    Set  \n",
       "0     11004  train  \n",
       "1     11010  train  \n",
       "3     11856  train  \n",
       "5     12480  train  \n",
       "6     13140  train  \n",
       "...     ...    ...  \n",
       "2108    180    val  \n",
       "2480  11790    val  \n",
       "62     7446    val  \n",
       "2191  18102    val  \n",
       "3040  40843    val  \n",
       "\n",
       "[6725 rows x 4 columns]"
      ]
     },
     "execution_count": 86,
     "metadata": {},
     "output_type": "execute_result"
    }
   ],
   "source": [
    "frames_to_concat = [rand_train_set, rand_val_set]\n",
    "random_split = pd.concat(frames_to_concat)\n",
    "random_split"
   ]
  },
  {
   "cell_type": "code",
   "execution_count": 87,
   "id": "5637216d",
   "metadata": {},
   "outputs": [
    {
     "data": {
      "text/html": [
       "<div>\n",
       "<style scoped>\n",
       "    .dataframe tbody tr th:only-of-type {\n",
       "        vertical-align: middle;\n",
       "    }\n",
       "\n",
       "    .dataframe tbody tr th {\n",
       "        vertical-align: top;\n",
       "    }\n",
       "\n",
       "    .dataframe thead th {\n",
       "        text-align: right;\n",
       "    }\n",
       "</style>\n",
       "<table border=\"1\" class=\"dataframe\">\n",
       "  <thead>\n",
       "    <tr style=\"text-align: right;\">\n",
       "      <th></th>\n",
       "      <th>train</th>\n",
       "      <th>val</th>\n",
       "    </tr>\n",
       "  </thead>\n",
       "  <tbody>\n",
       "    <tr>\n",
       "      <th>Set</th>\n",
       "      <td>5380</td>\n",
       "      <td>1345</td>\n",
       "    </tr>\n",
       "  </tbody>\n",
       "</table>\n",
       "</div>"
      ],
      "text/plain": [
       "     train   val\n",
       "Set   5380  1345"
      ]
     },
     "execution_count": 87,
     "metadata": {},
     "output_type": "execute_result"
    }
   ],
   "source": [
    "count_split = random_split['Set'].value_counts()\n",
    "df_count = pd.DataFrame(count_split).transpose()\n",
    "df_count"
   ]
  },
  {
   "cell_type": "code",
   "execution_count": 88,
   "id": "f57e6b8b",
   "metadata": {},
   "outputs": [
    {
     "data": {
      "application/vnd.plotly.v1+json": {
       "config": {
        "plotlyServerURL": "https://plot.ly"
       },
       "data": [
        {
         "alignmentgroup": "True",
         "hovertemplate": "variable=train<br>index=%{x}<br>value=%{y}<extra></extra>",
         "legendgroup": "train",
         "marker": {
          "color": "#636efa"
         },
         "name": "train",
         "offsetgroup": "train",
         "orientation": "v",
         "showlegend": true,
         "textposition": "auto",
         "type": "bar",
         "x": [
          "Set"
         ],
         "xaxis": "x",
         "y": [
          5380
         ],
         "yaxis": "y"
        },
        {
         "alignmentgroup": "True",
         "hovertemplate": "variable=val<br>index=%{x}<br>value=%{y}<extra></extra>",
         "legendgroup": "val",
         "marker": {
          "color": "#EF553B"
         },
         "name": "val",
         "offsetgroup": "val",
         "orientation": "v",
         "showlegend": true,
         "textposition": "auto",
         "type": "bar",
         "x": [
          "Set"
         ],
         "xaxis": "x",
         "y": [
          1345
         ],
         "yaxis": "y"
        }
       ],
       "layout": {
        "barmode": "relative",
        "legend": {
         "title": {
          "text": "variable"
         },
         "tracegroupgap": 0
        },
        "template": {
         "data": {
          "bar": [
           {
            "error_x": {
             "color": "#2a3f5f"
            },
            "error_y": {
             "color": "#2a3f5f"
            },
            "marker": {
             "line": {
              "color": "#E5ECF6",
              "width": 0.5
             }
            },
            "type": "bar"
           }
          ],
          "barpolar": [
           {
            "marker": {
             "line": {
              "color": "#E5ECF6",
              "width": 0.5
             }
            },
            "type": "barpolar"
           }
          ],
          "carpet": [
           {
            "aaxis": {
             "endlinecolor": "#2a3f5f",
             "gridcolor": "white",
             "linecolor": "white",
             "minorgridcolor": "white",
             "startlinecolor": "#2a3f5f"
            },
            "baxis": {
             "endlinecolor": "#2a3f5f",
             "gridcolor": "white",
             "linecolor": "white",
             "minorgridcolor": "white",
             "startlinecolor": "#2a3f5f"
            },
            "type": "carpet"
           }
          ],
          "choropleth": [
           {
            "colorbar": {
             "outlinewidth": 0,
             "ticks": ""
            },
            "type": "choropleth"
           }
          ],
          "contour": [
           {
            "colorbar": {
             "outlinewidth": 0,
             "ticks": ""
            },
            "colorscale": [
             [
              0,
              "#0d0887"
             ],
             [
              0.1111111111111111,
              "#46039f"
             ],
             [
              0.2222222222222222,
              "#7201a8"
             ],
             [
              0.3333333333333333,
              "#9c179e"
             ],
             [
              0.4444444444444444,
              "#bd3786"
             ],
             [
              0.5555555555555556,
              "#d8576b"
             ],
             [
              0.6666666666666666,
              "#ed7953"
             ],
             [
              0.7777777777777778,
              "#fb9f3a"
             ],
             [
              0.8888888888888888,
              "#fdca26"
             ],
             [
              1,
              "#f0f921"
             ]
            ],
            "type": "contour"
           }
          ],
          "contourcarpet": [
           {
            "colorbar": {
             "outlinewidth": 0,
             "ticks": ""
            },
            "type": "contourcarpet"
           }
          ],
          "heatmap": [
           {
            "colorbar": {
             "outlinewidth": 0,
             "ticks": ""
            },
            "colorscale": [
             [
              0,
              "#0d0887"
             ],
             [
              0.1111111111111111,
              "#46039f"
             ],
             [
              0.2222222222222222,
              "#7201a8"
             ],
             [
              0.3333333333333333,
              "#9c179e"
             ],
             [
              0.4444444444444444,
              "#bd3786"
             ],
             [
              0.5555555555555556,
              "#d8576b"
             ],
             [
              0.6666666666666666,
              "#ed7953"
             ],
             [
              0.7777777777777778,
              "#fb9f3a"
             ],
             [
              0.8888888888888888,
              "#fdca26"
             ],
             [
              1,
              "#f0f921"
             ]
            ],
            "type": "heatmap"
           }
          ],
          "heatmapgl": [
           {
            "colorbar": {
             "outlinewidth": 0,
             "ticks": ""
            },
            "colorscale": [
             [
              0,
              "#0d0887"
             ],
             [
              0.1111111111111111,
              "#46039f"
             ],
             [
              0.2222222222222222,
              "#7201a8"
             ],
             [
              0.3333333333333333,
              "#9c179e"
             ],
             [
              0.4444444444444444,
              "#bd3786"
             ],
             [
              0.5555555555555556,
              "#d8576b"
             ],
             [
              0.6666666666666666,
              "#ed7953"
             ],
             [
              0.7777777777777778,
              "#fb9f3a"
             ],
             [
              0.8888888888888888,
              "#fdca26"
             ],
             [
              1,
              "#f0f921"
             ]
            ],
            "type": "heatmapgl"
           }
          ],
          "histogram": [
           {
            "marker": {
             "colorbar": {
              "outlinewidth": 0,
              "ticks": ""
             }
            },
            "type": "histogram"
           }
          ],
          "histogram2d": [
           {
            "colorbar": {
             "outlinewidth": 0,
             "ticks": ""
            },
            "colorscale": [
             [
              0,
              "#0d0887"
             ],
             [
              0.1111111111111111,
              "#46039f"
             ],
             [
              0.2222222222222222,
              "#7201a8"
             ],
             [
              0.3333333333333333,
              "#9c179e"
             ],
             [
              0.4444444444444444,
              "#bd3786"
             ],
             [
              0.5555555555555556,
              "#d8576b"
             ],
             [
              0.6666666666666666,
              "#ed7953"
             ],
             [
              0.7777777777777778,
              "#fb9f3a"
             ],
             [
              0.8888888888888888,
              "#fdca26"
             ],
             [
              1,
              "#f0f921"
             ]
            ],
            "type": "histogram2d"
           }
          ],
          "histogram2dcontour": [
           {
            "colorbar": {
             "outlinewidth": 0,
             "ticks": ""
            },
            "colorscale": [
             [
              0,
              "#0d0887"
             ],
             [
              0.1111111111111111,
              "#46039f"
             ],
             [
              0.2222222222222222,
              "#7201a8"
             ],
             [
              0.3333333333333333,
              "#9c179e"
             ],
             [
              0.4444444444444444,
              "#bd3786"
             ],
             [
              0.5555555555555556,
              "#d8576b"
             ],
             [
              0.6666666666666666,
              "#ed7953"
             ],
             [
              0.7777777777777778,
              "#fb9f3a"
             ],
             [
              0.8888888888888888,
              "#fdca26"
             ],
             [
              1,
              "#f0f921"
             ]
            ],
            "type": "histogram2dcontour"
           }
          ],
          "mesh3d": [
           {
            "colorbar": {
             "outlinewidth": 0,
             "ticks": ""
            },
            "type": "mesh3d"
           }
          ],
          "parcoords": [
           {
            "line": {
             "colorbar": {
              "outlinewidth": 0,
              "ticks": ""
             }
            },
            "type": "parcoords"
           }
          ],
          "pie": [
           {
            "automargin": true,
            "type": "pie"
           }
          ],
          "scatter": [
           {
            "marker": {
             "colorbar": {
              "outlinewidth": 0,
              "ticks": ""
             }
            },
            "type": "scatter"
           }
          ],
          "scatter3d": [
           {
            "line": {
             "colorbar": {
              "outlinewidth": 0,
              "ticks": ""
             }
            },
            "marker": {
             "colorbar": {
              "outlinewidth": 0,
              "ticks": ""
             }
            },
            "type": "scatter3d"
           }
          ],
          "scattercarpet": [
           {
            "marker": {
             "colorbar": {
              "outlinewidth": 0,
              "ticks": ""
             }
            },
            "type": "scattercarpet"
           }
          ],
          "scattergeo": [
           {
            "marker": {
             "colorbar": {
              "outlinewidth": 0,
              "ticks": ""
             }
            },
            "type": "scattergeo"
           }
          ],
          "scattergl": [
           {
            "marker": {
             "colorbar": {
              "outlinewidth": 0,
              "ticks": ""
             }
            },
            "type": "scattergl"
           }
          ],
          "scattermapbox": [
           {
            "marker": {
             "colorbar": {
              "outlinewidth": 0,
              "ticks": ""
             }
            },
            "type": "scattermapbox"
           }
          ],
          "scatterpolar": [
           {
            "marker": {
             "colorbar": {
              "outlinewidth": 0,
              "ticks": ""
             }
            },
            "type": "scatterpolar"
           }
          ],
          "scatterpolargl": [
           {
            "marker": {
             "colorbar": {
              "outlinewidth": 0,
              "ticks": ""
             }
            },
            "type": "scatterpolargl"
           }
          ],
          "scatterternary": [
           {
            "marker": {
             "colorbar": {
              "outlinewidth": 0,
              "ticks": ""
             }
            },
            "type": "scatterternary"
           }
          ],
          "surface": [
           {
            "colorbar": {
             "outlinewidth": 0,
             "ticks": ""
            },
            "colorscale": [
             [
              0,
              "#0d0887"
             ],
             [
              0.1111111111111111,
              "#46039f"
             ],
             [
              0.2222222222222222,
              "#7201a8"
             ],
             [
              0.3333333333333333,
              "#9c179e"
             ],
             [
              0.4444444444444444,
              "#bd3786"
             ],
             [
              0.5555555555555556,
              "#d8576b"
             ],
             [
              0.6666666666666666,
              "#ed7953"
             ],
             [
              0.7777777777777778,
              "#fb9f3a"
             ],
             [
              0.8888888888888888,
              "#fdca26"
             ],
             [
              1,
              "#f0f921"
             ]
            ],
            "type": "surface"
           }
          ],
          "table": [
           {
            "cells": {
             "fill": {
              "color": "#EBF0F8"
             },
             "line": {
              "color": "white"
             }
            },
            "header": {
             "fill": {
              "color": "#C8D4E3"
             },
             "line": {
              "color": "white"
             }
            },
            "type": "table"
           }
          ]
         },
         "layout": {
          "annotationdefaults": {
           "arrowcolor": "#2a3f5f",
           "arrowhead": 0,
           "arrowwidth": 1
          },
          "autotypenumbers": "strict",
          "coloraxis": {
           "colorbar": {
            "outlinewidth": 0,
            "ticks": ""
           }
          },
          "colorscale": {
           "diverging": [
            [
             0,
             "#8e0152"
            ],
            [
             0.1,
             "#c51b7d"
            ],
            [
             0.2,
             "#de77ae"
            ],
            [
             0.3,
             "#f1b6da"
            ],
            [
             0.4,
             "#fde0ef"
            ],
            [
             0.5,
             "#f7f7f7"
            ],
            [
             0.6,
             "#e6f5d0"
            ],
            [
             0.7,
             "#b8e186"
            ],
            [
             0.8,
             "#7fbc41"
            ],
            [
             0.9,
             "#4d9221"
            ],
            [
             1,
             "#276419"
            ]
           ],
           "sequential": [
            [
             0,
             "#0d0887"
            ],
            [
             0.1111111111111111,
             "#46039f"
            ],
            [
             0.2222222222222222,
             "#7201a8"
            ],
            [
             0.3333333333333333,
             "#9c179e"
            ],
            [
             0.4444444444444444,
             "#bd3786"
            ],
            [
             0.5555555555555556,
             "#d8576b"
            ],
            [
             0.6666666666666666,
             "#ed7953"
            ],
            [
             0.7777777777777778,
             "#fb9f3a"
            ],
            [
             0.8888888888888888,
             "#fdca26"
            ],
            [
             1,
             "#f0f921"
            ]
           ],
           "sequentialminus": [
            [
             0,
             "#0d0887"
            ],
            [
             0.1111111111111111,
             "#46039f"
            ],
            [
             0.2222222222222222,
             "#7201a8"
            ],
            [
             0.3333333333333333,
             "#9c179e"
            ],
            [
             0.4444444444444444,
             "#bd3786"
            ],
            [
             0.5555555555555556,
             "#d8576b"
            ],
            [
             0.6666666666666666,
             "#ed7953"
            ],
            [
             0.7777777777777778,
             "#fb9f3a"
            ],
            [
             0.8888888888888888,
             "#fdca26"
            ],
            [
             1,
             "#f0f921"
            ]
           ]
          },
          "colorway": [
           "#636efa",
           "#EF553B",
           "#00cc96",
           "#ab63fa",
           "#FFA15A",
           "#19d3f3",
           "#FF6692",
           "#B6E880",
           "#FF97FF",
           "#FECB52"
          ],
          "font": {
           "color": "#2a3f5f"
          },
          "geo": {
           "bgcolor": "white",
           "lakecolor": "white",
           "landcolor": "#E5ECF6",
           "showlakes": true,
           "showland": true,
           "subunitcolor": "white"
          },
          "hoverlabel": {
           "align": "left"
          },
          "hovermode": "closest",
          "mapbox": {
           "style": "light"
          },
          "paper_bgcolor": "white",
          "plot_bgcolor": "#E5ECF6",
          "polar": {
           "angularaxis": {
            "gridcolor": "white",
            "linecolor": "white",
            "ticks": ""
           },
           "bgcolor": "#E5ECF6",
           "radialaxis": {
            "gridcolor": "white",
            "linecolor": "white",
            "ticks": ""
           }
          },
          "scene": {
           "xaxis": {
            "backgroundcolor": "#E5ECF6",
            "gridcolor": "white",
            "gridwidth": 2,
            "linecolor": "white",
            "showbackground": true,
            "ticks": "",
            "zerolinecolor": "white"
           },
           "yaxis": {
            "backgroundcolor": "#E5ECF6",
            "gridcolor": "white",
            "gridwidth": 2,
            "linecolor": "white",
            "showbackground": true,
            "ticks": "",
            "zerolinecolor": "white"
           },
           "zaxis": {
            "backgroundcolor": "#E5ECF6",
            "gridcolor": "white",
            "gridwidth": 2,
            "linecolor": "white",
            "showbackground": true,
            "ticks": "",
            "zerolinecolor": "white"
           }
          },
          "shapedefaults": {
           "line": {
            "color": "#2a3f5f"
           }
          },
          "ternary": {
           "aaxis": {
            "gridcolor": "white",
            "linecolor": "white",
            "ticks": ""
           },
           "baxis": {
            "gridcolor": "white",
            "linecolor": "white",
            "ticks": ""
           },
           "bgcolor": "#E5ECF6",
           "caxis": {
            "gridcolor": "white",
            "linecolor": "white",
            "ticks": ""
           }
          },
          "title": {
           "x": 0.05
          },
          "xaxis": {
           "automargin": true,
           "gridcolor": "white",
           "linecolor": "white",
           "ticks": "",
           "title": {
            "standoff": 15
           },
           "zerolinecolor": "white",
           "zerolinewidth": 2
          },
          "yaxis": {
           "automargin": true,
           "gridcolor": "white",
           "linecolor": "white",
           "ticks": "",
           "title": {
            "standoff": 15
           },
           "zerolinecolor": "white",
           "zerolinewidth": 2
          }
         }
        },
        "title": {
         "text": "Distribution of the new data split"
        },
        "xaxis": {
         "anchor": "y",
         "domain": [
          0,
          1
         ],
         "title": {
          "text": "index"
         }
        },
        "yaxis": {
         "anchor": "x",
         "domain": [
          0,
          1
         ],
         "title": {
          "text": "value"
         }
        }
       }
      },
      "text/html": [
       "<div>                            <div id=\"aadc17b9-203d-45c8-8eac-f21a543ea551\" class=\"plotly-graph-div\" style=\"height:525px; width:100%;\"></div>            <script type=\"text/javascript\">                require([\"plotly\"], function(Plotly) {                    window.PLOTLYENV=window.PLOTLYENV || {};                                    if (document.getElementById(\"aadc17b9-203d-45c8-8eac-f21a543ea551\")) {                    Plotly.newPlot(                        \"aadc17b9-203d-45c8-8eac-f21a543ea551\",                        [{\"alignmentgroup\": \"True\", \"hovertemplate\": \"variable=train<br>index=%{x}<br>value=%{y}<extra></extra>\", \"legendgroup\": \"train\", \"marker\": {\"color\": \"#636efa\"}, \"name\": \"train\", \"offsetgroup\": \"train\", \"orientation\": \"v\", \"showlegend\": true, \"textposition\": \"auto\", \"type\": \"bar\", \"x\": [\"Set\"], \"xaxis\": \"x\", \"y\": [5380], \"yaxis\": \"y\"}, {\"alignmentgroup\": \"True\", \"hovertemplate\": \"variable=val<br>index=%{x}<br>value=%{y}<extra></extra>\", \"legendgroup\": \"val\", \"marker\": {\"color\": \"#EF553B\"}, \"name\": \"val\", \"offsetgroup\": \"val\", \"orientation\": \"v\", \"showlegend\": true, \"textposition\": \"auto\", \"type\": \"bar\", \"x\": [\"Set\"], \"xaxis\": \"x\", \"y\": [1345], \"yaxis\": \"y\"}],                        {\"barmode\": \"relative\", \"legend\": {\"title\": {\"text\": \"variable\"}, \"tracegroupgap\": 0}, \"template\": {\"data\": {\"bar\": [{\"error_x\": {\"color\": \"#2a3f5f\"}, \"error_y\": {\"color\": \"#2a3f5f\"}, \"marker\": {\"line\": {\"color\": \"#E5ECF6\", \"width\": 0.5}}, \"type\": \"bar\"}], \"barpolar\": [{\"marker\": {\"line\": {\"color\": \"#E5ECF6\", \"width\": 0.5}}, \"type\": \"barpolar\"}], \"carpet\": [{\"aaxis\": {\"endlinecolor\": \"#2a3f5f\", \"gridcolor\": \"white\", \"linecolor\": \"white\", \"minorgridcolor\": \"white\", \"startlinecolor\": \"#2a3f5f\"}, \"baxis\": {\"endlinecolor\": \"#2a3f5f\", \"gridcolor\": \"white\", \"linecolor\": \"white\", \"minorgridcolor\": \"white\", \"startlinecolor\": \"#2a3f5f\"}, \"type\": \"carpet\"}], \"choropleth\": [{\"colorbar\": {\"outlinewidth\": 0, \"ticks\": \"\"}, \"type\": \"choropleth\"}], \"contour\": [{\"colorbar\": {\"outlinewidth\": 0, \"ticks\": \"\"}, \"colorscale\": [[0.0, \"#0d0887\"], [0.1111111111111111, \"#46039f\"], [0.2222222222222222, \"#7201a8\"], [0.3333333333333333, \"#9c179e\"], [0.4444444444444444, \"#bd3786\"], [0.5555555555555556, \"#d8576b\"], [0.6666666666666666, \"#ed7953\"], [0.7777777777777778, \"#fb9f3a\"], [0.8888888888888888, \"#fdca26\"], [1.0, \"#f0f921\"]], \"type\": \"contour\"}], \"contourcarpet\": [{\"colorbar\": {\"outlinewidth\": 0, \"ticks\": \"\"}, \"type\": \"contourcarpet\"}], \"heatmap\": [{\"colorbar\": {\"outlinewidth\": 0, \"ticks\": \"\"}, \"colorscale\": [[0.0, \"#0d0887\"], [0.1111111111111111, \"#46039f\"], [0.2222222222222222, \"#7201a8\"], [0.3333333333333333, \"#9c179e\"], [0.4444444444444444, \"#bd3786\"], [0.5555555555555556, \"#d8576b\"], [0.6666666666666666, \"#ed7953\"], [0.7777777777777778, \"#fb9f3a\"], [0.8888888888888888, \"#fdca26\"], [1.0, \"#f0f921\"]], \"type\": \"heatmap\"}], \"heatmapgl\": [{\"colorbar\": {\"outlinewidth\": 0, \"ticks\": \"\"}, \"colorscale\": [[0.0, \"#0d0887\"], [0.1111111111111111, \"#46039f\"], [0.2222222222222222, \"#7201a8\"], [0.3333333333333333, \"#9c179e\"], [0.4444444444444444, \"#bd3786\"], [0.5555555555555556, \"#d8576b\"], [0.6666666666666666, \"#ed7953\"], [0.7777777777777778, \"#fb9f3a\"], [0.8888888888888888, \"#fdca26\"], [1.0, \"#f0f921\"]], \"type\": \"heatmapgl\"}], \"histogram\": [{\"marker\": {\"colorbar\": {\"outlinewidth\": 0, \"ticks\": \"\"}}, \"type\": \"histogram\"}], \"histogram2d\": [{\"colorbar\": {\"outlinewidth\": 0, \"ticks\": \"\"}, \"colorscale\": [[0.0, \"#0d0887\"], [0.1111111111111111, \"#46039f\"], [0.2222222222222222, \"#7201a8\"], [0.3333333333333333, \"#9c179e\"], [0.4444444444444444, \"#bd3786\"], [0.5555555555555556, \"#d8576b\"], [0.6666666666666666, \"#ed7953\"], [0.7777777777777778, \"#fb9f3a\"], [0.8888888888888888, \"#fdca26\"], [1.0, \"#f0f921\"]], \"type\": \"histogram2d\"}], \"histogram2dcontour\": [{\"colorbar\": {\"outlinewidth\": 0, \"ticks\": \"\"}, \"colorscale\": [[0.0, \"#0d0887\"], [0.1111111111111111, \"#46039f\"], [0.2222222222222222, \"#7201a8\"], [0.3333333333333333, \"#9c179e\"], [0.4444444444444444, \"#bd3786\"], [0.5555555555555556, \"#d8576b\"], [0.6666666666666666, \"#ed7953\"], [0.7777777777777778, \"#fb9f3a\"], [0.8888888888888888, \"#fdca26\"], [1.0, \"#f0f921\"]], \"type\": \"histogram2dcontour\"}], \"mesh3d\": [{\"colorbar\": {\"outlinewidth\": 0, \"ticks\": \"\"}, \"type\": \"mesh3d\"}], \"parcoords\": [{\"line\": {\"colorbar\": {\"outlinewidth\": 0, \"ticks\": \"\"}}, \"type\": \"parcoords\"}], \"pie\": [{\"automargin\": true, \"type\": \"pie\"}], \"scatter\": [{\"marker\": {\"colorbar\": {\"outlinewidth\": 0, \"ticks\": \"\"}}, \"type\": \"scatter\"}], \"scatter3d\": [{\"line\": {\"colorbar\": {\"outlinewidth\": 0, \"ticks\": \"\"}}, \"marker\": {\"colorbar\": {\"outlinewidth\": 0, \"ticks\": \"\"}}, \"type\": \"scatter3d\"}], \"scattercarpet\": [{\"marker\": {\"colorbar\": {\"outlinewidth\": 0, \"ticks\": \"\"}}, \"type\": \"scattercarpet\"}], \"scattergeo\": [{\"marker\": {\"colorbar\": {\"outlinewidth\": 0, \"ticks\": \"\"}}, \"type\": \"scattergeo\"}], \"scattergl\": [{\"marker\": {\"colorbar\": {\"outlinewidth\": 0, \"ticks\": \"\"}}, \"type\": \"scattergl\"}], \"scattermapbox\": [{\"marker\": {\"colorbar\": {\"outlinewidth\": 0, \"ticks\": \"\"}}, \"type\": \"scattermapbox\"}], \"scatterpolar\": [{\"marker\": {\"colorbar\": {\"outlinewidth\": 0, \"ticks\": \"\"}}, \"type\": \"scatterpolar\"}], \"scatterpolargl\": [{\"marker\": {\"colorbar\": {\"outlinewidth\": 0, \"ticks\": \"\"}}, \"type\": \"scatterpolargl\"}], \"scatterternary\": [{\"marker\": {\"colorbar\": {\"outlinewidth\": 0, \"ticks\": \"\"}}, \"type\": \"scatterternary\"}], \"surface\": [{\"colorbar\": {\"outlinewidth\": 0, \"ticks\": \"\"}, \"colorscale\": [[0.0, \"#0d0887\"], [0.1111111111111111, \"#46039f\"], [0.2222222222222222, \"#7201a8\"], [0.3333333333333333, \"#9c179e\"], [0.4444444444444444, \"#bd3786\"], [0.5555555555555556, \"#d8576b\"], [0.6666666666666666, \"#ed7953\"], [0.7777777777777778, \"#fb9f3a\"], [0.8888888888888888, \"#fdca26\"], [1.0, \"#f0f921\"]], \"type\": \"surface\"}], \"table\": [{\"cells\": {\"fill\": {\"color\": \"#EBF0F8\"}, \"line\": {\"color\": \"white\"}}, \"header\": {\"fill\": {\"color\": \"#C8D4E3\"}, \"line\": {\"color\": \"white\"}}, \"type\": \"table\"}]}, \"layout\": {\"annotationdefaults\": {\"arrowcolor\": \"#2a3f5f\", \"arrowhead\": 0, \"arrowwidth\": 1}, \"autotypenumbers\": \"strict\", \"coloraxis\": {\"colorbar\": {\"outlinewidth\": 0, \"ticks\": \"\"}}, \"colorscale\": {\"diverging\": [[0, \"#8e0152\"], [0.1, \"#c51b7d\"], [0.2, \"#de77ae\"], [0.3, \"#f1b6da\"], [0.4, \"#fde0ef\"], [0.5, \"#f7f7f7\"], [0.6, \"#e6f5d0\"], [0.7, \"#b8e186\"], [0.8, \"#7fbc41\"], [0.9, \"#4d9221\"], [1, \"#276419\"]], \"sequential\": [[0.0, \"#0d0887\"], [0.1111111111111111, \"#46039f\"], [0.2222222222222222, \"#7201a8\"], [0.3333333333333333, \"#9c179e\"], [0.4444444444444444, \"#bd3786\"], [0.5555555555555556, \"#d8576b\"], [0.6666666666666666, \"#ed7953\"], [0.7777777777777778, \"#fb9f3a\"], [0.8888888888888888, \"#fdca26\"], [1.0, \"#f0f921\"]], \"sequentialminus\": [[0.0, \"#0d0887\"], [0.1111111111111111, \"#46039f\"], [0.2222222222222222, \"#7201a8\"], [0.3333333333333333, \"#9c179e\"], [0.4444444444444444, \"#bd3786\"], [0.5555555555555556, \"#d8576b\"], [0.6666666666666666, \"#ed7953\"], [0.7777777777777778, \"#fb9f3a\"], [0.8888888888888888, \"#fdca26\"], [1.0, \"#f0f921\"]]}, \"colorway\": [\"#636efa\", \"#EF553B\", \"#00cc96\", \"#ab63fa\", \"#FFA15A\", \"#19d3f3\", \"#FF6692\", \"#B6E880\", \"#FF97FF\", \"#FECB52\"], \"font\": {\"color\": \"#2a3f5f\"}, \"geo\": {\"bgcolor\": \"white\", \"lakecolor\": \"white\", \"landcolor\": \"#E5ECF6\", \"showlakes\": true, \"showland\": true, \"subunitcolor\": \"white\"}, \"hoverlabel\": {\"align\": \"left\"}, \"hovermode\": \"closest\", \"mapbox\": {\"style\": \"light\"}, \"paper_bgcolor\": \"white\", \"plot_bgcolor\": \"#E5ECF6\", \"polar\": {\"angularaxis\": {\"gridcolor\": \"white\", \"linecolor\": \"white\", \"ticks\": \"\"}, \"bgcolor\": \"#E5ECF6\", \"radialaxis\": {\"gridcolor\": \"white\", \"linecolor\": \"white\", \"ticks\": \"\"}}, \"scene\": {\"xaxis\": {\"backgroundcolor\": \"#E5ECF6\", \"gridcolor\": \"white\", \"gridwidth\": 2, \"linecolor\": \"white\", \"showbackground\": true, \"ticks\": \"\", \"zerolinecolor\": \"white\"}, \"yaxis\": {\"backgroundcolor\": \"#E5ECF6\", \"gridcolor\": \"white\", \"gridwidth\": 2, \"linecolor\": \"white\", \"showbackground\": true, \"ticks\": \"\", \"zerolinecolor\": \"white\"}, \"zaxis\": {\"backgroundcolor\": \"#E5ECF6\", \"gridcolor\": \"white\", \"gridwidth\": 2, \"linecolor\": \"white\", \"showbackground\": true, \"ticks\": \"\", \"zerolinecolor\": \"white\"}}, \"shapedefaults\": {\"line\": {\"color\": \"#2a3f5f\"}}, \"ternary\": {\"aaxis\": {\"gridcolor\": \"white\", \"linecolor\": \"white\", \"ticks\": \"\"}, \"baxis\": {\"gridcolor\": \"white\", \"linecolor\": \"white\", \"ticks\": \"\"}, \"bgcolor\": \"#E5ECF6\", \"caxis\": {\"gridcolor\": \"white\", \"linecolor\": \"white\", \"ticks\": \"\"}}, \"title\": {\"x\": 0.05}, \"xaxis\": {\"automargin\": true, \"gridcolor\": \"white\", \"linecolor\": \"white\", \"ticks\": \"\", \"title\": {\"standoff\": 15}, \"zerolinecolor\": \"white\", \"zerolinewidth\": 2}, \"yaxis\": {\"automargin\": true, \"gridcolor\": \"white\", \"linecolor\": \"white\", \"ticks\": \"\", \"title\": {\"standoff\": 15}, \"zerolinecolor\": \"white\", \"zerolinewidth\": 2}}}, \"title\": {\"text\": \"Distribution of the new data split\"}, \"xaxis\": {\"anchor\": \"y\", \"domain\": [0.0, 1.0], \"title\": {\"text\": \"index\"}}, \"yaxis\": {\"anchor\": \"x\", \"domain\": [0.0, 1.0], \"title\": {\"text\": \"value\"}}},                        {\"responsive\": true}                    ).then(function(){\n",
       "                            \n",
       "var gd = document.getElementById('aadc17b9-203d-45c8-8eac-f21a543ea551');\n",
       "var x = new MutationObserver(function (mutations, observer) {{\n",
       "        var display = window.getComputedStyle(gd).display;\n",
       "        if (!display || display === 'none') {{\n",
       "            console.log([gd, 'removed!']);\n",
       "            Plotly.purge(gd);\n",
       "            observer.disconnect();\n",
       "        }}\n",
       "}});\n",
       "\n",
       "// Listen for the removal of the full notebook cells\n",
       "var notebookContainer = gd.closest('#notebook-container');\n",
       "if (notebookContainer) {{\n",
       "    x.observe(notebookContainer, {childList: true});\n",
       "}}\n",
       "\n",
       "// Listen for the clearing of the current output cell\n",
       "var outputEl = gd.closest('.output');\n",
       "if (outputEl) {{\n",
       "    x.observe(outputEl, {childList: true});\n",
       "}}\n",
       "\n",
       "                        })                };                });            </script>        </div>"
      ]
     },
     "metadata": {},
     "output_type": "display_data"
    }
   ],
   "source": [
    "fig = px.bar(df_count, title='Distribution of the new data split')\n",
    "fig.show()"
   ]
  },
  {
   "cell_type": "markdown",
   "id": "ae14334e",
   "metadata": {},
   "source": [
    "## 6. Split Automatically (computer) by randomly selecting some validation sequences -- OOD "
   ]
  },
  {
   "cell_type": "code",
   "execution_count": 89,
   "id": "a90b067c",
   "metadata": {},
   "outputs": [
    {
     "data": {
      "text/html": [
       "<div>\n",
       "<style scoped>\n",
       "    .dataframe tbody tr th:only-of-type {\n",
       "        vertical-align: middle;\n",
       "    }\n",
       "\n",
       "    .dataframe tbody tr th {\n",
       "        vertical-align: top;\n",
       "    }\n",
       "\n",
       "    .dataframe thead th {\n",
       "        text-align: right;\n",
       "    }\n",
       "</style>\n",
       "<table border=\"1\" class=\"dataframe\">\n",
       "  <thead>\n",
       "    <tr style=\"text-align: right;\">\n",
       "      <th></th>\n",
       "      <th>Filepath</th>\n",
       "      <th>Sequence</th>\n",
       "      <th>Frame</th>\n",
       "    </tr>\n",
       "  </thead>\n",
       "  <tbody>\n",
       "    <tr>\n",
       "      <th>0</th>\n",
       "      <td>/home/admin/data/esmart_wip/20210629_173500_11...</td>\n",
       "      <td>20210629173500</td>\n",
       "      <td>11004</td>\n",
       "    </tr>\n",
       "    <tr>\n",
       "      <th>1</th>\n",
       "      <td>/home/admin/data/esmart_wip/20210629_173500_11...</td>\n",
       "      <td>20210629173500</td>\n",
       "      <td>11010</td>\n",
       "    </tr>\n",
       "    <tr>\n",
       "      <th>2</th>\n",
       "      <td>/home/admin/data/esmart_wip/20210629_173500_11...</td>\n",
       "      <td>20210629173500</td>\n",
       "      <td>11232</td>\n",
       "    </tr>\n",
       "    <tr>\n",
       "      <th>3</th>\n",
       "      <td>/home/admin/data/esmart_wip/20210629_173500_11...</td>\n",
       "      <td>20210629173500</td>\n",
       "      <td>11856</td>\n",
       "    </tr>\n",
       "    <tr>\n",
       "      <th>4</th>\n",
       "      <td>/home/admin/data/esmart_wip/20210629_173500_12...</td>\n",
       "      <td>20210629173500</td>\n",
       "      <td>12156</td>\n",
       "    </tr>\n",
       "  </tbody>\n",
       "</table>\n",
       "</div>"
      ],
      "text/plain": [
       "                                            Filepath        Sequence  Frame\n",
       "0  /home/admin/data/esmart_wip/20210629_173500_11...  20210629173500  11004\n",
       "1  /home/admin/data/esmart_wip/20210629_173500_11...  20210629173500  11010\n",
       "2  /home/admin/data/esmart_wip/20210629_173500_11...  20210629173500  11232\n",
       "3  /home/admin/data/esmart_wip/20210629_173500_11...  20210629173500  11856\n",
       "4  /home/admin/data/esmart_wip/20210629_173500_12...  20210629173500  12156"
      ]
     },
     "execution_count": 89,
     "metadata": {},
     "output_type": "execute_result"
    }
   ],
   "source": [
    "sequences_df.head()"
   ]
  },
  {
   "cell_type": "code",
   "execution_count": 90,
   "id": "cb34b221",
   "metadata": {},
   "outputs": [],
   "source": [
    "rand_seq_split_df = sequences_df"
   ]
  },
  {
   "cell_type": "code",
   "execution_count": 117,
   "id": "f5aaeba2",
   "metadata": {},
   "outputs": [
    {
     "data": {
      "text/html": [
       "<div>\n",
       "<style scoped>\n",
       "    .dataframe tbody tr th:only-of-type {\n",
       "        vertical-align: middle;\n",
       "    }\n",
       "\n",
       "    .dataframe tbody tr th {\n",
       "        vertical-align: top;\n",
       "    }\n",
       "\n",
       "    .dataframe thead th {\n",
       "        text-align: right;\n",
       "    }\n",
       "</style>\n",
       "<table border=\"1\" class=\"dataframe\">\n",
       "  <thead>\n",
       "    <tr style=\"text-align: right;\">\n",
       "      <th></th>\n",
       "      <th>Filepath</th>\n",
       "      <th>Frame</th>\n",
       "    </tr>\n",
       "    <tr>\n",
       "      <th>Sequence</th>\n",
       "      <th></th>\n",
       "      <th></th>\n",
       "    </tr>\n",
       "  </thead>\n",
       "  <tbody>\n",
       "    <tr>\n",
       "      <th>20210629173500</th>\n",
       "      <td>103</td>\n",
       "      <td>103</td>\n",
       "    </tr>\n",
       "    <tr>\n",
       "      <th>20210629174553</th>\n",
       "      <td>114</td>\n",
       "      <td>114</td>\n",
       "    </tr>\n",
       "    <tr>\n",
       "      <th>20210630055611</th>\n",
       "      <td>226</td>\n",
       "      <td>226</td>\n",
       "    </tr>\n",
       "    <tr>\n",
       "      <th>20210630083253</th>\n",
       "      <td>265</td>\n",
       "      <td>265</td>\n",
       "    </tr>\n",
       "    <tr>\n",
       "      <th>20210630175841</th>\n",
       "      <td>7</td>\n",
       "      <td>7</td>\n",
       "    </tr>\n",
       "  </tbody>\n",
       "</table>\n",
       "</div>"
      ],
      "text/plain": [
       "                Filepath  Frame\n",
       "Sequence                       \n",
       "20210629173500       103    103\n",
       "20210629174553       114    114\n",
       "20210630055611       226    226\n",
       "20210630083253       265    265\n",
       "20210630175841         7      7"
      ]
     },
     "execution_count": 117,
     "metadata": {},
     "output_type": "execute_result"
    }
   ],
   "source": [
    "seq_df = rand_seq_split_df.groupby('Sequence').count()\n",
    "seq_df.head()"
   ]
  },
  {
   "cell_type": "code",
   "execution_count": 113,
   "id": "876719ca",
   "metadata": {},
   "outputs": [
    {
     "name": "stdout",
     "output_type": "stream",
     "text": [
      "There are 12 sequences and  1870 frames in the validation set.\n"
     ]
    }
   ],
   "source": [
    "val_seq_df = seq_df.sample(frac=0.2, replace=False)  \n",
    "val_seq_df['Set'] = 'val'\n",
    "print(\"There are\", val_seq_df.shape[0], \"sequences and\",val_seq_df['Filepath'].sum(), \"frames in the validation set.\")"
   ]
  },
  {
   "cell_type": "code",
   "execution_count": 114,
   "id": "7d2a6e60",
   "metadata": {},
   "outputs": [
    {
     "name": "stdout",
     "output_type": "stream",
     "text": [
      "There are 47 sequences and 4855 frames in the training set.\n"
     ]
    },
    {
     "name": "stderr",
     "output_type": "stream",
     "text": [
      "/var/folders/y9/tfgwt38j4vgbjq05myd9zjj80000gn/T/ipykernel_22349/1435915922.py:2: SettingWithCopyWarning:\n",
      "\n",
      "\n",
      "A value is trying to be set on a copy of a slice from a DataFrame.\n",
      "Try using .loc[row_indexer,col_indexer] = value instead\n",
      "\n",
      "See the caveats in the documentation: https://pandas.pydata.org/pandas-docs/stable/user_guide/indexing.html#returning-a-view-versus-a-copy\n",
      "\n"
     ]
    }
   ],
   "source": [
    "train_seq_df = seq_df.loc[~seq_df.index.isin(val_seq_df.index)]\n",
    "train_seq_df['Set'] = 'train'\n",
    "print(\"There are\", train_seq_df.shape[0], \"sequences and\", train_seq_df['Filepath'].sum(), \"frames in the training set.\")"
   ]
  },
  {
   "cell_type": "code",
   "execution_count": 116,
   "id": "7ecd776b",
   "metadata": {},
   "outputs": [
    {
     "data": {
      "text/html": [
       "<div>\n",
       "<style scoped>\n",
       "    .dataframe tbody tr th:only-of-type {\n",
       "        vertical-align: middle;\n",
       "    }\n",
       "\n",
       "    .dataframe tbody tr th {\n",
       "        vertical-align: top;\n",
       "    }\n",
       "\n",
       "    .dataframe thead th {\n",
       "        text-align: right;\n",
       "    }\n",
       "</style>\n",
       "<table border=\"1\" class=\"dataframe\">\n",
       "  <thead>\n",
       "    <tr style=\"text-align: right;\">\n",
       "      <th></th>\n",
       "      <th>Filepath</th>\n",
       "      <th>Frame</th>\n",
       "      <th>Set</th>\n",
       "    </tr>\n",
       "    <tr>\n",
       "      <th>Sequence</th>\n",
       "      <th></th>\n",
       "      <th></th>\n",
       "      <th></th>\n",
       "    </tr>\n",
       "  </thead>\n",
       "  <tbody>\n",
       "    <tr>\n",
       "      <th>20210629173500</th>\n",
       "      <td>103</td>\n",
       "      <td>103</td>\n",
       "      <td>train</td>\n",
       "    </tr>\n",
       "    <tr>\n",
       "      <th>20210629174553</th>\n",
       "      <td>114</td>\n",
       "      <td>114</td>\n",
       "      <td>train</td>\n",
       "    </tr>\n",
       "    <tr>\n",
       "      <th>20210630055611</th>\n",
       "      <td>226</td>\n",
       "      <td>226</td>\n",
       "      <td>train</td>\n",
       "    </tr>\n",
       "    <tr>\n",
       "      <th>20210630083253</th>\n",
       "      <td>265</td>\n",
       "      <td>265</td>\n",
       "      <td>train</td>\n",
       "    </tr>\n",
       "    <tr>\n",
       "      <th>20210630175841</th>\n",
       "      <td>7</td>\n",
       "      <td>7</td>\n",
       "      <td>train</td>\n",
       "    </tr>\n",
       "  </tbody>\n",
       "</table>\n",
       "</div>"
      ],
      "text/plain": [
       "                Filepath  Frame    Set\n",
       "Sequence                              \n",
       "20210629173500       103    103  train\n",
       "20210629174553       114    114  train\n",
       "20210630055611       226    226  train\n",
       "20210630083253       265    265  train\n",
       "20210630175841         7      7  train"
      ]
     },
     "execution_count": 116,
     "metadata": {},
     "output_type": "execute_result"
    }
   ],
   "source": [
    "frames_to_concat = [train_seq_df, val_seq_df]\n",
    "random_split_seq = pd.concat(frames_to_concat)\n",
    "random_split_seq.head()"
   ]
  },
  {
   "cell_type": "code",
   "execution_count": 118,
   "id": "95b4654d",
   "metadata": {},
   "outputs": [],
   "source": [
    "# TODO: check the classes distribution in these random splits"
   ]
  },
  {
   "cell_type": "markdown",
   "id": "03d9d5ed",
   "metadata": {},
   "source": [
    "### Save splits in Fiftyone"
   ]
  },
  {
   "cell_type": "code",
   "execution_count": null,
   "id": "05809955",
   "metadata": {},
   "outputs": [],
   "source": [
    "# training/validation road condition on random sequence selection\n",
    "mapping = {'train':'TRAIN_RC_RND_SEQ', 'val':'VAL_RC_RND_SEQ'} \n",
    "for sample in dataset:\n",
    "    data_set = str(list(random_split_seq['Filepath'] == sample.filepath]['Set'])[0])\n",
    "#     print(data_set)\n",
    "    if data_set != '0':\n",
    "        sample.tags.append(mapping[data_set])\n",
    "#         print(sample.tags)\n",
    "        # sample.save()\n",
    "    break"
   ]
  },
  {
   "cell_type": "markdown",
   "id": "14abf9d4",
   "metadata": {},
   "source": [
    "### Delete splits in fiftyone (if needed sometimes)"
   ]
  },
  {
   "cell_type": "code",
   "execution_count": null,
   "id": "d5b84406",
   "metadata": {},
   "outputs": [],
   "source": [
    "to_check = list(mapping.values())\n",
    "for sample in dataset:\n",
    "    for item in to_check:\n",
    "        if item in sample.tags:\n",
    "            sample.tags.remove(str(item))\n",
    "    sample.save()"
   ]
  },
  {
   "cell_type": "markdown",
   "id": "10d4e878",
   "metadata": {},
   "source": [
    "## 4. Use the sequences from the same location but under different road conditions in the validation set -- ID"
   ]
  },
  {
   "cell_type": "code",
   "execution_count": null,
   "id": "d391ee30",
   "metadata": {},
   "outputs": [],
   "source": [
    "# TODO "
   ]
  }
 ],
 "metadata": {
  "kernelspec": {
   "display_name": "Python 3 (ipykernel)",
   "language": "python",
   "name": "python3"
  },
  "language_info": {
   "codemirror_mode": {
    "name": "ipython",
    "version": 3
   },
   "file_extension": ".py",
   "mimetype": "text/x-python",
   "name": "python",
   "nbconvert_exporter": "python",
   "pygments_lexer": "ipython3",
   "version": "3.9.10"
  },
  "varInspector": {
   "cols": {
    "lenName": 16,
    "lenType": 16,
    "lenVar": 40
   },
   "kernels_config": {
    "python": {
     "delete_cmd_postfix": "",
     "delete_cmd_prefix": "del ",
     "library": "var_list.py",
     "varRefreshCmd": "print(var_dic_list())"
    },
    "r": {
     "delete_cmd_postfix": ") ",
     "delete_cmd_prefix": "rm(",
     "library": "var_list.r",
     "varRefreshCmd": "cat(var_dic_list()) "
    }
   },
   "types_to_exclude": [
    "module",
    "function",
    "builtin_function_or_method",
    "instance",
    "_Feature"
   ],
   "window_display": false
  }
 },
 "nbformat": 4,
 "nbformat_minor": 5
}
