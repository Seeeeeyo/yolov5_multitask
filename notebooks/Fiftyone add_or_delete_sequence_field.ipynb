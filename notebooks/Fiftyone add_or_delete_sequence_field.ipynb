{
 "cells": [
  {
   "cell_type": "code",
   "execution_count": 7,
   "id": "763fce84",
   "metadata": {},
   "outputs": [],
   "source": [
    "import fiftyone as fo"
   ]
  },
  {
   "cell_type": "code",
   "execution_count": 8,
   "id": "9cf4fda6",
   "metadata": {},
   "outputs": [
    {
     "name": "stdout",
     "output_type": "stream",
     "text": [
      "Name:        esmart_wip\n",
      "Media type:  image\n",
      "Num samples: 6392\n",
      "Persistent:  True\n",
      "Tags:        []\n",
      "Sample fields:\n",
      "    id:                       fiftyone.core.fields.ObjectIdField\n",
      "    filepath:                 fiftyone.core.fields.StringField\n",
      "    tags:                     fiftyone.core.fields.ListField(fiftyone.core.fields.StringField)\n",
      "    metadata:                 fiftyone.core.fields.EmbeddedDocumentField(fiftyone.core.metadata.ImageMetadata)\n",
      "    ground_truth:             fiftyone.core.fields.EmbeddedDocumentField(fiftyone.core.labels.Detections)\n",
      "    roadtype:                 fiftyone.core.fields.EmbeddedDocumentField(fiftyone.core.labels.Classification)\n",
      "    location:                 fiftyone.core.fields.EmbeddedDocumentField(fiftyone.core.labels.GeoLocation)\n",
      "    gt_roadtype:              fiftyone.core.fields.EmbeddedDocumentField(fiftyone.core.labels.Classifications)\n",
      "    detection:                fiftyone.core.fields.EmbeddedDocumentField(fiftyone.core.labels.Detections)\n",
      "    detection_roadtype:       fiftyone.core.fields.EmbeddedDocumentField(fiftyone.core.labels.Classifications)\n",
      "    mistakenness:             fiftyone.core.fields.FloatField\n",
      "    possible_missing:         fiftyone.core.fields.IntField\n",
      "    possible_spurious:        fiftyone.core.fields.IntField\n",
      "    asd:                      fiftyone.core.fields.EmbeddedDocumentField(fiftyone.core.labels.Detections)\n",
      "    eval_tp:                  fiftyone.core.fields.IntField\n",
      "    eval_fp:                  fiftyone.core.fields.IntField\n",
      "    eval_fn:                  fiftyone.core.fields.IntField\n",
      "    gt_road_condition:        fiftyone.core.fields.EmbeddedDocumentField(fiftyone.core.labels.Classifications)\n",
      "    gt_visibility:            fiftyone.core.fields.EmbeddedDocumentField(fiftyone.core.labels.Classifications)\n",
      "    classif_road_cond:        fiftyone.core.fields.EmbeddedDocumentField(fiftyone.core.labels.Classifications)\n",
      "    classif_road_cond_yolo:   fiftyone.core.fields.EmbeddedDocumentField(fiftyone.core.labels.Classifications)\n",
      "    classif_road_cond_yolo_2: fiftyone.core.fields.EmbeddedDocumentField(fiftyone.core.labels.Classifications)\n"
     ]
    }
   ],
   "source": [
    "dataset = fo.load_dataset(\"esmart_wip\")"
   ]
  },
  {
   "cell_type": "code",
   "execution_count": 9,
   "id": "e5f1fdaa",
   "metadata": {},
   "outputs": [
    {
     "data": {
      "text/html": [
       "\n",
       "        <iframe\n",
       "            width=\"100%\"\n",
       "            height=\"800\"\n",
       "            src=\"http://localhost:5151/?context=ipython&subscription=b83d25e9-c937-4bd3-89fd-7afdc0f14c4e\"\n",
       "            frameborder=\"0\"\n",
       "            allowfullscreen\n",
       "            \n",
       "        ></iframe>\n",
       "        "
      ],
      "text/plain": [
       "<IPython.lib.display.IFrame at 0x7f1428e532e0>"
      ]
     },
     "metadata": {},
     "output_type": "display_data"
    },
    {
     "data": {
      "text/plain": [
       "Dataset:          esmart_wip\n",
       "Media type:       image\n",
       "Num samples:      6392\n",
       "Selected samples: 0\n",
       "Selected labels:  0\n",
       "Session URL:      http://localhost:5151/"
      ]
     },
     "execution_count": 9,
     "metadata": {},
     "output_type": "execute_result"
    }
   ],
   "source": [
    "fo.launch_app(dataset)"
   ]
  },
  {
   "cell_type": "markdown",
   "id": "4e7f5cc3",
   "metadata": {},
   "source": [
    "## Delete all sequence tags"
   ]
  },
  {
   "cell_type": "code",
   "execution_count": 22,
   "id": "d5b284e5",
   "metadata": {},
   "outputs": [],
   "source": [
    "def delete_sequence_tags_fiftyone():\n",
    "    \"\"\" To delete all sequence tags in 51.\n",
    "    \"\"\"\n",
    "    for sample in dataset:\n",
    "#         print(sample.field_names)\n",
    "        file_name = sample.filepath.split(\"/\")[-1]\n",
    "        #     print(file_name)\n",
    "        file_name_splitted = file_name.split(\"_\")\n",
    "        sequence_ls = file_name_splitted[:-1]\n",
    "        sequence = \"\".join(map(str, sequence_ls))\n",
    "        frame = file_name_splitted[-1].split(\".\")[:-1][0]\n",
    "        try:\n",
    "            sample.tags.remove(sequence)\n",
    "        except:\n",
    "            a = 1\n",
    "        sample.save()\n",
    "\n",
    "# delete_sequence_tags_fiftyone()"
   ]
  },
  {
   "cell_type": "markdown",
   "id": "9ab2cc93",
   "metadata": {},
   "source": [
    "## Add a sequence field to each sample"
   ]
  },
  {
   "cell_type": "code",
   "execution_count": 24,
   "id": "5c6cf20e",
   "metadata": {},
   "outputs": [],
   "source": [
    "def add_sequence_field_fiftyone():\n",
    "    \"\"\" To add a specific tag to each sample in 51. \n",
    "    This field is the sequence number (its id).\n",
    "    This is used to split the dataset into training and validation sets (no overlapping)\n",
    "    \"\"\"\n",
    "    for sample in dataset:\n",
    "        #     print(sample)\n",
    "        file_name = sample.filepath.split(\"/\")[-1]\n",
    "        #     print(file_name)\n",
    "        file_name_splitted = file_name.split(\"_\")\n",
    "        sequence_ls = file_name_splitted[:-1]\n",
    "        sequence = \"\".join(map(str, sequence_ls))\n",
    "        frame = file_name_splitted[-1].split(\".\")[:-1][0]\n",
    "        sample['sequence'] = sequence\n",
    "        #     print(sample.tags)\n",
    "        sample.save()\n",
    "\n",
    "add_sequence_field_fiftyone()"
   ]
  },
  {
   "cell_type": "code",
   "execution_count": null,
   "id": "83d6f314",
   "metadata": {},
   "outputs": [],
   "source": []
  }
 ],
 "metadata": {
  "kernelspec": {
   "display_name": "Python 3 (ipykernel)",
   "language": "python",
   "name": "python3"
  },
  "language_info": {
   "codemirror_mode": {
    "name": "ipython",
    "version": 3
   },
   "file_extension": ".py",
   "mimetype": "text/x-python",
   "name": "python",
   "nbconvert_exporter": "python",
   "pygments_lexer": "ipython3",
   "version": "3.8.10"
  },
  "varInspector": {
   "cols": {
    "lenName": 16,
    "lenType": 16,
    "lenVar": 40
   },
   "kernels_config": {
    "python": {
     "delete_cmd_postfix": "",
     "delete_cmd_prefix": "del ",
     "library": "var_list.py",
     "varRefreshCmd": "print(var_dic_list())"
    },
    "r": {
     "delete_cmd_postfix": ") ",
     "delete_cmd_prefix": "rm(",
     "library": "var_list.r",
     "varRefreshCmd": "cat(var_dic_list()) "
    }
   },
   "types_to_exclude": [
    "module",
    "function",
    "builtin_function_or_method",
    "instance",
    "_Feature"
   ],
   "window_display": false
  }
 },
 "nbformat": 4,
 "nbformat_minor": 5
}
