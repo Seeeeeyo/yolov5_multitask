{
 "cells": [
  {
   "cell_type": "markdown",
   "id": "47f078e7",
   "metadata": {
    "pycharm": {
     "name": "#%% md\n"
    }
   },
   "source": [
    "# Notebook to save predictions to 51"
   ]
  },
  {
   "cell_type": "markdown",
   "id": "92bdb0cb",
   "metadata": {
    "pycharm": {
     "name": "#%% md\n"
    }
   },
   "source": [
    "## Imports"
   ]
  },
  {
   "cell_type": "code",
   "execution_count": 2,
   "id": "b1673af1",
   "metadata": {
    "pycharm": {
     "name": "#%%\n"
    }
   },
   "outputs": [],
   "source": [
    "import fiftyone as fo\n",
    "import torch\n",
    "from torch import nn, optim\n",
    "from torch.nn import functional as F\n",
    "from torch.utils.data import DataLoader\n",
    "from torchvision import datasets\n",
    "import torchvision.models as models\n",
    "import cv2\n",
    "from PIL import Image # TODO to change \n",
    "from torchvision import transforms\n",
    "from torchvision.transforms import (\n",
    "    ToTensor,\n",
    "    ToPILImage,\n",
    "    Resize\n",
    ")"
   ]
  },
  {
   "cell_type": "markdown",
   "id": "d02f2258",
   "metadata": {
    "pycharm": {
     "name": "#%% md\n"
    }
   },
   "source": [
    "## Get the dataset and filter it"
   ]
  },
  {
   "cell_type": "code",
   "execution_count": 3,
   "id": "373f5359",
   "metadata": {
    "pycharm": {
     "name": "#%%\n"
    }
   },
   "outputs": [],
   "source": [
    "dataset = fo.load_dataset(\"esmart_wip\")"
   ]
  },
  {
   "cell_type": "code",
   "execution_count": 4,
   "id": "ffe6bb71",
   "metadata": {
    "pycharm": {
     "name": "#%%\n"
    }
   },
   "outputs": [],
   "source": [
    "train_dataset_51 = dataset.match_tags(\"TRAIN_ROAD_COND\")\n",
    "val_dataset_51 = dataset.match_tags(\"VAL_ROAD_COND\")"
   ]
  },
  {
   "cell_type": "code",
   "execution_count": 5,
   "id": "5742e3b3",
   "metadata": {
    "pycharm": {
     "name": "#%%\n"
    }
   },
   "outputs": [
    {
     "data": {
      "text/html": [
       "\n",
       "        <iframe\n",
       "            width=\"100%\"\n",
       "            height=\"800\"\n",
       "            src=\"http://localhost:5151/?context=ipython&subscription=0b120d5b-2d4a-4dfa-a58a-08bfa0a05030\"\n",
       "            frameborder=\"0\"\n",
       "            allowfullscreen\n",
       "            \n",
       "        ></iframe>\n",
       "        "
      ],
      "text/plain": [
       "<IPython.lib.display.IFrame at 0x7f90204cb220>"
      ]
     },
     "metadata": {},
     "output_type": "display_data"
    },
    {
     "data": {
      "text/plain": [
       "Dataset:          esmart_wip\n",
       "Media type:       image\n",
       "Num samples:      6380\n",
       "Selected samples: 0\n",
       "Selected labels:  0\n",
       "Session URL:      http://localhost:5151/"
      ]
     },
     "execution_count": 5,
     "metadata": {},
     "output_type": "execute_result"
    }
   ],
   "source": [
    "fo.launch_app(dataset)"
   ]
  },
  {
   "cell_type": "markdown",
   "id": "e1de3777",
   "metadata": {
    "pycharm": {
     "name": "#%% md\n"
    }
   },
   "source": [
    "## Run Detect.py on the validation set"
   ]
  },
  {
   "cell_type": "code",
   "execution_count": null,
   "id": "fc9762bd",
   "metadata": {
    "pycharm": {
     "name": "#%%\n"
    }
   },
   "outputs": [],
   "source": [
    " !python detect.py \n",
    "    --weights runs/train/exp385/weights/best.pt \n",
    "    --source data/multitasks.yaml \n",
    "    --img-size 640 640 \n",
    "    --nosave \n",
    "    --save-txt \n",
    "    --fiftyone\n"
   ]
  },
  {
   "cell_type": "markdown",
   "id": "3ed5f482",
   "metadata": {
    "pycharm": {
     "name": "#%% md\n"
    }
   },
   "source": [
    "## Delete old predictions for road_condtions in order to save the new ones"
   ]
  },
  {
   "cell_type": "code",
   "execution_count": 27,
   "id": "0fbe9b3c",
   "metadata": {
    "pycharm": {
     "name": "#%%\n"
    }
   },
   "outputs": [],
   "source": [
    "for sample in val_dataset_51:\n",
    "#     print(sample)\n",
    "    try:\n",
    "        del sample[\"classif_road_cond_yolo\"]\n",
    "        del sample[\"classif_road_cond_yolo_2\"]\n",
    "        sample.save()\n",
    "    except:\n",
    "        a = 1"
   ]
  },
  {
   "cell_type": "markdown",
   "id": "e135803e",
   "metadata": {
    "pycharm": {
     "name": "#%% md\n"
    }
   },
   "source": [
    "## Save predictions to Fiftyone"
   ]
  },
  {
   "cell_type": "code",
   "execution_count": 28,
   "id": "ff0571de",
   "metadata": {
    "pycharm": {
     "name": "#%%\n"
    }
   },
   "outputs": [],
   "source": [
    "def get_prediction(path):\n",
    "    with open(path, 'r') as f:\n",
    "        lines = f.readlines()\n",
    "        condition, confidence = lines[0].split(',')[0], lines[0].split(',')[1]\n",
    "    return condition, confidence"
   ]
  },
  {
   "cell_type": "code",
   "execution_count": 29,
   "id": "a495d2e9",
   "metadata": {
    "pycharm": {
     "name": "#%%\n"
    }
   },
   "outputs": [],
   "source": [
    "directory = '/home/selim/Desktop/yolov5_multitask/runs/detect/exp5151/labels_cls'\n",
    "with fo.ProgressBar() as pb:\n",
    "    for sample in pb(val_dataset_51):\n",
    "        try:\n",
    "            img = sample.filepath.split('/')[-1]\n",
    "            if img.endswith('.jpg'):\n",
    "                img_name = img.replace('jpg','txt')\n",
    "            elif img.endswith('.png'):\n",
    "                img_name = img.replace('png','txt')\n",
    "            path = f\"{directory}/{img_name}\"\n",
    "            pred, conf = get_prediction(path)\n",
    "            sample[\"classif_road_cond_yolo\"] = fo.Classifications(classifications=[fo.Classification(label=pred, confidence=conf)])\n",
    "            sample.save()\n",
    "        except:\n",
    "            print(img_name)"
   ]
  }
 ],
 "metadata": {
  "kernelspec": {
   "display_name": "Python 3 (ipykernel)",
   "language": "python",
   "name": "python3"
  },
  "language_info": {
   "codemirror_mode": {
    "name": "ipython",
    "version": 3
   },
   "file_extension": ".py",
   "mimetype": "text/x-python",
   "name": "python",
   "nbconvert_exporter": "python",
   "pygments_lexer": "ipython3",
   "version": "3.8.10"
  },
  "varInspector": {
   "cols": {
    "lenName": 16,
    "lenType": 16,
    "lenVar": 40
   },
   "kernels_config": {
    "python": {
     "delete_cmd_postfix": "",
     "delete_cmd_prefix": "del ",
     "library": "var_list.py",
     "varRefreshCmd": "print(var_dic_list())"
    },
    "r": {
     "delete_cmd_postfix": ") ",
     "delete_cmd_prefix": "rm(",
     "library": "var_list.r",
     "varRefreshCmd": "cat(var_dic_list()) "
    }
   },
   "types_to_exclude": [
    "module",
    "function",
    "builtin_function_or_method",
    "instance",
    "_Feature"
   ],
   "window_display": false
  }
 },
 "nbformat": 4,
 "nbformat_minor": 5
}