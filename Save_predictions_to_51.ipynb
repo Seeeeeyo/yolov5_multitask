{
 "cells": [
  {
   "cell_type": "markdown",
   "id": "47f078e7",
   "metadata": {},
   "source": [
    "# Notebook to save predictions to 51"
   ]
  },
  {
   "cell_type": "markdown",
   "id": "92bdb0cb",
   "metadata": {},
   "source": [
    "## Imports"
   ]
  },
  {
   "cell_type": "code",
   "execution_count": 1,
   "id": "b1673af1",
   "metadata": {},
   "outputs": [],
   "source": [
    "import fiftyone as fo\n",
    "import torch\n",
    "from torch import nn, optim\n",
    "from torch.nn import functional as F\n",
    "from torch.utils.data import DataLoader\n",
    "from torchvision import datasets\n",
    "import torchvision.models as models\n",
    "import cv2\n",
    "from PIL import Image \n",
    "from utils.general import check_img_size\n",
    "from torchvision import transforms\n",
    "from torchvision.transforms import (\n",
    "    ToTensor,\n",
    "    ToPILImage,\n",
    "    Resize\n",
    ")\n",
    "from utils.dataloaders import IMG_FORMATS, VID_FORMATS, LoadImages, LoadScreenshots, LoadStreams\n",
    "from models.common import DetectMultiBackend\n",
    "from utils.torch_utils import select_device, smart_inference_mode\n",
    "from utils.general import (LOGGER, Profile, check_dataset, check_img_size, check_requirements, check_yaml,\n",
    "                           coco80_to_coco91_class, colorstr, increment_path, non_max_suppression, print_args,\n",
    "                           scale_boxes, xywh2xyxy, xyxy2xywh)\n",
    "%matplotlib inline"
   ]
  },
  {
   "cell_type": "markdown",
   "id": "d02f2258",
   "metadata": {},
   "source": [
    "## Get the dataset and filter it"
   ]
  },
  {
   "cell_type": "code",
   "execution_count": 90,
   "id": "373f5359",
   "metadata": {},
   "outputs": [],
   "source": [
    "dataset = fo.load_dataset(\"esmart_context\")"
   ]
  },
  {
   "cell_type": "code",
   "execution_count": 87,
   "id": "31b0be62",
   "metadata": {},
   "outputs": [
    {
     "data": {
      "text/html": [
       "\n",
       "        <iframe\n",
       "            width=\"100%\"\n",
       "            height=\"800\"\n",
       "            src=\"http://localhost:5151/?context=ipython&subscription=a8abcda4-198c-49bf-bb32-84dbcf9ff252\"\n",
       "            frameborder=\"0\"\n",
       "            allowfullscreen\n",
       "            \n",
       "        ></iframe>\n",
       "        "
      ],
      "text/plain": [
       "<IPython.lib.display.IFrame at 0x7fbe72c75790>"
      ]
     },
     "metadata": {},
     "output_type": "display_data"
    },
    {
     "data": {
      "text/plain": [
       "Dataset:          esmart_context\n",
       "Media type:       image\n",
       "Num samples:      41730\n",
       "Selected samples: 0\n",
       "Selected labels:  0\n",
       "Session URL:      http://localhost:5151/"
      ]
     },
     "execution_count": 87,
     "metadata": {},
     "output_type": "execute_result"
    }
   ],
   "source": [
    "fo.launch_app(dataset, port=5151)"
   ]
  },
  {
   "cell_type": "markdown",
   "id": "531c35cc",
   "metadata": {},
   "source": [
    "## Define the class names ( ⚠️ to the order)"
   ]
  },
  {
   "cell_type": "code",
   "execution_count": 5,
   "id": "4c81f8f2",
   "metadata": {},
   "outputs": [],
   "source": [
    "class_names = ['dry', 'snowy', 'wet']"
   ]
  },
  {
   "cell_type": "code",
   "execution_count": 6,
   "id": "2774acc6",
   "metadata": {},
   "outputs": [],
   "source": [
    "names = ['speed_limit', \"rw_tcd\", \"highway\",  \"interchange\", \"urban\", \"rural-paved\", \"rural-dirt\", \"parking\", \n",
    "         \"res1\", \"res2\"]"
   ]
  },
  {
   "cell_type": "markdown",
   "id": "aa171847",
   "metadata": {},
   "source": [
    "## Load the model "
   ]
  },
  {
   "cell_type": "code",
   "execution_count": 7,
   "id": "3b263ac5",
   "metadata": {},
   "outputs": [
    {
     "name": "stdout",
     "output_type": "stream",
     "text": [
      "Using cuda device\n"
     ]
    }
   ],
   "source": [
    "device = \"cuda\" if torch.cuda.is_available() else \"cpu\"\n",
    "print(\"Using {} device\".format(device))"
   ]
  },
  {
   "cell_type": "code",
   "execution_count": 8,
   "id": "d8af8a5d",
   "metadata": {},
   "outputs": [],
   "source": [
    "IMAGE_SIZE = (512, 512) "
   ]
  },
  {
   "cell_type": "code",
   "execution_count": 9,
   "id": "73dfab8f",
   "metadata": {},
   "outputs": [
    {
     "name": "stderr",
     "output_type": "stream",
     "text": [
      "Fusing layers... \n",
      "YOLOv5s_mlt summary: 163 layers, 7697578 parameters, 0 gradients, 16.4 GFLOPs\n"
     ]
    },
    {
     "data": {
      "text/plain": [
       "DetectMultiBackend(\n",
       "  (model): HybridModel(\n",
       "    (model): Sequential(\n",
       "      (0): Conv(\n",
       "        (conv): Conv2d(3, 32, kernel_size=(6, 6), stride=(2, 2), padding=(2, 2))\n",
       "        (act): SiLU(inplace=True)\n",
       "      )\n",
       "      (1): Conv(\n",
       "        (conv): Conv2d(32, 64, kernel_size=(3, 3), stride=(2, 2), padding=(1, 1))\n",
       "        (act): SiLU(inplace=True)\n",
       "      )\n",
       "      (2): C3(\n",
       "        (cv1): Conv(\n",
       "          (conv): Conv2d(64, 32, kernel_size=(1, 1), stride=(1, 1))\n",
       "          (act): SiLU(inplace=True)\n",
       "        )\n",
       "        (cv2): Conv(\n",
       "          (conv): Conv2d(64, 32, kernel_size=(1, 1), stride=(1, 1))\n",
       "          (act): SiLU(inplace=True)\n",
       "        )\n",
       "        (cv3): Conv(\n",
       "          (conv): Conv2d(64, 64, kernel_size=(1, 1), stride=(1, 1))\n",
       "          (act): SiLU(inplace=True)\n",
       "        )\n",
       "        (m): Sequential(\n",
       "          (0): Bottleneck(\n",
       "            (cv1): Conv(\n",
       "              (conv): Conv2d(32, 32, kernel_size=(1, 1), stride=(1, 1))\n",
       "              (act): SiLU(inplace=True)\n",
       "            )\n",
       "            (cv2): Conv(\n",
       "              (conv): Conv2d(32, 32, kernel_size=(3, 3), stride=(1, 1), padding=(1, 1))\n",
       "              (act): SiLU(inplace=True)\n",
       "            )\n",
       "          )\n",
       "        )\n",
       "      )\n",
       "      (3): Conv(\n",
       "        (conv): Conv2d(64, 128, kernel_size=(3, 3), stride=(2, 2), padding=(1, 1))\n",
       "        (act): SiLU(inplace=True)\n",
       "      )\n",
       "      (4): C3(\n",
       "        (cv1): Conv(\n",
       "          (conv): Conv2d(128, 64, kernel_size=(1, 1), stride=(1, 1))\n",
       "          (act): SiLU(inplace=True)\n",
       "        )\n",
       "        (cv2): Conv(\n",
       "          (conv): Conv2d(128, 64, kernel_size=(1, 1), stride=(1, 1))\n",
       "          (act): SiLU(inplace=True)\n",
       "        )\n",
       "        (cv3): Conv(\n",
       "          (conv): Conv2d(128, 128, kernel_size=(1, 1), stride=(1, 1))\n",
       "          (act): SiLU(inplace=True)\n",
       "        )\n",
       "        (m): Sequential(\n",
       "          (0): Bottleneck(\n",
       "            (cv1): Conv(\n",
       "              (conv): Conv2d(64, 64, kernel_size=(1, 1), stride=(1, 1))\n",
       "              (act): SiLU(inplace=True)\n",
       "            )\n",
       "            (cv2): Conv(\n",
       "              (conv): Conv2d(64, 64, kernel_size=(3, 3), stride=(1, 1), padding=(1, 1))\n",
       "              (act): SiLU(inplace=True)\n",
       "            )\n",
       "          )\n",
       "          (1): Bottleneck(\n",
       "            (cv1): Conv(\n",
       "              (conv): Conv2d(64, 64, kernel_size=(1, 1), stride=(1, 1))\n",
       "              (act): SiLU(inplace=True)\n",
       "            )\n",
       "            (cv2): Conv(\n",
       "              (conv): Conv2d(64, 64, kernel_size=(3, 3), stride=(1, 1), padding=(1, 1))\n",
       "              (act): SiLU(inplace=True)\n",
       "            )\n",
       "          )\n",
       "        )\n",
       "      )\n",
       "      (5): Conv(\n",
       "        (conv): Conv2d(128, 256, kernel_size=(3, 3), stride=(2, 2), padding=(1, 1))\n",
       "        (act): SiLU(inplace=True)\n",
       "      )\n",
       "      (6): C3(\n",
       "        (cv1): Conv(\n",
       "          (conv): Conv2d(256, 128, kernel_size=(1, 1), stride=(1, 1))\n",
       "          (act): SiLU(inplace=True)\n",
       "        )\n",
       "        (cv2): Conv(\n",
       "          (conv): Conv2d(256, 128, kernel_size=(1, 1), stride=(1, 1))\n",
       "          (act): SiLU(inplace=True)\n",
       "        )\n",
       "        (cv3): Conv(\n",
       "          (conv): Conv2d(256, 256, kernel_size=(1, 1), stride=(1, 1))\n",
       "          (act): SiLU(inplace=True)\n",
       "        )\n",
       "        (m): Sequential(\n",
       "          (0): Bottleneck(\n",
       "            (cv1): Conv(\n",
       "              (conv): Conv2d(128, 128, kernel_size=(1, 1), stride=(1, 1))\n",
       "              (act): SiLU(inplace=True)\n",
       "            )\n",
       "            (cv2): Conv(\n",
       "              (conv): Conv2d(128, 128, kernel_size=(3, 3), stride=(1, 1), padding=(1, 1))\n",
       "              (act): SiLU(inplace=True)\n",
       "            )\n",
       "          )\n",
       "          (1): Bottleneck(\n",
       "            (cv1): Conv(\n",
       "              (conv): Conv2d(128, 128, kernel_size=(1, 1), stride=(1, 1))\n",
       "              (act): SiLU(inplace=True)\n",
       "            )\n",
       "            (cv2): Conv(\n",
       "              (conv): Conv2d(128, 128, kernel_size=(3, 3), stride=(1, 1), padding=(1, 1))\n",
       "              (act): SiLU(inplace=True)\n",
       "            )\n",
       "          )\n",
       "          (2): Bottleneck(\n",
       "            (cv1): Conv(\n",
       "              (conv): Conv2d(128, 128, kernel_size=(1, 1), stride=(1, 1))\n",
       "              (act): SiLU(inplace=True)\n",
       "            )\n",
       "            (cv2): Conv(\n",
       "              (conv): Conv2d(128, 128, kernel_size=(3, 3), stride=(1, 1), padding=(1, 1))\n",
       "              (act): SiLU(inplace=True)\n",
       "            )\n",
       "          )\n",
       "        )\n",
       "      )\n",
       "      (7): Conv(\n",
       "        (conv): Conv2d(256, 512, kernel_size=(3, 3), stride=(2, 2), padding=(1, 1))\n",
       "        (act): SiLU(inplace=True)\n",
       "      )\n",
       "      (8): C3(\n",
       "        (cv1): Conv(\n",
       "          (conv): Conv2d(512, 256, kernel_size=(1, 1), stride=(1, 1))\n",
       "          (act): SiLU(inplace=True)\n",
       "        )\n",
       "        (cv2): Conv(\n",
       "          (conv): Conv2d(512, 256, kernel_size=(1, 1), stride=(1, 1))\n",
       "          (act): SiLU(inplace=True)\n",
       "        )\n",
       "        (cv3): Conv(\n",
       "          (conv): Conv2d(512, 512, kernel_size=(1, 1), stride=(1, 1))\n",
       "          (act): SiLU(inplace=True)\n",
       "        )\n",
       "        (m): Sequential(\n",
       "          (0): Bottleneck(\n",
       "            (cv1): Conv(\n",
       "              (conv): Conv2d(256, 256, kernel_size=(1, 1), stride=(1, 1))\n",
       "              (act): SiLU(inplace=True)\n",
       "            )\n",
       "            (cv2): Conv(\n",
       "              (conv): Conv2d(256, 256, kernel_size=(3, 3), stride=(1, 1), padding=(1, 1))\n",
       "              (act): SiLU(inplace=True)\n",
       "            )\n",
       "          )\n",
       "        )\n",
       "      )\n",
       "      (9): SPPF(\n",
       "        (cv1): Conv(\n",
       "          (conv): Conv2d(512, 256, kernel_size=(1, 1), stride=(1, 1))\n",
       "          (act): SiLU(inplace=True)\n",
       "        )\n",
       "        (cv2): Conv(\n",
       "          (conv): Conv2d(1024, 512, kernel_size=(1, 1), stride=(1, 1))\n",
       "          (act): SiLU(inplace=True)\n",
       "        )\n",
       "        (m): MaxPool2d(kernel_size=5, stride=1, padding=2, dilation=1, ceil_mode=False)\n",
       "      )\n",
       "      (10): Conv(\n",
       "        (conv): Conv2d(512, 256, kernel_size=(1, 1), stride=(1, 1))\n",
       "        (act): SiLU(inplace=True)\n",
       "      )\n",
       "      (11): Upsample(scale_factor=2.0, mode=nearest)\n",
       "      (12): Concat()\n",
       "      (13): C3(\n",
       "        (cv1): Conv(\n",
       "          (conv): Conv2d(512, 128, kernel_size=(1, 1), stride=(1, 1))\n",
       "          (act): SiLU(inplace=True)\n",
       "        )\n",
       "        (cv2): Conv(\n",
       "          (conv): Conv2d(512, 128, kernel_size=(1, 1), stride=(1, 1))\n",
       "          (act): SiLU(inplace=True)\n",
       "        )\n",
       "        (cv3): Conv(\n",
       "          (conv): Conv2d(256, 256, kernel_size=(1, 1), stride=(1, 1))\n",
       "          (act): SiLU(inplace=True)\n",
       "        )\n",
       "        (m): Sequential(\n",
       "          (0): Bottleneck(\n",
       "            (cv1): Conv(\n",
       "              (conv): Conv2d(128, 128, kernel_size=(1, 1), stride=(1, 1))\n",
       "              (act): SiLU(inplace=True)\n",
       "            )\n",
       "            (cv2): Conv(\n",
       "              (conv): Conv2d(128, 128, kernel_size=(3, 3), stride=(1, 1), padding=(1, 1))\n",
       "              (act): SiLU(inplace=True)\n",
       "            )\n",
       "          )\n",
       "        )\n",
       "      )\n",
       "      (14): Conv(\n",
       "        (conv): Conv2d(256, 128, kernel_size=(1, 1), stride=(1, 1))\n",
       "        (act): SiLU(inplace=True)\n",
       "      )\n",
       "      (15): Upsample(scale_factor=2.0, mode=nearest)\n",
       "      (16): Concat()\n",
       "      (17): C3(\n",
       "        (cv1): Conv(\n",
       "          (conv): Conv2d(256, 64, kernel_size=(1, 1), stride=(1, 1))\n",
       "          (act): SiLU(inplace=True)\n",
       "        )\n",
       "        (cv2): Conv(\n",
       "          (conv): Conv2d(256, 64, kernel_size=(1, 1), stride=(1, 1))\n",
       "          (act): SiLU(inplace=True)\n",
       "        )\n",
       "        (cv3): Conv(\n",
       "          (conv): Conv2d(128, 128, kernel_size=(1, 1), stride=(1, 1))\n",
       "          (act): SiLU(inplace=True)\n",
       "        )\n",
       "        (m): Sequential(\n",
       "          (0): Bottleneck(\n",
       "            (cv1): Conv(\n",
       "              (conv): Conv2d(64, 64, kernel_size=(1, 1), stride=(1, 1))\n",
       "              (act): SiLU(inplace=True)\n",
       "            )\n",
       "            (cv2): Conv(\n",
       "              (conv): Conv2d(64, 64, kernel_size=(3, 3), stride=(1, 1), padding=(1, 1))\n",
       "              (act): SiLU(inplace=True)\n",
       "            )\n",
       "          )\n",
       "        )\n",
       "      )\n",
       "      (18): Conv(\n",
       "        (conv): Conv2d(128, 128, kernel_size=(3, 3), stride=(2, 2), padding=(1, 1))\n",
       "        (act): SiLU(inplace=True)\n",
       "      )\n",
       "      (19): Concat()\n",
       "      (20): C3(\n",
       "        (cv1): Conv(\n",
       "          (conv): Conv2d(256, 128, kernel_size=(1, 1), stride=(1, 1))\n",
       "          (act): SiLU(inplace=True)\n",
       "        )\n",
       "        (cv2): Conv(\n",
       "          (conv): Conv2d(256, 128, kernel_size=(1, 1), stride=(1, 1))\n",
       "          (act): SiLU(inplace=True)\n",
       "        )\n",
       "        (cv3): Conv(\n",
       "          (conv): Conv2d(256, 256, kernel_size=(1, 1), stride=(1, 1))\n",
       "          (act): SiLU(inplace=True)\n",
       "        )\n",
       "        (m): Sequential(\n",
       "          (0): Bottleneck(\n",
       "            (cv1): Conv(\n",
       "              (conv): Conv2d(128, 128, kernel_size=(1, 1), stride=(1, 1))\n",
       "              (act): SiLU(inplace=True)\n",
       "            )\n",
       "            (cv2): Conv(\n",
       "              (conv): Conv2d(128, 128, kernel_size=(3, 3), stride=(1, 1), padding=(1, 1))\n",
       "              (act): SiLU(inplace=True)\n",
       "            )\n",
       "          )\n",
       "        )\n",
       "      )\n",
       "      (21): Conv(\n",
       "        (conv): Conv2d(256, 256, kernel_size=(3, 3), stride=(2, 2), padding=(1, 1))\n",
       "        (act): SiLU(inplace=True)\n",
       "      )\n",
       "      (22): Concat()\n",
       "      (23): C3(\n",
       "        (cv1): Conv(\n",
       "          (conv): Conv2d(512, 256, kernel_size=(1, 1), stride=(1, 1))\n",
       "          (act): SiLU(inplace=True)\n",
       "        )\n",
       "        (cv2): Conv(\n",
       "          (conv): Conv2d(512, 256, kernel_size=(1, 1), stride=(1, 1))\n",
       "          (act): SiLU(inplace=True)\n",
       "        )\n",
       "        (cv3): Conv(\n",
       "          (conv): Conv2d(512, 512, kernel_size=(1, 1), stride=(1, 1))\n",
       "          (act): SiLU(inplace=True)\n",
       "        )\n",
       "        (m): Sequential(\n",
       "          (0): Bottleneck(\n",
       "            (cv1): Conv(\n",
       "              (conv): Conv2d(256, 256, kernel_size=(1, 1), stride=(1, 1))\n",
       "              (act): SiLU(inplace=True)\n",
       "            )\n",
       "            (cv2): Conv(\n",
       "              (conv): Conv2d(256, 256, kernel_size=(3, 3), stride=(1, 1), padding=(1, 1))\n",
       "              (act): SiLU(inplace=True)\n",
       "            )\n",
       "          )\n",
       "        )\n",
       "      )\n",
       "      (24): Detect(\n",
       "        (m): ModuleList(\n",
       "          (0): Conv2d(128, 45, kernel_size=(1, 1), stride=(1, 1))\n",
       "          (1): Conv2d(256, 45, kernel_size=(1, 1), stride=(1, 1))\n",
       "          (2): Conv2d(512, 45, kernel_size=(1, 1), stride=(1, 1))\n",
       "        )\n",
       "      )\n",
       "      (25): Classify(\n",
       "        (conv): Conv(\n",
       "          (conv): Conv2d(512, 1280, kernel_size=(1, 1), stride=(1, 1))\n",
       "          (act): SiLU(inplace=True)\n",
       "        )\n",
       "        (pool): AdaptiveAvgPool2d(output_size=1)\n",
       "        (drop): Dropout(p=0.0, inplace=True)\n",
       "        (linear): Linear(in_features=1280, out_features=3, bias=True)\n",
       "      )\n",
       "    )\n",
       "  )\n",
       ")"
      ]
     },
     "execution_count": 9,
     "metadata": {},
     "output_type": "execute_result"
    }
   ],
   "source": [
    "WEIGHTS_PATH = \"runs/train-mlt/exp226/weights/last.pt\"\n",
    "\n",
    "model = DetectMultiBackend(WEIGHTS_PATH, dnn=False, fp16=False)\n",
    "stride, pt, jit, engine = model.stride, model.pt, model.jit, model.engine\n",
    "imgsz = check_img_size(IMAGE_SIZE, s=stride)  # check image size\n",
    "half = model.fp16  # FP16 supported on limited backends with CUDA\n",
    "model = model.to(device)\n",
    "model.eval()"
   ]
  },
  {
   "cell_type": "code",
   "execution_count": 10,
   "id": "62108193",
   "metadata": {},
   "outputs": [
    {
     "data": {
      "text/plain": [
       "[512, 512]"
      ]
     },
     "execution_count": 10,
     "metadata": {},
     "output_type": "execute_result"
    }
   ],
   "source": [
    "imgsz"
   ]
  },
  {
   "cell_type": "markdown",
   "id": "f693cfea",
   "metadata": {},
   "source": [
    "## Save predictions to 51"
   ]
  },
  {
   "cell_type": "code",
   "execution_count": 11,
   "id": "7a127faa",
   "metadata": {},
   "outputs": [],
   "source": [
    "INFER_FIFTY_ONE = True # for \"security\""
   ]
  },
  {
   "cell_type": "code",
   "execution_count": 24,
   "id": "21c005f8",
   "metadata": {},
   "outputs": [
    {
     "data": {
      "text/plain": [
       "False"
      ]
     },
     "execution_count": 24,
     "metadata": {},
     "output_type": "execute_result"
    }
   ],
   "source": [
    "model.fp16\n",
    "#val_transform = transforms.Compose([Resize(IMAGE_SIZE), ToTensor()])"
   ]
  },
  {
   "cell_type": "code",
   "execution_count": null,
   "id": "5c42313b",
   "metadata": {},
   "outputs": [],
   "source": [
    "# Delete old predictions\n",
    "dataset.delete_sample_field(\"detection_yolo-mlt\")"
   ]
  },
  {
   "cell_type": "code",
   "execution_count": 88,
   "id": "fea56703",
   "metadata": {},
   "outputs": [
    {
     "name": "stdout",
     "output_type": "stream",
     "text": [
      " 100% |█████████████| 41730/41730 [6.3m elapsed, 0s remaining, 26.9 samples/s]       \n"
     ]
    },
    {
     "name": "stderr",
     "output_type": "stream",
     "text": [
      " 100% |█████████████| 41730/41730 [6.3m elapsed, 0s remaining, 26.9 samples/s]       \n"
     ]
    }
   ],
   "source": [
    "temperature = 1\n",
    "\n",
    "if INFER_FIFTY_ONE:\n",
    "    with fo.ProgressBar() as pb:\n",
    "        for sample in pb(dataset):\n",
    "            if 'VAL_RC_SEQ_2' in sample.tags:\n",
    "\n",
    "                # image preprocessing\n",
    "                bs = 1  # batch_size\n",
    "                det = None\n",
    "                dataset = LoadImages(sample[\"filepath\"], img_size=imgsz, stride=32,\n",
    "                                        vid_stride=1)\n",
    "\n",
    "                for path, im, im0s, vid_cap, s in dataset:\n",
    "                    #print(im.shape)\n",
    "                    #print(im0s.shape)\n",
    "\n",
    "                    im = torch.from_numpy(im).to(device)\n",
    "                    im = im.half() if model.fp16 else im.float()  # uint8 to fp16/32\n",
    "                    im /= 255  # 0 - 255 to 0.0 - 1.0\n",
    "                    if len(im.shape) == 3:\n",
    "                        im = im[None]  # expand for batch dim\\\n",
    "                    #print(path)\n",
    "                    #print(\"im shape\", im.shape)\n",
    "                    # inference\n",
    "                    #model.warmup(imgsz=(1 if pt or model.triton else bs, 3, *IMAGE_SIZE))  # warmup\n",
    "                    preds = model(im, augment=False, visualize=False)\n",
    "                    (pred, cls_pred) = preds\n",
    "                    pred = non_max_suppression(pred, conf_thres=0.25, iou_thres=0.45,\n",
    "                                               agnostic=False, max_det=1000)\n",
    "                    #print(pred)\n",
    "\n",
    "                    # classification \n",
    "                    cls_pred = cls_pred / temperature  # temperature scaling\n",
    "                    #print(\"cls_pred\", cls_pred)\n",
    "                    y_softmaxed = F.softmax(cls_pred, dim=1)\n",
    "                    #print(y_softmaxed))\n",
    "                    conf, class_num = torch.max(y_softmaxed, 1)\n",
    "                    category = class_names[class_num]\n",
    "                    confidence = round(float(conf[0]),3)\n",
    "                    \n",
    "                    # detection\n",
    "                    detections = []\n",
    "                    for si, det in enumerate(pred):\n",
    "       \n",
    "                        gn = torch.tensor(im0s.shape)[[1, 0, 1, 0]]  # normalization gain whwh\n",
    "                        if len(det):\n",
    "                            # Rescale boxes from img_size to im0 size\n",
    "                            det[:, :4] = scale_boxes(im.shape[2:], det[:, :4], im0s.shape).round()\n",
    "\n",
    "                        for *xyxy, conf, cls in reversed(det):\n",
    "                            #print(\"xyxy\", xyxy)\n",
    "                            xywh = (xyxy2xywh(torch.tensor(xyxy).view(1, 4)) / gn).view(-1).tolist()  # normalized xywh\n",
    "                            line = (cls, *xywh, conf)\n",
    "                            #print(\"line\", line)\n",
    "                            x, y, w, h = xywh\n",
    "                            x = x -w/2\n",
    "                            y = y -h/2\n",
    "                            category_det = names[int(cls.item())]\n",
    "                            detections.append(\n",
    "                                fo.Detection(\n",
    "                                    label=category_det,\n",
    "                                    bounding_box=[x, y, w, h],\n",
    "                                    confidence=conf\n",
    "                                )\n",
    "                            )\n",
    "                sample[\"detections_yolo-mlt\"] = fo.Detections(detections=detections)\n",
    "                sample[\"classification_yolo-mlt\"] = fo.Classifications(\n",
    "                    classifications=[fo.Classification(label=category,confidence=confidence)])\n",
    "                sample.save()"
   ]
  },
  {
   "cell_type": "markdown",
   "id": "8d43d7d5",
   "metadata": {},
   "source": [
    "# mAP evaluation between the ground truth and the detection."
   ]
  },
  {
   "cell_type": "code",
   "execution_count": 91,
   "id": "fed9ba30",
   "metadata": {},
   "outputs": [],
   "source": [
    "validation = dataset.match_tags(\"VAL_RC_SEQ_2\")"
   ]
  },
  {
   "cell_type": "code",
   "execution_count": 82,
   "id": "f657e094",
   "metadata": {},
   "outputs": [
    {
     "name": "stdout",
     "output_type": "stream",
     "text": [
      "Evaluating detections...\n"
     ]
    },
    {
     "name": "stderr",
     "output_type": "stream",
     "text": [
      "Evaluating detections...\n"
     ]
    },
    {
     "name": "stdout",
     "output_type": "stream",
     "text": [
      " 100% |█████████████████| 518/518 [16.3s elapsed, 0s remaining, 31.5 samples/s]      \n"
     ]
    },
    {
     "name": "stderr",
     "output_type": "stream",
     "text": [
      " 100% |█████████████████| 518/518 [16.3s elapsed, 0s remaining, 31.5 samples/s]      \n"
     ]
    },
    {
     "name": "stdout",
     "output_type": "stream",
     "text": [
      "Performing IoU sweep...\n"
     ]
    },
    {
     "name": "stderr",
     "output_type": "stream",
     "text": [
      "Performing IoU sweep...\n"
     ]
    },
    {
     "name": "stdout",
     "output_type": "stream",
     "text": [
      " 100% |█████████████████| 518/518 [2.1s elapsed, 0s remaining, 280.1 samples/s]      \n"
     ]
    },
    {
     "name": "stderr",
     "output_type": "stream",
     "text": [
      " 100% |█████████████████| 518/518 [2.1s elapsed, 0s remaining, 280.1 samples/s]      \n"
     ]
    },
    {
     "name": "stdout",
     "output_type": "stream",
     "text": [
      "              precision    recall  f1-score   support\n",
      "\n",
      "roadwork_tcd       0.00      0.00      0.00       212\n",
      "       lanes       0.00      0.00      0.00       481\n",
      " speed_limit       0.92      0.89      0.91       630\n",
      "\n",
      "   micro avg       0.92      0.43      0.58      1323\n",
      "   macro avg       0.31      0.30      0.30      1323\n",
      "weighted avg       0.44      0.43      0.43      1323\n",
      "\n"
     ]
    }
   ],
   "source": [
    "results = validation.evaluate_detections(\n",
    "    \"detections_yolo-mlt\",\n",
    "    gt_field=\"ground_truth\",\n",
    "    eval_key=\"eval\",\n",
    "    compute_mAP=True,\n",
    ")\n",
    "# Get the 10 most common classes in the dataset\n",
    "counts = dataset.count_values(\"ground_truth.detections.label\")\n",
    "classes_top10 = sorted(counts, key=counts.get, reverse=True)[:10]\n",
    "\n",
    "# Print a classification report for the top-10 classes\n",
    "results.print_report(classes=classes_top10)"
   ]
  },
  {
   "cell_type": "markdown",
   "id": "941b882c",
   "metadata": {},
   "source": [
    "TODO: investigate why it's returning 0 for some classes"
   ]
  },
  {
   "cell_type": "code",
   "execution_count": 83,
   "id": "347b021d",
   "metadata": {},
   "outputs": [
    {
     "name": "stdout",
     "output_type": "stream",
     "text": [
      "0.20475195405620036\n"
     ]
    }
   ],
   "source": [
    "print(results.mAP())"
   ]
  }
 ],
 "metadata": {
  "kernelspec": {
   "display_name": "Python 3 (ipykernel)",
   "language": "python",
   "name": "python3"
  },
  "language_info": {
   "codemirror_mode": {
    "name": "ipython",
    "version": 3
   },
   "file_extension": ".py",
   "mimetype": "text/x-python",
   "name": "python",
   "nbconvert_exporter": "python",
   "pygments_lexer": "ipython3",
   "version": "3.8.10"
  },
  "varInspector": {
   "cols": {
    "lenName": 16,
    "lenType": 16,
    "lenVar": 40
   },
   "kernels_config": {
    "python": {
     "delete_cmd_postfix": "",
     "delete_cmd_prefix": "del ",
     "library": "var_list.py",
     "varRefreshCmd": "print(var_dic_list())"
    },
    "r": {
     "delete_cmd_postfix": ") ",
     "delete_cmd_prefix": "rm(",
     "library": "var_list.r",
     "varRefreshCmd": "cat(var_dic_list()) "
    }
   },
   "types_to_exclude": [
    "module",
    "function",
    "builtin_function_or_method",
    "instance",
    "_Feature"
   ],
   "window_display": false
  }
 },
 "nbformat": 4,
 "nbformat_minor": 5
}
