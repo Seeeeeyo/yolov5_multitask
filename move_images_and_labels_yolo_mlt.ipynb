{
 "cells": [
  {
   "cell_type": "code",
   "execution_count": 3,
   "metadata": {
    "collapsed": true,
    "pycharm": {
     "name": "#%%\n"
    }
   },
   "outputs": [],
   "source": [
    "import os\n",
    "import shutil\n",
    "import pandas as pd"
   ]
  },
  {
   "cell_type": "code",
   "execution_count": 6,
   "metadata": {
    "pycharm": {
     "name": "#%%\n"
    }
   },
   "outputs": [],
   "source": [
    "path = '/home/selim/Desktop/yolov5_multitask/data/hybrid'\n",
    "img_folders = [f\"{path}/train/images/\", f\"{path}/val/images/\"]\n",
    "label_folders = [f\"{path}/train/labels/\", f\"{path}/val/labels/\"]"
   ]
  },
  {
   "cell_type": "code",
   "execution_count": 14,
   "metadata": {
    "pycharm": {
     "name": "#%%\n"
    }
   },
   "outputs": [
    {
     "data": {
      "text/html": [
       "<div>\n",
       "<style scoped>\n",
       "    .dataframe tbody tr th:only-of-type {\n",
       "        vertical-align: middle;\n",
       "    }\n",
       "\n",
       "    .dataframe tbody tr th {\n",
       "        vertical-align: top;\n",
       "    }\n",
       "\n",
       "    .dataframe thead th {\n",
       "        text-align: right;\n",
       "    }\n",
       "</style>\n",
       "<table border=\"1\" class=\"dataframe\">\n",
       "  <thead>\n",
       "    <tr style=\"text-align: right;\">\n",
       "      <th></th>\n",
       "      <th>filename</th>\n",
       "      <th>road_condition</th>\n",
       "      <th>detect</th>\n",
       "    </tr>\n",
       "  </thead>\n",
       "  <tbody>\n",
       "    <tr>\n",
       "      <th>0</th>\n",
       "      <td>run_11_1065.jpg</td>\n",
       "      <td>0</td>\n",
       "      <td>1</td>\n",
       "    </tr>\n",
       "    <tr>\n",
       "      <th>1</th>\n",
       "      <td>run_11_1066.jpg</td>\n",
       "      <td>0</td>\n",
       "      <td>1</td>\n",
       "    </tr>\n",
       "    <tr>\n",
       "      <th>2</th>\n",
       "      <td>run_11_1068.jpg</td>\n",
       "      <td>0</td>\n",
       "      <td>1</td>\n",
       "    </tr>\n",
       "    <tr>\n",
       "      <th>3</th>\n",
       "      <td>run_11_1069.jpg</td>\n",
       "      <td>0</td>\n",
       "      <td>1</td>\n",
       "    </tr>\n",
       "    <tr>\n",
       "      <th>4</th>\n",
       "      <td>run_11_1156.jpg</td>\n",
       "      <td>0</td>\n",
       "      <td>1</td>\n",
       "    </tr>\n",
       "    <tr>\n",
       "      <th>...</th>\n",
       "      <td>...</td>\n",
       "      <td>...</td>\n",
       "      <td>...</td>\n",
       "    </tr>\n",
       "    <tr>\n",
       "      <th>513</th>\n",
       "      <td>Log-20220120-164410 Data Log_13799.jpg</td>\n",
       "      <td>2</td>\n",
       "      <td>1</td>\n",
       "    </tr>\n",
       "    <tr>\n",
       "      <th>514</th>\n",
       "      <td>Log-20220120-164410 Data Log_13841.jpg</td>\n",
       "      <td>2</td>\n",
       "      <td>1</td>\n",
       "    </tr>\n",
       "    <tr>\n",
       "      <th>515</th>\n",
       "      <td>Log-20220120-164410 Data Log_14933.jpg</td>\n",
       "      <td>0</td>\n",
       "      <td>1</td>\n",
       "    </tr>\n",
       "    <tr>\n",
       "      <th>516</th>\n",
       "      <td>Log-20220120-164410 Data Log_14996.jpg</td>\n",
       "      <td>0</td>\n",
       "      <td>1</td>\n",
       "    </tr>\n",
       "    <tr>\n",
       "      <th>517</th>\n",
       "      <td>Log-20220120-164410 Data Log_15689.jpg</td>\n",
       "      <td>1</td>\n",
       "      <td>1</td>\n",
       "    </tr>\n",
       "  </tbody>\n",
       "</table>\n",
       "<p>518 rows × 3 columns</p>\n",
       "</div>"
      ],
      "text/plain": [
       "                                   filename  road_condition  detect\n",
       "0                           run_11_1065.jpg               0       1\n",
       "1                           run_11_1066.jpg               0       1\n",
       "2                           run_11_1068.jpg               0       1\n",
       "3                           run_11_1069.jpg               0       1\n",
       "4                           run_11_1156.jpg               0       1\n",
       "..                                      ...             ...     ...\n",
       "513  Log-20220120-164410 Data Log_13799.jpg               2       1\n",
       "514  Log-20220120-164410 Data Log_13841.jpg               2       1\n",
       "515  Log-20220120-164410 Data Log_14933.jpg               0       1\n",
       "516  Log-20220120-164410 Data Log_14996.jpg               0       1\n",
       "517  Log-20220120-164410 Data Log_15689.jpg               1       1\n",
       "\n",
       "[518 rows x 3 columns]"
      ]
     },
     "execution_count": 14,
     "metadata": {},
     "output_type": "execute_result"
    }
   ],
   "source": [
    "wip_val = pd.read_csv(f\"{path}/wip_val_labels.csv\")\n",
    "wip_val"
   ]
  },
  {
   "cell_type": "code",
   "execution_count": 15,
   "metadata": {
    "pycharm": {
     "name": "#%%\n"
    }
   },
   "outputs": [
    {
     "name": "stdout",
     "output_type": "stream",
     "text": [
      "number of img copied:  0\n",
      "number of labels copied:  516\n",
      "number of missing labels:  0\n",
      "number of missing images:  0\n"
     ]
    }
   ],
   "source": [
    "files = []\n",
    "src_path = '/home/selim/Desktop/esmart-ai-datasets/data/esmart_wip/'\n",
    "destination = '/home/selim/Desktop/yolov5_multitask/data/hybrid/val/'\n",
    "\n",
    "count_img_copied = 0\n",
    "count_labels_copied = 0\n",
    "count_missing_labels = 0\n",
    "count_missing_img = 0\n",
    "for filename in wip_val['filename']:\n",
    "# for filename in os.listdir(f'{img_folder}'):\n",
    "    if os.path.isfile(f\"{src_path}{filename}\"):\n",
    "        # check if the file already exists\n",
    "        if not os.path.isfile(f\"{destination}images/{filename}\"):\n",
    "            # copy the image\n",
    "            shutil.copy(f\"{src_path}{filename}\", f\"{destination}images/{filename}\")\n",
    "            count_img_copied += 1\n",
    "            # copy the detection file if there is one\n",
    "            if os.path.isfile(f\"{src_path}{filename[:-4]}.txt\"):\n",
    "                shutil.copy(f\"{src_path}{filename[:-4]}.txt\", f\"{destination}labels/{filename[:-4]}.txt\")\n",
    "                count_labels_copied += 1\n",
    "            else:\n",
    "                # create the file if it doesn't exist\n",
    "                f = open(f\"{destination}labels/{filename[:-4]}.txt\", 'w')\n",
    "                f.write('')\n",
    "                files.append(filename)\n",
    "                count_missing_labels += 1\n",
    "                f.close()\n",
    "    else:\n",
    "        count_missing_img += 1\n",
    "        continue\n",
    "print(\"number of img copied: \", count_img_copied)\n",
    "print(\"number of labels copied: \", count_labels_copied)\n",
    "print(\"number of missing labels: \", count_missing_labels)\n",
    "print(\"number of missing images: \", count_missing_img)"
   ]
  },
  {
   "cell_type": "code",
   "execution_count": null,
   "metadata": {
    "pycharm": {
     "name": "#%%\n"
    }
   },
   "outputs": [],
   "source": []
  },
  {
   "cell_type": "code",
   "execution_count": null,
   "metadata": {
    "pycharm": {
     "name": "#%%\n"
    }
   },
   "outputs": [],
   "source": []
  },
  {
   "cell_type": "code",
   "execution_count": 8,
   "metadata": {
    "pycharm": {
     "name": "#%%\n"
    }
   },
   "outputs": [
    {
     "name": "stdout",
     "output_type": "stream",
     "text": [
      "/home/selim/Desktop/yolov5_multitask/data/hybrid/train/images/ ------- /home/selim/Desktop/yolov5_multitask/data/hybrid/train/labels/\n",
      "number of files created:  0\n",
      "/home/selim/Desktop/yolov5_multitask/data/hybrid/val/images/ ------- /home/selim/Desktop/yolov5_multitask/data/hybrid/val/labels/\n",
      "number of files created:  7563\n"
     ]
    }
   ],
   "source": [
    "files = []\n",
    "for (img_folder, label_folder) in iter(zip(img_folders, label_folders)):\n",
    "    print(img_folder, \"-------\", label_folder)\n",
    "    count = 0\n",
    "    for filename in os.listdir(img_folder):\n",
    "    # for filename in os.listdir(f'{img_folder}'):\n",
    "        if filename.endswith(\".jpg\"):\n",
    "            # check if the file already exists\n",
    "            if not os.path.isfile(label_folder + filename[:-4] + '.txt'):\n",
    "                # create the file if it doesn't exist\n",
    "                f = open(label_folder + filename[:-4] + '.txt', 'w')\n",
    "                f.write('')\n",
    "                files.append(filename)\n",
    "                count += 1\n",
    "                f.close()\n",
    "        else:\n",
    "            continue\n",
    "    print(\"number of files created: \", count)"
   ]
  },
  {
   "cell_type": "code",
   "execution_count": null,
   "metadata": {
    "pycharm": {
     "name": "#%%\n"
    }
   },
   "outputs": [],
   "source": []
  }
 ],
 "metadata": {
  "kernelspec": {
   "display_name": "Python 3 (ipykernel)",
   "language": "python",
   "name": "python3"
  },
  "language_info": {
   "codemirror_mode": {
    "name": "ipython",
    "version": 3
   },
   "file_extension": ".py",
   "mimetype": "text/x-python",
   "name": "python",
   "nbconvert_exporter": "python",
   "pygments_lexer": "ipython3",
   "version": "3.8.10"
  },
  "varInspector": {
   "cols": {
    "lenName": 16,
    "lenType": 16,
    "lenVar": 40
   },
   "kernels_config": {
    "python": {
     "delete_cmd_postfix": "",
     "delete_cmd_prefix": "del ",
     "library": "var_list.py",
     "varRefreshCmd": "print(var_dic_list())"
    },
    "r": {
     "delete_cmd_postfix": ") ",
     "delete_cmd_prefix": "rm(",
     "library": "var_list.r",
     "varRefreshCmd": "cat(var_dic_list()) "
    }
   },
   "types_to_exclude": [
    "module",
    "function",
    "builtin_function_or_method",
    "instance",
    "_Feature"
   ],
   "window_display": false
  }
 },
 "nbformat": 4,
 "nbformat_minor": 1
}